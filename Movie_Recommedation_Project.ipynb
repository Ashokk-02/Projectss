{
  "nbformat": 4,
  "nbformat_minor": 0,
  "metadata": {
    "colab": {
      "provenance": []
    },
    "kernelspec": {
      "name": "python3",
      "display_name": "Python 3"
    },
    "language_info": {
      "name": "python"
    }
  },
  "cells": [
    {
      "cell_type": "markdown",
      "source": [
        "**Movies Recommendation**\n",
        "\n",
        "**Recommender System** is a system that seeks to predict or fiter preferences according to the user's choices. Recommender systems are utilized in a variety of areas including movies, music, news, books, research articles, search queries, social tegs, and products in general Recommender systems produce a list of recommendations in any of the two ways -\n",
        "\n",
        "**Collaborative filtering:** Collaborative filtening approaches build a model from the user's past behavior (te fems purchased of searched by the user) as well as similor decisions made by other users. This modelis then used to predict nems (ot raungs for stems) that users may have an interest in.\n",
        "\n",
        "**Content-based filtering:** Content-based filtenng appioaches uses a seres of discrete characteristics of an Hem in order to recommend\n",
        "additional items with similar properties Content based fRoring methods ore total\n",
        "based on a description of the item and a profile of the user's\n",
        "preferences. It recommends items based on the user's past preferences. Let's develop a basic recommendation system using Python and\n",
        "Pandas.\n"
      ],
      "metadata": {
        "id": "wkAWqyv-_gUT"
      }
    },
    {
      "cell_type": "code",
      "source": [
        "# import library"
      ],
      "metadata": {
        "id": "fWdheGjZ_UDt"
      },
      "execution_count": null,
      "outputs": []
    },
    {
      "cell_type": "code",
      "source": [
        "import pandas as pd"
      ],
      "metadata": {
        "id": "bYyX_zGQBAhm"
      },
      "execution_count": 25,
      "outputs": []
    },
    {
      "cell_type": "code",
      "source": [
        "import numpy as np"
      ],
      "metadata": {
        "id": "3T013wcVBH0f"
      },
      "execution_count": null,
      "outputs": []
    },
    {
      "cell_type": "code",
      "source": [
        "# Import Dataset\n",
        "df = pd.read_csv('https://github.com/YBIFoundation/Dataset/raw/refs/heads/main/Movies%20Recommendation.csv')"
      ],
      "metadata": {
        "id": "WKju9IOnBPd9"
      },
      "execution_count": 26,
      "outputs": []
    },
    {
      "cell_type": "code",
      "source": [
        "df.head()"
      ],
      "metadata": {
        "colab": {
          "base_uri": "https://localhost:8080/",
          "height": 655
        },
        "id": "a0WnJBr8DFfi",
        "outputId": "0f2682ec-2c07-4464-eb2b-78632c1a1712"
      },
      "execution_count": 27,
      "outputs": [
        {
          "output_type": "execute_result",
          "data": {
            "text/plain": [
              "   Movie_ID      Movie_Title                       Movie_Genre Movie_Language  \\\n",
              "0         1       Four Rooms                      Crime Comedy             en   \n",
              "1         2        Star Wars  Adventure Action Science Fiction             en   \n",
              "2         3     Finding Nemo                  Animation Family             en   \n",
              "3         4     Forrest Gump              Comedy Drama Romance             en   \n",
              "4         5  American Beauty                             Drama             en   \n",
              "\n",
              "   Movie_Budget  Movie_Popularity Movie_Release_Date  Movie_Revenue  \\\n",
              "0       4000000         22.876230         09-12-1995        4300000   \n",
              "1      11000000        126.393695         25-05-1977      775398007   \n",
              "2      94000000         85.688789         30-05-2003      940335536   \n",
              "3      55000000        138.133331         06-07-1994      677945399   \n",
              "4      15000000         80.878605         15-09-1999      356296601   \n",
              "\n",
              "   Movie_Runtime  Movie_Vote  ...  \\\n",
              "0           98.0         6.5  ...   \n",
              "1          121.0         8.1  ...   \n",
              "2          100.0         7.6  ...   \n",
              "3          142.0         8.2  ...   \n",
              "4          122.0         7.9  ...   \n",
              "\n",
              "                                      Movie_Homepage  \\\n",
              "0                                                NaN   \n",
              "1  http://www.starwars.com/films/star-wars-episod...   \n",
              "2              http://movies.disney.com/finding-nemo   \n",
              "3                                                NaN   \n",
              "4                      http://www.dreamworks.com/ab/   \n",
              "\n",
              "                                      Movie_Keywords  \\\n",
              "0          hotel new year's eve witch bet hotel room   \n",
              "1        android galaxy hermit death star lightsaber   \n",
              "2  father son relationship harbor underwater fish...   \n",
              "3  vietnam veteran hippie mentally disabled runni...   \n",
              "4  male nudity female nudity adultery midlife cri...   \n",
              "\n",
              "                                      Movie_Overview  \\\n",
              "0  It's Ted the Bellhop's first night on the job....   \n",
              "1  Princess Leia is captured and held hostage by ...   \n",
              "2  Nemo, an adventurous young clownfish, is unexp...   \n",
              "3  A man with a low IQ has accomplished great thi...   \n",
              "4  Lester Burnham, a depressed suburban father in...   \n",
              "\n",
              "                              Movie_Production_House  \\\n",
              "0  [{\"name\": \"Miramax Films\", \"id\": 14}, {\"name\":...   \n",
              "1  [{\"name\": \"Lucasfilm\", \"id\": 1}, {\"name\": \"Twe...   \n",
              "2     [{\"name\": \"Pixar Animation Studios\", \"id\": 3}]   \n",
              "3          [{\"name\": \"Paramount Pictures\", \"id\": 4}]   \n",
              "4  [{\"name\": \"DreamWorks SKG\", \"id\": 27}, {\"name\"...   \n",
              "\n",
              "                            Movie_Production_Country  \\\n",
              "0  [{\"iso_3166_1\": \"US\", \"name\": \"United States o...   \n",
              "1  [{\"iso_3166_1\": \"US\", \"name\": \"United States o...   \n",
              "2  [{\"iso_3166_1\": \"US\", \"name\": \"United States o...   \n",
              "3  [{\"iso_3166_1\": \"US\", \"name\": \"United States o...   \n",
              "4  [{\"iso_3166_1\": \"US\", \"name\": \"United States o...   \n",
              "\n",
              "                      Movie_Spoken_Language  \\\n",
              "0  [{\"iso_639_1\": \"en\", \"name\": \"English\"}]   \n",
              "1  [{\"iso_639_1\": \"en\", \"name\": \"English\"}]   \n",
              "2  [{\"iso_639_1\": \"en\", \"name\": \"English\"}]   \n",
              "3  [{\"iso_639_1\": \"en\", \"name\": \"English\"}]   \n",
              "4  [{\"iso_639_1\": \"en\", \"name\": \"English\"}]   \n",
              "\n",
              "                                       Movie_Tagline  \\\n",
              "0  Twelve outrageous guests. Four scandalous requ...   \n",
              "1       A long time ago in a galaxy far, far away...   \n",
              "2  There are 3.7 trillion fish in the ocean, they...   \n",
              "3  The world will never be the same, once you've ...   \n",
              "4                                       Look closer.   \n",
              "\n",
              "                                          Movie_Cast  \\\n",
              "0  Tim Roth Antonio Banderas Jennifer Beals Madon...   \n",
              "1  Mark Hamill Harrison Ford Carrie Fisher Peter ...   \n",
              "2  Albert Brooks Ellen DeGeneres Alexander Gould ...   \n",
              "3  Tom Hanks Robin Wright Gary Sinise Mykelti Wil...   \n",
              "4  Kevin Spacey Annette Bening Thora Birch Wes Be...   \n",
              "\n",
              "                                          Movie_Crew   Movie_Director  \n",
              "0  [{'name': 'Allison Anders', 'gender': 1, 'depa...   Allison Anders  \n",
              "1  [{'name': 'George Lucas', 'gender': 2, 'depart...     George Lucas  \n",
              "2  [{'name': 'Andrew Stanton', 'gender': 2, 'depa...   Andrew Stanton  \n",
              "3  [{'name': 'Alan Silvestri', 'gender': 2, 'depa...  Robert Zemeckis  \n",
              "4  [{'name': 'Thomas Newman', 'gender': 2, 'depar...       Sam Mendes  \n",
              "\n",
              "[5 rows x 21 columns]"
            ],
            "text/html": [
              "\n",
              "  <div id=\"df-f40b904f-61ec-4295-a6b0-aedb9f5d0081\" class=\"colab-df-container\">\n",
              "    <div>\n",
              "<style scoped>\n",
              "    .dataframe tbody tr th:only-of-type {\n",
              "        vertical-align: middle;\n",
              "    }\n",
              "\n",
              "    .dataframe tbody tr th {\n",
              "        vertical-align: top;\n",
              "    }\n",
              "\n",
              "    .dataframe thead th {\n",
              "        text-align: right;\n",
              "    }\n",
              "</style>\n",
              "<table border=\"1\" class=\"dataframe\">\n",
              "  <thead>\n",
              "    <tr style=\"text-align: right;\">\n",
              "      <th></th>\n",
              "      <th>Movie_ID</th>\n",
              "      <th>Movie_Title</th>\n",
              "      <th>Movie_Genre</th>\n",
              "      <th>Movie_Language</th>\n",
              "      <th>Movie_Budget</th>\n",
              "      <th>Movie_Popularity</th>\n",
              "      <th>Movie_Release_Date</th>\n",
              "      <th>Movie_Revenue</th>\n",
              "      <th>Movie_Runtime</th>\n",
              "      <th>Movie_Vote</th>\n",
              "      <th>...</th>\n",
              "      <th>Movie_Homepage</th>\n",
              "      <th>Movie_Keywords</th>\n",
              "      <th>Movie_Overview</th>\n",
              "      <th>Movie_Production_House</th>\n",
              "      <th>Movie_Production_Country</th>\n",
              "      <th>Movie_Spoken_Language</th>\n",
              "      <th>Movie_Tagline</th>\n",
              "      <th>Movie_Cast</th>\n",
              "      <th>Movie_Crew</th>\n",
              "      <th>Movie_Director</th>\n",
              "    </tr>\n",
              "  </thead>\n",
              "  <tbody>\n",
              "    <tr>\n",
              "      <th>0</th>\n",
              "      <td>1</td>\n",
              "      <td>Four Rooms</td>\n",
              "      <td>Crime Comedy</td>\n",
              "      <td>en</td>\n",
              "      <td>4000000</td>\n",
              "      <td>22.876230</td>\n",
              "      <td>09-12-1995</td>\n",
              "      <td>4300000</td>\n",
              "      <td>98.0</td>\n",
              "      <td>6.5</td>\n",
              "      <td>...</td>\n",
              "      <td>NaN</td>\n",
              "      <td>hotel new year's eve witch bet hotel room</td>\n",
              "      <td>It's Ted the Bellhop's first night on the job....</td>\n",
              "      <td>[{\"name\": \"Miramax Films\", \"id\": 14}, {\"name\":...</td>\n",
              "      <td>[{\"iso_3166_1\": \"US\", \"name\": \"United States o...</td>\n",
              "      <td>[{\"iso_639_1\": \"en\", \"name\": \"English\"}]</td>\n",
              "      <td>Twelve outrageous guests. Four scandalous requ...</td>\n",
              "      <td>Tim Roth Antonio Banderas Jennifer Beals Madon...</td>\n",
              "      <td>[{'name': 'Allison Anders', 'gender': 1, 'depa...</td>\n",
              "      <td>Allison Anders</td>\n",
              "    </tr>\n",
              "    <tr>\n",
              "      <th>1</th>\n",
              "      <td>2</td>\n",
              "      <td>Star Wars</td>\n",
              "      <td>Adventure Action Science Fiction</td>\n",
              "      <td>en</td>\n",
              "      <td>11000000</td>\n",
              "      <td>126.393695</td>\n",
              "      <td>25-05-1977</td>\n",
              "      <td>775398007</td>\n",
              "      <td>121.0</td>\n",
              "      <td>8.1</td>\n",
              "      <td>...</td>\n",
              "      <td>http://www.starwars.com/films/star-wars-episod...</td>\n",
              "      <td>android galaxy hermit death star lightsaber</td>\n",
              "      <td>Princess Leia is captured and held hostage by ...</td>\n",
              "      <td>[{\"name\": \"Lucasfilm\", \"id\": 1}, {\"name\": \"Twe...</td>\n",
              "      <td>[{\"iso_3166_1\": \"US\", \"name\": \"United States o...</td>\n",
              "      <td>[{\"iso_639_1\": \"en\", \"name\": \"English\"}]</td>\n",
              "      <td>A long time ago in a galaxy far, far away...</td>\n",
              "      <td>Mark Hamill Harrison Ford Carrie Fisher Peter ...</td>\n",
              "      <td>[{'name': 'George Lucas', 'gender': 2, 'depart...</td>\n",
              "      <td>George Lucas</td>\n",
              "    </tr>\n",
              "    <tr>\n",
              "      <th>2</th>\n",
              "      <td>3</td>\n",
              "      <td>Finding Nemo</td>\n",
              "      <td>Animation Family</td>\n",
              "      <td>en</td>\n",
              "      <td>94000000</td>\n",
              "      <td>85.688789</td>\n",
              "      <td>30-05-2003</td>\n",
              "      <td>940335536</td>\n",
              "      <td>100.0</td>\n",
              "      <td>7.6</td>\n",
              "      <td>...</td>\n",
              "      <td>http://movies.disney.com/finding-nemo</td>\n",
              "      <td>father son relationship harbor underwater fish...</td>\n",
              "      <td>Nemo, an adventurous young clownfish, is unexp...</td>\n",
              "      <td>[{\"name\": \"Pixar Animation Studios\", \"id\": 3}]</td>\n",
              "      <td>[{\"iso_3166_1\": \"US\", \"name\": \"United States o...</td>\n",
              "      <td>[{\"iso_639_1\": \"en\", \"name\": \"English\"}]</td>\n",
              "      <td>There are 3.7 trillion fish in the ocean, they...</td>\n",
              "      <td>Albert Brooks Ellen DeGeneres Alexander Gould ...</td>\n",
              "      <td>[{'name': 'Andrew Stanton', 'gender': 2, 'depa...</td>\n",
              "      <td>Andrew Stanton</td>\n",
              "    </tr>\n",
              "    <tr>\n",
              "      <th>3</th>\n",
              "      <td>4</td>\n",
              "      <td>Forrest Gump</td>\n",
              "      <td>Comedy Drama Romance</td>\n",
              "      <td>en</td>\n",
              "      <td>55000000</td>\n",
              "      <td>138.133331</td>\n",
              "      <td>06-07-1994</td>\n",
              "      <td>677945399</td>\n",
              "      <td>142.0</td>\n",
              "      <td>8.2</td>\n",
              "      <td>...</td>\n",
              "      <td>NaN</td>\n",
              "      <td>vietnam veteran hippie mentally disabled runni...</td>\n",
              "      <td>A man with a low IQ has accomplished great thi...</td>\n",
              "      <td>[{\"name\": \"Paramount Pictures\", \"id\": 4}]</td>\n",
              "      <td>[{\"iso_3166_1\": \"US\", \"name\": \"United States o...</td>\n",
              "      <td>[{\"iso_639_1\": \"en\", \"name\": \"English\"}]</td>\n",
              "      <td>The world will never be the same, once you've ...</td>\n",
              "      <td>Tom Hanks Robin Wright Gary Sinise Mykelti Wil...</td>\n",
              "      <td>[{'name': 'Alan Silvestri', 'gender': 2, 'depa...</td>\n",
              "      <td>Robert Zemeckis</td>\n",
              "    </tr>\n",
              "    <tr>\n",
              "      <th>4</th>\n",
              "      <td>5</td>\n",
              "      <td>American Beauty</td>\n",
              "      <td>Drama</td>\n",
              "      <td>en</td>\n",
              "      <td>15000000</td>\n",
              "      <td>80.878605</td>\n",
              "      <td>15-09-1999</td>\n",
              "      <td>356296601</td>\n",
              "      <td>122.0</td>\n",
              "      <td>7.9</td>\n",
              "      <td>...</td>\n",
              "      <td>http://www.dreamworks.com/ab/</td>\n",
              "      <td>male nudity female nudity adultery midlife cri...</td>\n",
              "      <td>Lester Burnham, a depressed suburban father in...</td>\n",
              "      <td>[{\"name\": \"DreamWorks SKG\", \"id\": 27}, {\"name\"...</td>\n",
              "      <td>[{\"iso_3166_1\": \"US\", \"name\": \"United States o...</td>\n",
              "      <td>[{\"iso_639_1\": \"en\", \"name\": \"English\"}]</td>\n",
              "      <td>Look closer.</td>\n",
              "      <td>Kevin Spacey Annette Bening Thora Birch Wes Be...</td>\n",
              "      <td>[{'name': 'Thomas Newman', 'gender': 2, 'depar...</td>\n",
              "      <td>Sam Mendes</td>\n",
              "    </tr>\n",
              "  </tbody>\n",
              "</table>\n",
              "<p>5 rows × 21 columns</p>\n",
              "</div>\n",
              "    <div class=\"colab-df-buttons\">\n",
              "\n",
              "  <div class=\"colab-df-container\">\n",
              "    <button class=\"colab-df-convert\" onclick=\"convertToInteractive('df-f40b904f-61ec-4295-a6b0-aedb9f5d0081')\"\n",
              "            title=\"Convert this dataframe to an interactive table.\"\n",
              "            style=\"display:none;\">\n",
              "\n",
              "  <svg xmlns=\"http://www.w3.org/2000/svg\" height=\"24px\" viewBox=\"0 -960 960 960\">\n",
              "    <path d=\"M120-120v-720h720v720H120Zm60-500h600v-160H180v160Zm220 220h160v-160H400v160Zm0 220h160v-160H400v160ZM180-400h160v-160H180v160Zm440 0h160v-160H620v160ZM180-180h160v-160H180v160Zm440 0h160v-160H620v160Z\"/>\n",
              "  </svg>\n",
              "    </button>\n",
              "\n",
              "  <style>\n",
              "    .colab-df-container {\n",
              "      display:flex;\n",
              "      gap: 12px;\n",
              "    }\n",
              "\n",
              "    .colab-df-convert {\n",
              "      background-color: #E8F0FE;\n",
              "      border: none;\n",
              "      border-radius: 50%;\n",
              "      cursor: pointer;\n",
              "      display: none;\n",
              "      fill: #1967D2;\n",
              "      height: 32px;\n",
              "      padding: 0 0 0 0;\n",
              "      width: 32px;\n",
              "    }\n",
              "\n",
              "    .colab-df-convert:hover {\n",
              "      background-color: #E2EBFA;\n",
              "      box-shadow: 0px 1px 2px rgba(60, 64, 67, 0.3), 0px 1px 3px 1px rgba(60, 64, 67, 0.15);\n",
              "      fill: #174EA6;\n",
              "    }\n",
              "\n",
              "    .colab-df-buttons div {\n",
              "      margin-bottom: 4px;\n",
              "    }\n",
              "\n",
              "    [theme=dark] .colab-df-convert {\n",
              "      background-color: #3B4455;\n",
              "      fill: #D2E3FC;\n",
              "    }\n",
              "\n",
              "    [theme=dark] .colab-df-convert:hover {\n",
              "      background-color: #434B5C;\n",
              "      box-shadow: 0px 1px 3px 1px rgba(0, 0, 0, 0.15);\n",
              "      filter: drop-shadow(0px 1px 2px rgba(0, 0, 0, 0.3));\n",
              "      fill: #FFFFFF;\n",
              "    }\n",
              "  </style>\n",
              "\n",
              "    <script>\n",
              "      const buttonEl =\n",
              "        document.querySelector('#df-f40b904f-61ec-4295-a6b0-aedb9f5d0081 button.colab-df-convert');\n",
              "      buttonEl.style.display =\n",
              "        google.colab.kernel.accessAllowed ? 'block' : 'none';\n",
              "\n",
              "      async function convertToInteractive(key) {\n",
              "        const element = document.querySelector('#df-f40b904f-61ec-4295-a6b0-aedb9f5d0081');\n",
              "        const dataTable =\n",
              "          await google.colab.kernel.invokeFunction('convertToInteractive',\n",
              "                                                    [key], {});\n",
              "        if (!dataTable) return;\n",
              "\n",
              "        const docLinkHtml = 'Like what you see? Visit the ' +\n",
              "          '<a target=\"_blank\" href=https://colab.research.google.com/notebooks/data_table.ipynb>data table notebook</a>'\n",
              "          + ' to learn more about interactive tables.';\n",
              "        element.innerHTML = '';\n",
              "        dataTable['output_type'] = 'display_data';\n",
              "        await google.colab.output.renderOutput(dataTable, element);\n",
              "        const docLink = document.createElement('div');\n",
              "        docLink.innerHTML = docLinkHtml;\n",
              "        element.appendChild(docLink);\n",
              "      }\n",
              "    </script>\n",
              "  </div>\n",
              "\n",
              "\n",
              "<div id=\"df-ab53ebe3-4e8e-4e69-9a2a-069e27c2b172\">\n",
              "  <button class=\"colab-df-quickchart\" onclick=\"quickchart('df-ab53ebe3-4e8e-4e69-9a2a-069e27c2b172')\"\n",
              "            title=\"Suggest charts\"\n",
              "            style=\"display:none;\">\n",
              "\n",
              "<svg xmlns=\"http://www.w3.org/2000/svg\" height=\"24px\"viewBox=\"0 0 24 24\"\n",
              "     width=\"24px\">\n",
              "    <g>\n",
              "        <path d=\"M19 3H5c-1.1 0-2 .9-2 2v14c0 1.1.9 2 2 2h14c1.1 0 2-.9 2-2V5c0-1.1-.9-2-2-2zM9 17H7v-7h2v7zm4 0h-2V7h2v10zm4 0h-2v-4h2v4z\"/>\n",
              "    </g>\n",
              "</svg>\n",
              "  </button>\n",
              "\n",
              "<style>\n",
              "  .colab-df-quickchart {\n",
              "      --bg-color: #E8F0FE;\n",
              "      --fill-color: #1967D2;\n",
              "      --hover-bg-color: #E2EBFA;\n",
              "      --hover-fill-color: #174EA6;\n",
              "      --disabled-fill-color: #AAA;\n",
              "      --disabled-bg-color: #DDD;\n",
              "  }\n",
              "\n",
              "  [theme=dark] .colab-df-quickchart {\n",
              "      --bg-color: #3B4455;\n",
              "      --fill-color: #D2E3FC;\n",
              "      --hover-bg-color: #434B5C;\n",
              "      --hover-fill-color: #FFFFFF;\n",
              "      --disabled-bg-color: #3B4455;\n",
              "      --disabled-fill-color: #666;\n",
              "  }\n",
              "\n",
              "  .colab-df-quickchart {\n",
              "    background-color: var(--bg-color);\n",
              "    border: none;\n",
              "    border-radius: 50%;\n",
              "    cursor: pointer;\n",
              "    display: none;\n",
              "    fill: var(--fill-color);\n",
              "    height: 32px;\n",
              "    padding: 0;\n",
              "    width: 32px;\n",
              "  }\n",
              "\n",
              "  .colab-df-quickchart:hover {\n",
              "    background-color: var(--hover-bg-color);\n",
              "    box-shadow: 0 1px 2px rgba(60, 64, 67, 0.3), 0 1px 3px 1px rgba(60, 64, 67, 0.15);\n",
              "    fill: var(--button-hover-fill-color);\n",
              "  }\n",
              "\n",
              "  .colab-df-quickchart-complete:disabled,\n",
              "  .colab-df-quickchart-complete:disabled:hover {\n",
              "    background-color: var(--disabled-bg-color);\n",
              "    fill: var(--disabled-fill-color);\n",
              "    box-shadow: none;\n",
              "  }\n",
              "\n",
              "  .colab-df-spinner {\n",
              "    border: 2px solid var(--fill-color);\n",
              "    border-color: transparent;\n",
              "    border-bottom-color: var(--fill-color);\n",
              "    animation:\n",
              "      spin 1s steps(1) infinite;\n",
              "  }\n",
              "\n",
              "  @keyframes spin {\n",
              "    0% {\n",
              "      border-color: transparent;\n",
              "      border-bottom-color: var(--fill-color);\n",
              "      border-left-color: var(--fill-color);\n",
              "    }\n",
              "    20% {\n",
              "      border-color: transparent;\n",
              "      border-left-color: var(--fill-color);\n",
              "      border-top-color: var(--fill-color);\n",
              "    }\n",
              "    30% {\n",
              "      border-color: transparent;\n",
              "      border-left-color: var(--fill-color);\n",
              "      border-top-color: var(--fill-color);\n",
              "      border-right-color: var(--fill-color);\n",
              "    }\n",
              "    40% {\n",
              "      border-color: transparent;\n",
              "      border-right-color: var(--fill-color);\n",
              "      border-top-color: var(--fill-color);\n",
              "    }\n",
              "    60% {\n",
              "      border-color: transparent;\n",
              "      border-right-color: var(--fill-color);\n",
              "    }\n",
              "    80% {\n",
              "      border-color: transparent;\n",
              "      border-right-color: var(--fill-color);\n",
              "      border-bottom-color: var(--fill-color);\n",
              "    }\n",
              "    90% {\n",
              "      border-color: transparent;\n",
              "      border-bottom-color: var(--fill-color);\n",
              "    }\n",
              "  }\n",
              "</style>\n",
              "\n",
              "  <script>\n",
              "    async function quickchart(key) {\n",
              "      const quickchartButtonEl =\n",
              "        document.querySelector('#' + key + ' button');\n",
              "      quickchartButtonEl.disabled = true;  // To prevent multiple clicks.\n",
              "      quickchartButtonEl.classList.add('colab-df-spinner');\n",
              "      try {\n",
              "        const charts = await google.colab.kernel.invokeFunction(\n",
              "            'suggestCharts', [key], {});\n",
              "      } catch (error) {\n",
              "        console.error('Error during call to suggestCharts:', error);\n",
              "      }\n",
              "      quickchartButtonEl.classList.remove('colab-df-spinner');\n",
              "      quickchartButtonEl.classList.add('colab-df-quickchart-complete');\n",
              "    }\n",
              "    (() => {\n",
              "      let quickchartButtonEl =\n",
              "        document.querySelector('#df-ab53ebe3-4e8e-4e69-9a2a-069e27c2b172 button');\n",
              "      quickchartButtonEl.style.display =\n",
              "        google.colab.kernel.accessAllowed ? 'block' : 'none';\n",
              "    })();\n",
              "  </script>\n",
              "</div>\n",
              "\n",
              "    </div>\n",
              "  </div>\n"
            ],
            "application/vnd.google.colaboratory.intrinsic+json": {
              "type": "dataframe",
              "variable_name": "df"
            }
          },
          "metadata": {},
          "execution_count": 27
        }
      ]
    },
    {
      "cell_type": "code",
      "source": [
        "df.info()"
      ],
      "metadata": {
        "colab": {
          "base_uri": "https://localhost:8080/"
        },
        "id": "qa6Lt3ScDms5",
        "outputId": "341422fe-539b-42ad-d94e-b42dc4100657"
      },
      "execution_count": 28,
      "outputs": [
        {
          "output_type": "stream",
          "name": "stdout",
          "text": [
            "<class 'pandas.core.frame.DataFrame'>\n",
            "RangeIndex: 4760 entries, 0 to 4759\n",
            "Data columns (total 21 columns):\n",
            " #   Column                    Non-Null Count  Dtype  \n",
            "---  ------                    --------------  -----  \n",
            " 0   Movie_ID                  4760 non-null   int64  \n",
            " 1   Movie_Title               4760 non-null   object \n",
            " 2   Movie_Genre               4760 non-null   object \n",
            " 3   Movie_Language            4760 non-null   object \n",
            " 4   Movie_Budget              4760 non-null   int64  \n",
            " 5   Movie_Popularity          4760 non-null   float64\n",
            " 6   Movie_Release_Date        4760 non-null   object \n",
            " 7   Movie_Revenue             4760 non-null   int64  \n",
            " 8   Movie_Runtime             4758 non-null   float64\n",
            " 9   Movie_Vote                4760 non-null   float64\n",
            " 10  Movie_Vote_Count          4760 non-null   int64  \n",
            " 11  Movie_Homepage            1699 non-null   object \n",
            " 12  Movie_Keywords            4373 non-null   object \n",
            " 13  Movie_Overview            4757 non-null   object \n",
            " 14  Movie_Production_House    4760 non-null   object \n",
            " 15  Movie_Production_Country  4760 non-null   object \n",
            " 16  Movie_Spoken_Language     4760 non-null   object \n",
            " 17  Movie_Tagline             3942 non-null   object \n",
            " 18  Movie_Cast                4733 non-null   object \n",
            " 19  Movie_Crew                4760 non-null   object \n",
            " 20  Movie_Director            4738 non-null   object \n",
            "dtypes: float64(3), int64(4), object(14)\n",
            "memory usage: 781.1+ KB\n"
          ]
        }
      ]
    },
    {
      "cell_type": "code",
      "source": [
        "df.shape"
      ],
      "metadata": {
        "colab": {
          "base_uri": "https://localhost:8080/"
        },
        "id": "u-tfobxnD6w4",
        "outputId": "cc1d0014-a698-4354-d9b3-487003bcc512"
      },
      "execution_count": 29,
      "outputs": [
        {
          "output_type": "execute_result",
          "data": {
            "text/plain": [
              "(4760, 21)"
            ]
          },
          "metadata": {},
          "execution_count": 29
        }
      ]
    },
    {
      "cell_type": "code",
      "source": [
        "df.columns"
      ],
      "metadata": {
        "colab": {
          "base_uri": "https://localhost:8080/"
        },
        "id": "bGvJ9QXvEBko",
        "outputId": "eba28fa6-e807-425e-f381-cf36249a7b49"
      },
      "execution_count": 30,
      "outputs": [
        {
          "output_type": "execute_result",
          "data": {
            "text/plain": [
              "Index(['Movie_ID', 'Movie_Title', 'Movie_Genre', 'Movie_Language',\n",
              "       'Movie_Budget', 'Movie_Popularity', 'Movie_Release_Date',\n",
              "       'Movie_Revenue', 'Movie_Runtime', 'Movie_Vote', 'Movie_Vote_Count',\n",
              "       'Movie_Homepage', 'Movie_Keywords', 'Movie_Overview',\n",
              "       'Movie_Production_House', 'Movie_Production_Country',\n",
              "       'Movie_Spoken_Language', 'Movie_Tagline', 'Movie_Cast', 'Movie_Crew',\n",
              "       'Movie_Director'],\n",
              "      dtype='object')"
            ]
          },
          "metadata": {},
          "execution_count": 30
        }
      ]
    },
    {
      "cell_type": "code",
      "source": [
        "# Describe Data"
      ],
      "metadata": {
        "id": "ORuypMiFEFfJ"
      },
      "execution_count": null,
      "outputs": []
    },
    {
      "cell_type": "code",
      "source": [
        "df_features = df[['Movie_Genre','Movie_Keywords','Movie_Tagline','Movie_Cast','Movie_Director']].fillna('')"
      ],
      "metadata": {
        "id": "NFnG-rxQEmUK"
      },
      "execution_count": 31,
      "outputs": []
    },
    {
      "cell_type": "code",
      "source": [
        "df_features.shape"
      ],
      "metadata": {
        "colab": {
          "base_uri": "https://localhost:8080/"
        },
        "id": "ogadhQ84FtZM",
        "outputId": "e6eaa81e-9534-4d7b-9347-6fe0914704de"
      },
      "execution_count": 32,
      "outputs": [
        {
          "output_type": "execute_result",
          "data": {
            "text/plain": [
              "(4760, 5)"
            ]
          },
          "metadata": {},
          "execution_count": 32
        }
      ]
    },
    {
      "cell_type": "code",
      "source": [
        "df_features"
      ],
      "metadata": {
        "colab": {
          "base_uri": "https://localhost:8080/",
          "height": 424
        },
        "id": "JNuWu6mxGIQ8",
        "outputId": "7cf6a3f4-3c3d-4b77-f20d-b288ae192fff"
      },
      "execution_count": 33,
      "outputs": [
        {
          "output_type": "execute_result",
          "data": {
            "text/plain": [
              "                           Movie_Genre  \\\n",
              "0                         Crime Comedy   \n",
              "1     Adventure Action Science Fiction   \n",
              "2                     Animation Family   \n",
              "3                 Comedy Drama Romance   \n",
              "4                                Drama   \n",
              "...                                ...   \n",
              "4755                            Horror   \n",
              "4756               Comedy Family Drama   \n",
              "4757                    Thriller Drama   \n",
              "4758                            Family   \n",
              "4759                       Documentary   \n",
              "\n",
              "                                         Movie_Keywords  \\\n",
              "0             hotel new year's eve witch bet hotel room   \n",
              "1           android galaxy hermit death star lightsaber   \n",
              "2     father son relationship harbor underwater fish...   \n",
              "3     vietnam veteran hippie mentally disabled runni...   \n",
              "4     male nudity female nudity adultery midlife cri...   \n",
              "...                                                 ...   \n",
              "4755                                                      \n",
              "4756                                                      \n",
              "4757                     christian film sex trafficking   \n",
              "4758                                                      \n",
              "4759  music actors legendary perfomer classic hollyw...   \n",
              "\n",
              "                                          Movie_Tagline  \\\n",
              "0     Twelve outrageous guests. Four scandalous requ...   \n",
              "1          A long time ago in a galaxy far, far away...   \n",
              "2     There are 3.7 trillion fish in the ocean, they...   \n",
              "3     The world will never be the same, once you've ...   \n",
              "4                                          Look closer.   \n",
              "...                                                 ...   \n",
              "4755                The hot spot where Satan's waitin'.   \n",
              "4756           It’s better to stand out than to fit in.   \n",
              "4757           She never knew it could happen to her...   \n",
              "4758                                                      \n",
              "4759                                                      \n",
              "\n",
              "                                             Movie_Cast     Movie_Director  \n",
              "0     Tim Roth Antonio Banderas Jennifer Beals Madon...     Allison Anders  \n",
              "1     Mark Hamill Harrison Ford Carrie Fisher Peter ...       George Lucas  \n",
              "2     Albert Brooks Ellen DeGeneres Alexander Gould ...     Andrew Stanton  \n",
              "3     Tom Hanks Robin Wright Gary Sinise Mykelti Wil...    Robert Zemeckis  \n",
              "4     Kevin Spacey Annette Bening Thora Birch Wes Be...         Sam Mendes  \n",
              "...                                                 ...                ...  \n",
              "4755  Lisa Hart Carroll Michael Des Barres Paul Drak...         Pece Dingo  \n",
              "4756  Roni Akurati Brighton Sharbino Jason Lee Anjul...       Frank Lotito  \n",
              "4757  Nicole Smolen Kim Baldwin Ariana Stephens Brys...       Jaco Booyens  \n",
              "4758                                                                        \n",
              "4759                                    Tony Oppedisano  Simon Napier-Bell  \n",
              "\n",
              "[4760 rows x 5 columns]"
            ],
            "text/html": [
              "\n",
              "  <div id=\"df-588a8d0a-d766-47ef-9fc6-16ecadb1fae7\" class=\"colab-df-container\">\n",
              "    <div>\n",
              "<style scoped>\n",
              "    .dataframe tbody tr th:only-of-type {\n",
              "        vertical-align: middle;\n",
              "    }\n",
              "\n",
              "    .dataframe tbody tr th {\n",
              "        vertical-align: top;\n",
              "    }\n",
              "\n",
              "    .dataframe thead th {\n",
              "        text-align: right;\n",
              "    }\n",
              "</style>\n",
              "<table border=\"1\" class=\"dataframe\">\n",
              "  <thead>\n",
              "    <tr style=\"text-align: right;\">\n",
              "      <th></th>\n",
              "      <th>Movie_Genre</th>\n",
              "      <th>Movie_Keywords</th>\n",
              "      <th>Movie_Tagline</th>\n",
              "      <th>Movie_Cast</th>\n",
              "      <th>Movie_Director</th>\n",
              "    </tr>\n",
              "  </thead>\n",
              "  <tbody>\n",
              "    <tr>\n",
              "      <th>0</th>\n",
              "      <td>Crime Comedy</td>\n",
              "      <td>hotel new year's eve witch bet hotel room</td>\n",
              "      <td>Twelve outrageous guests. Four scandalous requ...</td>\n",
              "      <td>Tim Roth Antonio Banderas Jennifer Beals Madon...</td>\n",
              "      <td>Allison Anders</td>\n",
              "    </tr>\n",
              "    <tr>\n",
              "      <th>1</th>\n",
              "      <td>Adventure Action Science Fiction</td>\n",
              "      <td>android galaxy hermit death star lightsaber</td>\n",
              "      <td>A long time ago in a galaxy far, far away...</td>\n",
              "      <td>Mark Hamill Harrison Ford Carrie Fisher Peter ...</td>\n",
              "      <td>George Lucas</td>\n",
              "    </tr>\n",
              "    <tr>\n",
              "      <th>2</th>\n",
              "      <td>Animation Family</td>\n",
              "      <td>father son relationship harbor underwater fish...</td>\n",
              "      <td>There are 3.7 trillion fish in the ocean, they...</td>\n",
              "      <td>Albert Brooks Ellen DeGeneres Alexander Gould ...</td>\n",
              "      <td>Andrew Stanton</td>\n",
              "    </tr>\n",
              "    <tr>\n",
              "      <th>3</th>\n",
              "      <td>Comedy Drama Romance</td>\n",
              "      <td>vietnam veteran hippie mentally disabled runni...</td>\n",
              "      <td>The world will never be the same, once you've ...</td>\n",
              "      <td>Tom Hanks Robin Wright Gary Sinise Mykelti Wil...</td>\n",
              "      <td>Robert Zemeckis</td>\n",
              "    </tr>\n",
              "    <tr>\n",
              "      <th>4</th>\n",
              "      <td>Drama</td>\n",
              "      <td>male nudity female nudity adultery midlife cri...</td>\n",
              "      <td>Look closer.</td>\n",
              "      <td>Kevin Spacey Annette Bening Thora Birch Wes Be...</td>\n",
              "      <td>Sam Mendes</td>\n",
              "    </tr>\n",
              "    <tr>\n",
              "      <th>...</th>\n",
              "      <td>...</td>\n",
              "      <td>...</td>\n",
              "      <td>...</td>\n",
              "      <td>...</td>\n",
              "      <td>...</td>\n",
              "    </tr>\n",
              "    <tr>\n",
              "      <th>4755</th>\n",
              "      <td>Horror</td>\n",
              "      <td></td>\n",
              "      <td>The hot spot where Satan's waitin'.</td>\n",
              "      <td>Lisa Hart Carroll Michael Des Barres Paul Drak...</td>\n",
              "      <td>Pece Dingo</td>\n",
              "    </tr>\n",
              "    <tr>\n",
              "      <th>4756</th>\n",
              "      <td>Comedy Family Drama</td>\n",
              "      <td></td>\n",
              "      <td>It’s better to stand out than to fit in.</td>\n",
              "      <td>Roni Akurati Brighton Sharbino Jason Lee Anjul...</td>\n",
              "      <td>Frank Lotito</td>\n",
              "    </tr>\n",
              "    <tr>\n",
              "      <th>4757</th>\n",
              "      <td>Thriller Drama</td>\n",
              "      <td>christian film sex trafficking</td>\n",
              "      <td>She never knew it could happen to her...</td>\n",
              "      <td>Nicole Smolen Kim Baldwin Ariana Stephens Brys...</td>\n",
              "      <td>Jaco Booyens</td>\n",
              "    </tr>\n",
              "    <tr>\n",
              "      <th>4758</th>\n",
              "      <td>Family</td>\n",
              "      <td></td>\n",
              "      <td></td>\n",
              "      <td></td>\n",
              "      <td></td>\n",
              "    </tr>\n",
              "    <tr>\n",
              "      <th>4759</th>\n",
              "      <td>Documentary</td>\n",
              "      <td>music actors legendary perfomer classic hollyw...</td>\n",
              "      <td></td>\n",
              "      <td>Tony Oppedisano</td>\n",
              "      <td>Simon Napier-Bell</td>\n",
              "    </tr>\n",
              "  </tbody>\n",
              "</table>\n",
              "<p>4760 rows × 5 columns</p>\n",
              "</div>\n",
              "    <div class=\"colab-df-buttons\">\n",
              "\n",
              "  <div class=\"colab-df-container\">\n",
              "    <button class=\"colab-df-convert\" onclick=\"convertToInteractive('df-588a8d0a-d766-47ef-9fc6-16ecadb1fae7')\"\n",
              "            title=\"Convert this dataframe to an interactive table.\"\n",
              "            style=\"display:none;\">\n",
              "\n",
              "  <svg xmlns=\"http://www.w3.org/2000/svg\" height=\"24px\" viewBox=\"0 -960 960 960\">\n",
              "    <path d=\"M120-120v-720h720v720H120Zm60-500h600v-160H180v160Zm220 220h160v-160H400v160Zm0 220h160v-160H400v160ZM180-400h160v-160H180v160Zm440 0h160v-160H620v160ZM180-180h160v-160H180v160Zm440 0h160v-160H620v160Z\"/>\n",
              "  </svg>\n",
              "    </button>\n",
              "\n",
              "  <style>\n",
              "    .colab-df-container {\n",
              "      display:flex;\n",
              "      gap: 12px;\n",
              "    }\n",
              "\n",
              "    .colab-df-convert {\n",
              "      background-color: #E8F0FE;\n",
              "      border: none;\n",
              "      border-radius: 50%;\n",
              "      cursor: pointer;\n",
              "      display: none;\n",
              "      fill: #1967D2;\n",
              "      height: 32px;\n",
              "      padding: 0 0 0 0;\n",
              "      width: 32px;\n",
              "    }\n",
              "\n",
              "    .colab-df-convert:hover {\n",
              "      background-color: #E2EBFA;\n",
              "      box-shadow: 0px 1px 2px rgba(60, 64, 67, 0.3), 0px 1px 3px 1px rgba(60, 64, 67, 0.15);\n",
              "      fill: #174EA6;\n",
              "    }\n",
              "\n",
              "    .colab-df-buttons div {\n",
              "      margin-bottom: 4px;\n",
              "    }\n",
              "\n",
              "    [theme=dark] .colab-df-convert {\n",
              "      background-color: #3B4455;\n",
              "      fill: #D2E3FC;\n",
              "    }\n",
              "\n",
              "    [theme=dark] .colab-df-convert:hover {\n",
              "      background-color: #434B5C;\n",
              "      box-shadow: 0px 1px 3px 1px rgba(0, 0, 0, 0.15);\n",
              "      filter: drop-shadow(0px 1px 2px rgba(0, 0, 0, 0.3));\n",
              "      fill: #FFFFFF;\n",
              "    }\n",
              "  </style>\n",
              "\n",
              "    <script>\n",
              "      const buttonEl =\n",
              "        document.querySelector('#df-588a8d0a-d766-47ef-9fc6-16ecadb1fae7 button.colab-df-convert');\n",
              "      buttonEl.style.display =\n",
              "        google.colab.kernel.accessAllowed ? 'block' : 'none';\n",
              "\n",
              "      async function convertToInteractive(key) {\n",
              "        const element = document.querySelector('#df-588a8d0a-d766-47ef-9fc6-16ecadb1fae7');\n",
              "        const dataTable =\n",
              "          await google.colab.kernel.invokeFunction('convertToInteractive',\n",
              "                                                    [key], {});\n",
              "        if (!dataTable) return;\n",
              "\n",
              "        const docLinkHtml = 'Like what you see? Visit the ' +\n",
              "          '<a target=\"_blank\" href=https://colab.research.google.com/notebooks/data_table.ipynb>data table notebook</a>'\n",
              "          + ' to learn more about interactive tables.';\n",
              "        element.innerHTML = '';\n",
              "        dataTable['output_type'] = 'display_data';\n",
              "        await google.colab.output.renderOutput(dataTable, element);\n",
              "        const docLink = document.createElement('div');\n",
              "        docLink.innerHTML = docLinkHtml;\n",
              "        element.appendChild(docLink);\n",
              "      }\n",
              "    </script>\n",
              "  </div>\n",
              "\n",
              "\n",
              "<div id=\"df-a64ae033-c5b2-4a7a-9454-b8c2e5b2c78c\">\n",
              "  <button class=\"colab-df-quickchart\" onclick=\"quickchart('df-a64ae033-c5b2-4a7a-9454-b8c2e5b2c78c')\"\n",
              "            title=\"Suggest charts\"\n",
              "            style=\"display:none;\">\n",
              "\n",
              "<svg xmlns=\"http://www.w3.org/2000/svg\" height=\"24px\"viewBox=\"0 0 24 24\"\n",
              "     width=\"24px\">\n",
              "    <g>\n",
              "        <path d=\"M19 3H5c-1.1 0-2 .9-2 2v14c0 1.1.9 2 2 2h14c1.1 0 2-.9 2-2V5c0-1.1-.9-2-2-2zM9 17H7v-7h2v7zm4 0h-2V7h2v10zm4 0h-2v-4h2v4z\"/>\n",
              "    </g>\n",
              "</svg>\n",
              "  </button>\n",
              "\n",
              "<style>\n",
              "  .colab-df-quickchart {\n",
              "      --bg-color: #E8F0FE;\n",
              "      --fill-color: #1967D2;\n",
              "      --hover-bg-color: #E2EBFA;\n",
              "      --hover-fill-color: #174EA6;\n",
              "      --disabled-fill-color: #AAA;\n",
              "      --disabled-bg-color: #DDD;\n",
              "  }\n",
              "\n",
              "  [theme=dark] .colab-df-quickchart {\n",
              "      --bg-color: #3B4455;\n",
              "      --fill-color: #D2E3FC;\n",
              "      --hover-bg-color: #434B5C;\n",
              "      --hover-fill-color: #FFFFFF;\n",
              "      --disabled-bg-color: #3B4455;\n",
              "      --disabled-fill-color: #666;\n",
              "  }\n",
              "\n",
              "  .colab-df-quickchart {\n",
              "    background-color: var(--bg-color);\n",
              "    border: none;\n",
              "    border-radius: 50%;\n",
              "    cursor: pointer;\n",
              "    display: none;\n",
              "    fill: var(--fill-color);\n",
              "    height: 32px;\n",
              "    padding: 0;\n",
              "    width: 32px;\n",
              "  }\n",
              "\n",
              "  .colab-df-quickchart:hover {\n",
              "    background-color: var(--hover-bg-color);\n",
              "    box-shadow: 0 1px 2px rgba(60, 64, 67, 0.3), 0 1px 3px 1px rgba(60, 64, 67, 0.15);\n",
              "    fill: var(--button-hover-fill-color);\n",
              "  }\n",
              "\n",
              "  .colab-df-quickchart-complete:disabled,\n",
              "  .colab-df-quickchart-complete:disabled:hover {\n",
              "    background-color: var(--disabled-bg-color);\n",
              "    fill: var(--disabled-fill-color);\n",
              "    box-shadow: none;\n",
              "  }\n",
              "\n",
              "  .colab-df-spinner {\n",
              "    border: 2px solid var(--fill-color);\n",
              "    border-color: transparent;\n",
              "    border-bottom-color: var(--fill-color);\n",
              "    animation:\n",
              "      spin 1s steps(1) infinite;\n",
              "  }\n",
              "\n",
              "  @keyframes spin {\n",
              "    0% {\n",
              "      border-color: transparent;\n",
              "      border-bottom-color: var(--fill-color);\n",
              "      border-left-color: var(--fill-color);\n",
              "    }\n",
              "    20% {\n",
              "      border-color: transparent;\n",
              "      border-left-color: var(--fill-color);\n",
              "      border-top-color: var(--fill-color);\n",
              "    }\n",
              "    30% {\n",
              "      border-color: transparent;\n",
              "      border-left-color: var(--fill-color);\n",
              "      border-top-color: var(--fill-color);\n",
              "      border-right-color: var(--fill-color);\n",
              "    }\n",
              "    40% {\n",
              "      border-color: transparent;\n",
              "      border-right-color: var(--fill-color);\n",
              "      border-top-color: var(--fill-color);\n",
              "    }\n",
              "    60% {\n",
              "      border-color: transparent;\n",
              "      border-right-color: var(--fill-color);\n",
              "    }\n",
              "    80% {\n",
              "      border-color: transparent;\n",
              "      border-right-color: var(--fill-color);\n",
              "      border-bottom-color: var(--fill-color);\n",
              "    }\n",
              "    90% {\n",
              "      border-color: transparent;\n",
              "      border-bottom-color: var(--fill-color);\n",
              "    }\n",
              "  }\n",
              "</style>\n",
              "\n",
              "  <script>\n",
              "    async function quickchart(key) {\n",
              "      const quickchartButtonEl =\n",
              "        document.querySelector('#' + key + ' button');\n",
              "      quickchartButtonEl.disabled = true;  // To prevent multiple clicks.\n",
              "      quickchartButtonEl.classList.add('colab-df-spinner');\n",
              "      try {\n",
              "        const charts = await google.colab.kernel.invokeFunction(\n",
              "            'suggestCharts', [key], {});\n",
              "      } catch (error) {\n",
              "        console.error('Error during call to suggestCharts:', error);\n",
              "      }\n",
              "      quickchartButtonEl.classList.remove('colab-df-spinner');\n",
              "      quickchartButtonEl.classList.add('colab-df-quickchart-complete');\n",
              "    }\n",
              "    (() => {\n",
              "      let quickchartButtonEl =\n",
              "        document.querySelector('#df-a64ae033-c5b2-4a7a-9454-b8c2e5b2c78c button');\n",
              "      quickchartButtonEl.style.display =\n",
              "        google.colab.kernel.accessAllowed ? 'block' : 'none';\n",
              "    })();\n",
              "  </script>\n",
              "</div>\n",
              "\n",
              "  <div id=\"id_04ba0e8f-81bd-4e1a-920e-ff224d76a24d\">\n",
              "    <style>\n",
              "      .colab-df-generate {\n",
              "        background-color: #E8F0FE;\n",
              "        border: none;\n",
              "        border-radius: 50%;\n",
              "        cursor: pointer;\n",
              "        display: none;\n",
              "        fill: #1967D2;\n",
              "        height: 32px;\n",
              "        padding: 0 0 0 0;\n",
              "        width: 32px;\n",
              "      }\n",
              "\n",
              "      .colab-df-generate:hover {\n",
              "        background-color: #E2EBFA;\n",
              "        box-shadow: 0px 1px 2px rgba(60, 64, 67, 0.3), 0px 1px 3px 1px rgba(60, 64, 67, 0.15);\n",
              "        fill: #174EA6;\n",
              "      }\n",
              "\n",
              "      [theme=dark] .colab-df-generate {\n",
              "        background-color: #3B4455;\n",
              "        fill: #D2E3FC;\n",
              "      }\n",
              "\n",
              "      [theme=dark] .colab-df-generate:hover {\n",
              "        background-color: #434B5C;\n",
              "        box-shadow: 0px 1px 3px 1px rgba(0, 0, 0, 0.15);\n",
              "        filter: drop-shadow(0px 1px 2px rgba(0, 0, 0, 0.3));\n",
              "        fill: #FFFFFF;\n",
              "      }\n",
              "    </style>\n",
              "    <button class=\"colab-df-generate\" onclick=\"generateWithVariable('df_features')\"\n",
              "            title=\"Generate code using this dataframe.\"\n",
              "            style=\"display:none;\">\n",
              "\n",
              "  <svg xmlns=\"http://www.w3.org/2000/svg\" height=\"24px\"viewBox=\"0 0 24 24\"\n",
              "       width=\"24px\">\n",
              "    <path d=\"M7,19H8.4L18.45,9,17,7.55,7,17.6ZM5,21V16.75L18.45,3.32a2,2,0,0,1,2.83,0l1.4,1.43a1.91,1.91,0,0,1,.58,1.4,1.91,1.91,0,0,1-.58,1.4L9.25,21ZM18.45,9,17,7.55Zm-12,3A5.31,5.31,0,0,0,4.9,8.1,5.31,5.31,0,0,0,1,6.5,5.31,5.31,0,0,0,4.9,4.9,5.31,5.31,0,0,0,6.5,1,5.31,5.31,0,0,0,8.1,4.9,5.31,5.31,0,0,0,12,6.5,5.46,5.46,0,0,0,6.5,12Z\"/>\n",
              "  </svg>\n",
              "    </button>\n",
              "    <script>\n",
              "      (() => {\n",
              "      const buttonEl =\n",
              "        document.querySelector('#id_04ba0e8f-81bd-4e1a-920e-ff224d76a24d button.colab-df-generate');\n",
              "      buttonEl.style.display =\n",
              "        google.colab.kernel.accessAllowed ? 'block' : 'none';\n",
              "\n",
              "      buttonEl.onclick = () => {\n",
              "        google.colab.notebook.generateWithVariable('df_features');\n",
              "      }\n",
              "      })();\n",
              "    </script>\n",
              "  </div>\n",
              "\n",
              "    </div>\n",
              "  </div>\n"
            ],
            "application/vnd.google.colaboratory.intrinsic+json": {
              "type": "dataframe",
              "variable_name": "df_features",
              "summary": "{\n  \"name\": \"df_features\",\n  \"rows\": 4760,\n  \"fields\": [\n    {\n      \"column\": \"Movie_Genre\",\n      \"properties\": {\n        \"dtype\": \"category\",\n        \"num_unique_values\": 1164,\n        \"samples\": [\n          \"Family Animation Adventure\",\n          \"Adventure Science Fiction Action\",\n          \"Action Crime Drama Romance Thriller\"\n        ],\n        \"semantic_type\": \"\",\n        \"description\": \"\"\n      }\n    },\n    {\n      \"column\": \"Movie_Keywords\",\n      \"properties\": {\n        \"dtype\": \"string\",\n        \"num_unique_values\": 4203,\n        \"samples\": [\n          \"canada nazis sequel spin off ancient evil\",\n          \"sex professor wedding woman director columbia university\",\n          \"prophecy sea beach gold small town\"\n        ],\n        \"semantic_type\": \"\",\n        \"description\": \"\"\n      }\n    },\n    {\n      \"column\": \"Movie_Tagline\",\n      \"properties\": {\n        \"dtype\": \"string\",\n        \"num_unique_values\": 3928,\n        \"samples\": [\n          \"The messenger must be silenced.\",\n          \"It's not the house that's haunted.\",\n          \"The final hunt begins.\"\n        ],\n        \"semantic_type\": \"\",\n        \"description\": \"\"\n      }\n    },\n    {\n      \"column\": \"Movie_Cast\",\n      \"properties\": {\n        \"dtype\": \"string\",\n        \"num_unique_values\": 4715,\n        \"samples\": [\n          \"Robin Tunney Fairuza Balk Neve Campbell Rachel True Skeet Ulrich\",\n          \"Peter Sellers Christopher Plummer Herbert Lom Catherine Schell Peter Arne\",\n          \"John Wayne Laraine Day Cedric Hardwicke Judith Anderson Anthony Quinn\"\n        ],\n        \"semantic_type\": \"\",\n        \"description\": \"\"\n      }\n    },\n    {\n      \"column\": \"Movie_Director\",\n      \"properties\": {\n        \"dtype\": \"category\",\n        \"num_unique_values\": 2332,\n        \"samples\": [\n          \"Rob McKittrick\",\n          \"Terron R. Parsons\",\n          \"Cyrus Nowrasteh\"\n        ],\n        \"semantic_type\": \"\",\n        \"description\": \"\"\n      }\n    }\n  ]\n}"
            }
          },
          "metadata": {},
          "execution_count": 33
        }
      ]
    },
    {
      "cell_type": "code",
      "source": [
        "x = df_features['Movie_Genre']+ ' ' + df_features['Movie_Keywords']+ ' ' + df_features['Movie_Tagline']+ ' ' + df_features['Movie_Cast']+ ' ' + df_features['Movie_Director']"
      ],
      "metadata": {
        "id": "Hxn0B-etGOjs"
      },
      "execution_count": 34,
      "outputs": []
    },
    {
      "cell_type": "code",
      "source": [
        "x"
      ],
      "metadata": {
        "colab": {
          "base_uri": "https://localhost:8080/",
          "height": 458
        },
        "id": "SFywlnIyHcj-",
        "outputId": "38d80a2f-e3f7-4640-ef7e-c724e16ae320"
      },
      "execution_count": 35,
      "outputs": [
        {
          "output_type": "execute_result",
          "data": {
            "text/plain": [
              "0       Crime Comedy hotel new year's eve witch bet ho...\n",
              "1       Adventure Action Science Fiction android galax...\n",
              "2       Animation Family father son relationship harbo...\n",
              "3       Comedy Drama Romance vietnam veteran hippie me...\n",
              "4       Drama male nudity female nudity adultery midli...\n",
              "                              ...                        \n",
              "4755    Horror  The hot spot where Satan's waitin'. Li...\n",
              "4756    Comedy Family Drama  It’s better to stand out ...\n",
              "4757    Thriller Drama christian film sex trafficking ...\n",
              "4758                                           Family    \n",
              "4759    Documentary music actors legendary perfomer cl...\n",
              "Length: 4760, dtype: object"
            ],
            "text/html": [
              "<div>\n",
              "<style scoped>\n",
              "    .dataframe tbody tr th:only-of-type {\n",
              "        vertical-align: middle;\n",
              "    }\n",
              "\n",
              "    .dataframe tbody tr th {\n",
              "        vertical-align: top;\n",
              "    }\n",
              "\n",
              "    .dataframe thead th {\n",
              "        text-align: right;\n",
              "    }\n",
              "</style>\n",
              "<table border=\"1\" class=\"dataframe\">\n",
              "  <thead>\n",
              "    <tr style=\"text-align: right;\">\n",
              "      <th></th>\n",
              "      <th>0</th>\n",
              "    </tr>\n",
              "  </thead>\n",
              "  <tbody>\n",
              "    <tr>\n",
              "      <th>0</th>\n",
              "      <td>Crime Comedy hotel new year's eve witch bet ho...</td>\n",
              "    </tr>\n",
              "    <tr>\n",
              "      <th>1</th>\n",
              "      <td>Adventure Action Science Fiction android galax...</td>\n",
              "    </tr>\n",
              "    <tr>\n",
              "      <th>2</th>\n",
              "      <td>Animation Family father son relationship harbo...</td>\n",
              "    </tr>\n",
              "    <tr>\n",
              "      <th>3</th>\n",
              "      <td>Comedy Drama Romance vietnam veteran hippie me...</td>\n",
              "    </tr>\n",
              "    <tr>\n",
              "      <th>4</th>\n",
              "      <td>Drama male nudity female nudity adultery midli...</td>\n",
              "    </tr>\n",
              "    <tr>\n",
              "      <th>...</th>\n",
              "      <td>...</td>\n",
              "    </tr>\n",
              "    <tr>\n",
              "      <th>4755</th>\n",
              "      <td>Horror  The hot spot where Satan's waitin'. Li...</td>\n",
              "    </tr>\n",
              "    <tr>\n",
              "      <th>4756</th>\n",
              "      <td>Comedy Family Drama  It’s better to stand out ...</td>\n",
              "    </tr>\n",
              "    <tr>\n",
              "      <th>4757</th>\n",
              "      <td>Thriller Drama christian film sex trafficking ...</td>\n",
              "    </tr>\n",
              "    <tr>\n",
              "      <th>4758</th>\n",
              "      <td>Family</td>\n",
              "    </tr>\n",
              "    <tr>\n",
              "      <th>4759</th>\n",
              "      <td>Documentary music actors legendary perfomer cl...</td>\n",
              "    </tr>\n",
              "  </tbody>\n",
              "</table>\n",
              "<p>4760 rows × 1 columns</p>\n",
              "</div><br><label><b>dtype:</b> object</label>"
            ]
          },
          "metadata": {},
          "execution_count": 35
        }
      ]
    },
    {
      "cell_type": "code",
      "source": [
        "x.shape"
      ],
      "metadata": {
        "colab": {
          "base_uri": "https://localhost:8080/"
        },
        "id": "ro4f4DONHe1O",
        "outputId": "73f162a9-5fc9-433e-f9f6-116d262576cd"
      },
      "execution_count": 36,
      "outputs": [
        {
          "output_type": "execute_result",
          "data": {
            "text/plain": [
              "(4760,)"
            ]
          },
          "metadata": {},
          "execution_count": 36
        }
      ]
    },
    {
      "cell_type": "code",
      "source": [
        "# Data Visualization"
      ],
      "metadata": {
        "id": "uRQ6FeV9HjX-"
      },
      "execution_count": null,
      "outputs": []
    },
    {
      "cell_type": "code",
      "source": [
        "from sklearn.feature_extraction.text import TfidfVectorizer"
      ],
      "metadata": {
        "id": "ahtxq6RMHs3P"
      },
      "execution_count": 37,
      "outputs": []
    },
    {
      "cell_type": "code",
      "source": [
        "tfidf = TfidfVectorizer()"
      ],
      "metadata": {
        "id": "EXR5V1UvICZn"
      },
      "execution_count": 40,
      "outputs": []
    },
    {
      "cell_type": "code",
      "source": [
        "x = tfidf.fit_transform(x)"
      ],
      "metadata": {
        "id": "5YfK5UXeINCg"
      },
      "execution_count": 41,
      "outputs": []
    },
    {
      "cell_type": "code",
      "source": [
        "x.shape"
      ],
      "metadata": {
        "colab": {
          "base_uri": "https://localhost:8080/"
        },
        "id": "FfoE-fDTIb1h",
        "outputId": "1bfa2b43-9745-44bd-8c1f-d58fc1ee09b5"
      },
      "execution_count": null,
      "outputs": [
        {
          "output_type": "execute_result",
          "data": {
            "text/plain": [
              "(4760, 17258)"
            ]
          },
          "metadata": {},
          "execution_count": 30
        }
      ]
    },
    {
      "cell_type": "code",
      "source": [
        "print(x)"
      ],
      "metadata": {
        "colab": {
          "base_uri": "https://localhost:8080/"
        },
        "id": "IknH9l7UIlpo",
        "outputId": "134c85c4-4da2-4e9b-be7e-699207984a9b"
      },
      "execution_count": 42,
      "outputs": [
        {
          "output_type": "stream",
          "name": "stdout",
          "text": [
            "  (0, 3583)\t0.06486754376295062\n",
            "  (0, 3240)\t0.04527089872278055\n",
            "  (0, 7213)\t0.25146675849405775\n",
            "  (0, 10898)\t0.17625708810661284\n",
            "  (0, 17052)\t0.26079573581490934\n",
            "  (0, 5059)\t0.29553419178998613\n",
            "  (0, 16862)\t0.12768803549311025\n",
            "  (0, 1595)\t0.15687561633854538\n",
            "  (0, 13052)\t0.1465525095337543\n",
            "  (0, 15708)\t0.17654247479915475\n",
            "  (0, 11362)\t0.18801785343006192\n",
            "  (0, 6463)\t0.18801785343006192\n",
            "  (0, 5662)\t0.1465525095337543\n",
            "  (0, 13467)\t0.19712637387361423\n",
            "  (0, 12731)\t0.19712637387361423\n",
            "  (0, 614)\t0.07642616241686973\n",
            "  (0, 11244)\t0.08262965296941757\n",
            "  (0, 9206)\t0.15186283580984414\n",
            "  (0, 1495)\t0.19712637387361423\n",
            "  (0, 7454)\t0.14745635785412262\n",
            "  (0, 7071)\t0.19822417598406614\n",
            "  (0, 5499)\t0.11454057510303811\n",
            "  (0, 3878)\t0.11998399582562203\n",
            "  (0, 11242)\t0.07277788238484746\n",
            "  (0, 15219)\t0.09800472886453934\n",
            "  :\t:\n",
            "  (4757, 3485)\t0.199161573117024\n",
            "  (4757, 1184)\t0.18890726729447022\n",
            "  (4757, 14568)\t0.24255077606762876\n",
            "  (4757, 15508)\t0.24255077606762876\n",
            "  (4757, 5802)\t0.24255077606762876\n",
            "  (4757, 819)\t0.27474840155297187\n",
            "  (4757, 14195)\t0.28805858134028367\n",
            "  (4757, 2227)\t0.28805858134028367\n",
            "  (4757, 7691)\t0.28805858134028367\n",
            "  (4757, 1932)\t0.28805858134028367\n",
            "  (4758, 5238)\t1.0\n",
            "  (4759, 10666)\t0.15888268987343043\n",
            "  (4759, 1490)\t0.21197258705292082\n",
            "  (4759, 15431)\t0.19628653185946862\n",
            "  (4759, 5690)\t0.19534291014627303\n",
            "  (4759, 14051)\t0.20084315377640435\n",
            "  (4759, 4358)\t0.18306542312175342\n",
            "  (4759, 10761)\t0.3126617295732147\n",
            "  (4759, 7130)\t0.26419662449963793\n",
            "  (4759, 3058)\t0.2812896191863103\n",
            "  (4759, 14062)\t0.3237911628497312\n",
            "  (4759, 8902)\t0.3040290704566037\n",
            "  (4759, 205)\t0.3237911628497312\n",
            "  (4759, 11708)\t0.33947721804318337\n",
            "  (4759, 11264)\t0.33947721804318337\n"
          ]
        }
      ]
    },
    {
      "cell_type": "code",
      "source": [
        "# Define Target Variable (y) and Feature Variables (X)Define Target Variable (y) and Feature Variables (X)\n",
        "\n",
        "from sklearn.metrics.pairwise import cosine_similarity"
      ],
      "metadata": {
        "id": "s_uARIBEIo44"
      },
      "execution_count": 66,
      "outputs": []
    },
    {
      "cell_type": "code",
      "source": [
        "similarity_score = cosine_similarity(x)"
      ],
      "metadata": {
        "id": "canbV7K0RyGh"
      },
      "execution_count": 45,
      "outputs": []
    },
    {
      "cell_type": "code",
      "source": [
        "similarity_score"
      ],
      "metadata": {
        "colab": {
          "base_uri": "https://localhost:8080/"
        },
        "id": "2EIavfkUSMVV",
        "outputId": "c13c95a7-3645-49df-ea2b-11d14a8e8039"
      },
      "execution_count": 46,
      "outputs": [
        {
          "output_type": "execute_result",
          "data": {
            "text/plain": [
              "array([[1.        , 0.01351235, 0.03570468, ..., 0.        , 0.        ,\n",
              "        0.        ],\n",
              "       [0.01351235, 1.        , 0.00806674, ..., 0.        , 0.        ,\n",
              "        0.        ],\n",
              "       [0.03570468, 0.00806674, 1.        , ..., 0.        , 0.08014876,\n",
              "        0.        ],\n",
              "       ...,\n",
              "       [0.        , 0.        , 0.        , ..., 1.        , 0.        ,\n",
              "        0.        ],\n",
              "       [0.        , 0.        , 0.08014876, ..., 0.        , 1.        ,\n",
              "        0.        ],\n",
              "       [0.        , 0.        , 0.        , ..., 0.        , 0.        ,\n",
              "        1.        ]])"
            ]
          },
          "metadata": {},
          "execution_count": 46
        }
      ]
    },
    {
      "cell_type": "code",
      "source": [
        "similarity_score.shape"
      ],
      "metadata": {
        "colab": {
          "base_uri": "https://localhost:8080/"
        },
        "id": "Gt3d4ZuYSPa1",
        "outputId": "c8d1c4b8-d583-4557-a885-7a076ccf9a7e"
      },
      "execution_count": 49,
      "outputs": [
        {
          "output_type": "execute_result",
          "data": {
            "text/plain": [
              "(4760, 4760)"
            ]
          },
          "metadata": {},
          "execution_count": 49
        }
      ]
    },
    {
      "cell_type": "code",
      "source": [
        "favourite_movie_name = input('Enter your favourite movie name:')"
      ],
      "metadata": {
        "id": "R0Rko9GySnzX",
        "colab": {
          "base_uri": "https://localhost:8080/"
        },
        "outputId": "ff5b1ead-637e-4287-bf7f-3af51517473c"
      },
      "execution_count": 51,
      "outputs": [
        {
          "name": "stdout",
          "output_type": "stream",
          "text": [
            "Enter your favourite movie name:man in black\n"
          ]
        }
      ]
    },
    {
      "cell_type": "code",
      "source": [
        "All_Movie_title_list = df['Movie_Title'].tolist()"
      ],
      "metadata": {
        "id": "vfynMIZ3WziD"
      },
      "execution_count": 52,
      "outputs": []
    },
    {
      "cell_type": "code",
      "source": [
        "import difflib"
      ],
      "metadata": {
        "id": "F9N58ue4XMjE"
      },
      "execution_count": 53,
      "outputs": []
    },
    {
      "cell_type": "code",
      "source": [
        "# Modeing"
      ],
      "metadata": {
        "id": "6tBPRp_7aR8B"
      },
      "execution_count": 67,
      "outputs": []
    },
    {
      "cell_type": "code",
      "source": [
        "Movie_Recommendation = difflib.get_close_matches(favourite_movie_name,All_Movie_title_list)\n",
        "print(Movie_Recommendation)"
      ],
      "metadata": {
        "colab": {
          "base_uri": "https://localhost:8080/"
        },
        "id": "OabYzcZ4XR50",
        "outputId": "f34186b3-4b96-4f02-c2db-a64e007b6d09"
      },
      "execution_count": 54,
      "outputs": [
        {
          "output_type": "stream",
          "name": "stdout",
          "text": [
            "['Men in Black', 'The Woman in Black', 'Men in Black 3']\n"
          ]
        }
      ]
    },
    {
      "cell_type": "code",
      "source": [
        "Close_Match = Movie_Recommendation[0]\n",
        "print(Close_Match)"
      ],
      "metadata": {
        "colab": {
          "base_uri": "https://localhost:8080/"
        },
        "id": "7lsmxGChXk1T",
        "outputId": "ce1ef3d0-e1bb-4987-cd75-4c8d054bed9b"
      },
      "execution_count": 56,
      "outputs": [
        {
          "output_type": "stream",
          "name": "stdout",
          "text": [
            "Men in Black\n"
          ]
        }
      ]
    },
    {
      "cell_type": "code",
      "source": [
        "Index_of_Close_Match_Movie = df[df.Movie_Title == Close_Match]['Movie_ID'].values[0]\n",
        "print(Index_of_Close_Match_Movie)"
      ],
      "metadata": {
        "colab": {
          "base_uri": "https://localhost:8080/"
        },
        "id": "iZ604p8hXufS",
        "outputId": "b8c2f81d-2cf2-49af-f1bf-311669cd3dde"
      },
      "execution_count": 57,
      "outputs": [
        {
          "output_type": "stream",
          "name": "stdout",
          "text": [
            "264\n"
          ]
        }
      ]
    },
    {
      "cell_type": "code",
      "source": [
        "# geting a list of similar movies\n",
        "Recommendation_score = list(enumerate(similarity_score[Index_of_Close_Match_Movie]))\n",
        "print(Recommendation_score)"
      ],
      "metadata": {
        "colab": {
          "base_uri": "https://localhost:8080/"
        },
        "id": "hODREs_mX_nb",
        "outputId": "ef56d5f5-5eb5-43d1-b6d1-3509cee8078a"
      },
      "execution_count": 58,
      "outputs": [
        {
          "output_type": "stream",
          "name": "stdout",
          "text": [
            "[(0, 0.031192099347482495), (1, 0.02958638042932131), (2, 0.003994984441792715), (3, 0.07989967350866659), (4, 0.0), (5, 0.0), (6, 0.03563909005033123), (7, 0.03529158981541967), (8, 0.0), (9, 0.04208324695993704), (10, 0.011045776498377471), (11, 0.04171647242567262), (12, 0.0049719529593271975), (13, 0.012892259133123177), (14, 0.02641886587584784), (15, 0.018343359993089125), (16, 0.01660620090690992), (17, 0.04336117655465711), (18, 0.029752817590333144), (19, 0.03371357225571739), (20, 0.0), (21, 0.0), (22, 0.023692173295197835), (23, 0.0), (24, 0.0), (25, 0.00713849966040765), (26, 0.0), (27, 0.04412112983782033), (28, 0.11870465566488053), (29, 0.004433756738313861), (30, 0.0), (31, 0.01870341706075223), (32, 0.025056013464559764), (33, 0.004114632120510188), (34, 0.0), (35, 0.10118230128314347), (36, 0.03723956868876403), (37, 0.06811058000961516), (38, 0.05222939967847028), (39, 0.12100687659588247), (40, 0.04604436218959848), (41, 0.03179275682436808), (42, 0.024507866438001125), (43, 0.03706054201067637), (44, 0.004752440173635867), (45, 0.034209063379379415), (46, 0.030787095677350166), (47, 0.017739919659516285), (48, 0.028249104670128086), (49, 0.0038517829515318336), (50, 0.0039243574032379915), (51, 0.0), (52, 0.01935385879027044), (53, 0.03703590560321181), (54, 0.013442614750872406), (55, 0.029566391354873274), (56, 0.022957699897509336), (57, 0.030323856464305972), (58, 0.010215801600736955), (59, 0.01773200011191589), (60, 0.007382101360000946), (61, 0.0), (62, 0.019593364746062242), (63, 0.02465877992162822), (64, 0.06026013967309088), (65, 0.039268288248464615), (66, 0.0), (67, 0.04270250737704925), (68, 0.055154440471396476), (69, 0.08137981068524369), (70, 0.0), (71, 0.0282576424388425), (72, 0.03850359889223323), (73, 0.027174965610216033), (74, 0.047297530435454566), (75, 0.10547401232566506), (76, 0.020885290562055247), (77, 0.04541904559461239), (78, 0.050975587843571715), (79, 0.03197088735957308), (80, 0.034616687005400645), (81, 0.0), (82, 0.0100818441286266), (83, 0.01997841996409045), (84, 0.04943961697920919), (85, 0.0), (86, 0.0074216302594528535), (87, 0.025458685039466352), (88, 0.008548998179665205), (89, 0.0), (90, 0.07247607355053215), (91, 0.03191026234532626), (92, 0.0050242559648754695), (93, 0.03172592933710916), (94, 0.059176382936138035), (95, 0.03407344624008929), (96, 0.022749080742875724), (97, 0.017488838901821326), (98, 0.0), (99, 0.017505861622395577), (100, 0.03891014949032644), (101, 0.08591019150057846), (102, 0.08484248574053693), (103, 0.0034418986106781206), (104, 0.024734831484244782), (105, 0.0307729712326727), (106, 0.003584045075394724), (107, 0.0), (108, 0.01325015399003579), (109, 0.0), (110, 0.00881978035588557), (111, 0.0), (112, 0.018980449344432375), (113, 0.0065355730260147245), (114, 0.003977599781719224), (115, 0.019461720222432775), (116, 0.014473481621300417), (117, 0.0), (118, 0.029033602636511124), (119, 0.037106305966354364), (120, 0.0), (121, 0.0), (122, 0.03813087389274502), (123, 0.06199186289209038), (124, 0.008502732919730074), (125, 0.00653587623835156), (126, 0.0), (127, 0.0), (128, 0.028395896429337188), (129, 0.023806648638812378), (130, 0.07043724314342284), (131, 0.004717082541666772), (132, 0.0), (133, 0.0), (134, 0.004059422112280935), (135, 0.09756527868117196), (136, 0.0), (137, 0.00479350610606466), (138, 0.004470477422587785), (139, 0.04605358407067603), (140, 0.0), (141, 0.004364783854281225), (142, 0.0), (143, 0.005988987789183079), (144, 0.0054254716822403634), (145, 0.0), (146, 0.004286438481117469), (147, 0.0), (148, 0.00940589718249177), (149, 0.0), (150, 0.03876298315682729), (151, 0.034217172878076435), (152, 0.03668898754185538), (153, 0.025700125045744013), (154, 0.0), (155, 0.0), (156, 0.007010416928901094), (157, 0.02890165640652386), (158, 0.0), (159, 0.011756139380864509), (160, 0.1294268178090029), (161, 0.01729992121059247), (162, 0.02161181158935704), (163, 0.0), (164, 0.02656096122841284), (165, 0.019492427695209924), (166, 0.019784998094826575), (167, 0.017144381598873507), (168, 0.0036592077303906722), (169, 0.050584072217975506), (170, 0.01360985158293962), (171, 0.17101094986586118), (172, 0.026456181562737935), (173, 0.0), (174, 0.018799903177799688), (175, 0.007286977343334525), (176, 0.0), (177, 0.007938150666972973), (178, 0.043809362684588994), (179, 0.057277410393908615), (180, 0.08134681980681269), (181, 0.0318681335849956), (182, 0.02097929497701868), (183, 0.0), (184, 0.03099795003083381), (185, 0.010873536669923), (186, 0.018734541315209102), (187, 0.017444086419614886), (188, 0.003947879734510553), (189, 0.10409369886194747), (190, 0.012850979042628127), (191, 0.031145957362446818), (192, 0.00503568362615801), (193, 0.0), (194, 0.0), (195, 0.007253562411853602), (196, 0.016787231129351994), (197, 0.0037521214527019395), (198, 0.0), (199, 0.0), (200, 0.013550334002733084), (201, 0.018668048349474175), (202, 0.03181270563153535), (203, 0.0), (204, 0.0592557761839145), (205, 0.004207850395962075), (206, 0.0), (207, 0.0), (208, 0.030040893816248627), (209, 0.022605569907583518), (210, 0.006153007592202522), (211, 0.013173856211164348), (212, 0.04953390703945069), (213, 0.0), (214, 0.016178497404982773), (215, 0.055211086049127625), (216, 0.00482694503729305), (217, 0.009437828763819288), (218, 0.02087282828200373), (219, 0.052892040493768076), (220, 0.08702427049657507), (221, 0.00885352232460722), (222, 0.012293826902293477), (223, 0.009981006792799937), (224, 0.0), (225, 0.03490497201988302), (226, 0.015057179930459644), (227, 0.016094035393186053), (228, 0.052834804992803505), (229, 0.024586959777139556), (230, 0.0055598304652168615), (231, 0.041535416734880364), (232, 0.04765934397190624), (233, 0.0056347111427089615), (234, 0.08612377765021446), (235, 0.0), (236, 0.04036511530505173), (237, 0.009884296380317667), (238, 0.01941238184728965), (239, 0.012923117446513211), (240, 0.0043095144385140415), (241, 0.007509207275994765), (242, 0.006517511618578994), (243, 0.02058272764686919), (244, 0.005585060680156886), (245, 0.004076104811963014), (246, 0.03813756055443936), (247, 0.0148860272364071), (248, 0.0), (249, 0.01224961407996495), (250, 0.00520991876830485), (251, 0.007981169374931167), (252, 0.024283750168077455), (253, 0.042660618675826795), (254, 0.0), (255, 0.0), (256, 0.0), (257, 0.023935770893722175), (258, 0.06916968980967333), (259, 0.09702807874623526), (260, 0.08079796397503944), (261, 0.08218797655337642), (262, 0.0), (263, 0.6157012280328691), (264, 1.0000000000000002), (265, 0.0), (266, 0.026891420731370783), (267, 0.036504861154132595), (268, 0.0), (269, 0.01688406184729705), (270, 0.0), (271, 0.004375359132182461), (272, 0.00465451267277022), (273, 0.041380207971824276), (274, 0.06673711373421987), (275, 0.0), (276, 0.0), (277, 0.05549750859671561), (278, 0.020635899197818212), (279, 0.022176635738241475), (280, 0.004643731094854247), (281, 0.0), (282, 0.019689546265636126), (283, 0.020062347501500967), (284, 0.04347167489680169), (285, 0.0), (286, 0.006459661871453346), (287, 0.029758247805577082), (288, 0.032119486582978744), (289, 0.04260547925530851), (290, 0.027059582523602743), (291, 0.004243894436862635), (292, 0.01735980681786575), (293, 0.0033104735545521785), (294, 0.014246588752826136), (295, 0.04855006862344479), (296, 0.004278870590998604), (297, 0.017815365175076266), (298, 0.012727108765161027), (299, 0.012181638528755801), (300, 0.007171658891605918), (301, 0.012887948533864674), (302, 0.013881301435471918), (303, 0.09536719954279747), (304, 0.0), (305, 0.05768420449959616), (306, 0.03712640081029668), (307, 0.05778618051537182), (308, 0.051058901369449405), (309, 0.007406355497127092), (310, 0.02166431778872337), (311, 0.003729867813822013), (312, 0.004001316515622882), (313, 0.028928316007277938), (314, 0.12467762357161923), (315, 0.01327754034081001), (316, 0.030733073355690387), (317, 0.0), (318, 0.004342720079224643), (319, 0.01556369801879906), (320, 0.03482952263123551), (321, 0.01284776693527178), (322, 0.05862304785303451), (323, 0.07107461524130389), (324, 0.004291270369634827), (325, 0.003755128293723706), (326, 0.0), (327, 0.016050808407081545), (328, 0.014588549192184294), (329, 0.0), (330, 0.02753992214299171), (331, 0.007893547179647879), (332, 0.00427480596226648), (333, 0.05066505553711749), (334, 0.005137208379924017), (335, 0.0043043034476549094), (336, 0.059624830789339264), (337, 0.004225787467906394), (338, 0.01212114329506397), (339, 0.003845515424860779), (340, 0.008088035694611478), (341, 0.056237671733338525), (342, 0.005071958176225345), (343, 0.004691212367383651), (344, 0.01325572103911085), (345, 0.04485015337369305), (346, 0.00857505592949792), (347, 0.024626293839155163), (348, 0.03484660555329692), (349, 0.017212080659733692), (350, 0.08263260761068675), (351, 0.0030317796638922733), (352, 0.02036131437054011), (353, 0.010526999938452953), (354, 0.0345350676467274), (355, 0.0), (356, 0.004441062805101156), (357, 0.03555240611309092), (358, 0.0), (359, 0.0), (360, 0.0), (361, 0.017151372460692597), (362, 0.012698660305929168), (363, 0.012567991178736082), (364, 0.10010763061025796), (365, 0.012772317707001815), (366, 0.0032406741050169906), (367, 0.05290423384847792), (368, 0.10016890554101732), (369, 0.058105594088413134), (370, 0.027868435004290152), (371, 0.09917868888668072), (372, 0.051425549405426964), (373, 0.0), (374, 0.02992643812364914), (375, 0.025296403315713013), (376, 0.017275419659894962), (377, 0.024950122132172153), (378, 0.019972458321007445), (379, 0.044570058027313564), (380, 0.051083826181852865), (381, 0.04776375750608072), (382, 0.026222247835192745), (383, 0.0035416140346675147), (384, 0.01620698833989908), (385, 0.06412796323092217), (386, 0.005944808977454621), (387, 0.045121024312898966), (388, 0.004395264350956345), (389, 0.04758855211831212), (390, 0.031881063659899435), (391, 0.005089426571967315), (392, 0.03718077333605388), (393, 0.00351907097525563), (394, 0.021874750875619204), (395, 0.046046711620097616), (396, 0.014676686939828015), (397, 0.11161332517646799), (398, 0.0040014533498770625), (399, 0.0), (400, 0.0), (401, 0.03217206979735038), (402, 0.0), (403, 0.02083772379718654), (404, 0.003856396481780902), (405, 0.02558023614545548), (406, 0.0), (407, 0.058024795552474), (408, 0.004401940860615373), (409, 0.028740007314287313), (410, 0.018540544785407027), (411, 0.02358947744812466), (412, 0.10730910664861663), (413, 0.058190594205238144), (414, 0.0029841311862876), (415, 0.020103343465885517), (416, 0.01154954980766519), (417, 0.020311195275675945), (418, 0.03409307133448818), (419, 0.025679417743383958), (420, 0.024089607641016527), (421, 0.012495959111152602), (422, 0.0037546092708841804), (423, 0.020090221068554355), (424, 0.020316012563733703), (425, 0.07281917024943894), (426, 0.06003851289420637), (427, 0.08709896526252384), (428, 0.028992145451587303), (429, 0.0), (430, 0.02140523121924013), (431, 0.004686423911466266), (432, 0.0), (433, 0.03411674351614461), (434, 0.05214663245260531), (435, 0.004629373786074714), (436, 0.0), (437, 0.0), (438, 0.01625801126442729), (439, 0.08632057055409291), (440, 0.04731515142249726), (441, 0.0076949506612498855), (442, 0.008594405751719733), (443, 0.023044509793023093), (444, 0.017086825679287137), (445, 0.0), (446, 0.0), (447, 0.015637079022786174), (448, 0.005374062841672212), (449, 0.0), (450, 0.0), (451, 0.02107260889384207), (452, 0.031992630081351336), (453, 0.015207155292280474), (454, 0.02198552777312769), (455, 0.014137935786287253), (456, 0.02466791455625205), (457, 0.006908999165259473), (458, 0.0063702794015902614), (459, 0.003893105403624707), (460, 0.27126339955920664), (461, 0.0554240401667261), (462, 0.0), (463, 0.0), (464, 0.0), (465, 0.0), (466, 0.0), (467, 0.013048288407020311), (468, 0.01238654348200332), (469, 0.0353623968470366), (470, 0.022195184614291978), (471, 0.03434701559192263), (472, 0.033017076721884336), (473, 0.003595147633197671), (474, 0.004175490057839048), (475, 0.0), (476, 0.061272202397762154), (477, 0.023991119368820733), (478, 0.0), (479, 0.019010590458710744), (480, 0.017537858265036115), (481, 0.05078564251969697), (482, 0.0), (483, 0.004915861566117047), (484, 0.05058801382036782), (485, 0.04893197491924598), (486, 0.00447116491554041), (487, 0.0), (488, 0.0), (489, 0.0), (490, 0.0), (491, 0.09958762091052581), (492, 0.02824475763277071), (493, 0.0), (494, 0.041235228886165085), (495, 0.009167480095704773), (496, 0.023225871444318986), (497, 0.05055735834763287), (498, 0.020846398823578707), (499, 0.0), (500, 0.014646305034980392), (501, 0.02540914714785751), (502, 0.021190657869619964), (503, 0.0038655951952824056), (504, 0.008681877588009444), (505, 0.0037750524849803142), (506, 0.0032203012230532487), (507, 0.008103070120154472), (508, 0.009922709862808791), (509, 0.02039480409691653), (510, 0.006898071689862364), (511, 0.02235241436479892), (512, 0.012319418362888648), (513, 0.006206161467801499), (514, 0.0061913068007162534), (515, 0.02674340654155257), (516, 0.08014106474968721), (517, 0.02659990122317964), (518, 0.0), (519, 0.011687419584558913), (520, 0.003472124364791557), (521, 0.008308703834873086), (522, 0.0), (523, 0.03878361052191546), (524, 0.0338461666450291), (525, 0.008583522415393832), (526, 0.0), (527, 0.012090976437142045), (528, 0.017524278135004664), (529, 0.008683062591241103), (530, 0.009166339500393531), (531, 0.00954225832196512), (532, 0.008991421129441006), (533, 0.006421335321361394), (534, 0.05136386664587196), (535, 0.0214317672696931), (536, 0.0042290564540988645), (537, 0.05516068795062391), (538, 0.02744574565378173), (539, 0.012952905327835593), (540, 0.020810905027584335), (541, 0.0), (542, 0.05155105492324476), (543, 0.0), (544, 0.015498747273904273), (545, 0.03166398340426832), (546, 0.030285243872910723), (547, 0.020723340005972205), (548, 0.035520766370763596), (549, 0.004319766771311848), (550, 0.036696459967156404), (551, 0.0048353586162364235), (552, 0.0), (553, 0.036827789301999224), (554, 0.024829476776367806), (555, 0.07971224848531812), (556, 0.0), (557, 0.0), (558, 0.0), (559, 0.0), (560, 0.010396380480436649), (561, 0.049127811772629267), (562, 0.015166298639963471), (563, 0.027656257961831725), (564, 0.0), (565, 0.04500359305904923), (566, 0.011718366460242897), (567, 0.03230132097569899), (568, 0.020913194330462084), (569, 0.02066060016800155), (570, 0.03864843934398), (571, 0.0), (572, 0.13723861113864805), (573, 0.0), (574, 0.02353660697893115), (575, 0.016770769585871488), (576, 0.0), (577, 0.021463496433622817), (578, 0.0), (579, 0.0040282623669022815), (580, 0.02088478376387129), (581, 0.0), (582, 0.0046814834921161935), (583, 0.011425804566420063), (584, 0.015867734500191508), (585, 0.008301695593867035), (586, 0.03306592778964587), (587, 0.0), (588, 0.0571900271929852), (589, 0.0036828219569882176), (590, 0.01836760568180152), (591, 0.05314923394517937), (592, 0.04145920653444282), (593, 0.0), (594, 0.06682951895974532), (595, 0.0062788513022210704), (596, 0.036757491690808164), (597, 0.012555883696983452), (598, 0.0926581414625663), (599, 0.0757125280826699), (600, 0.06780592830751525), (601, 0.028257568002630067), (602, 0.027044711734644233), (603, 0.04018366212603911), (604, 0.018381138250067205), (605, 0.0034966360335456233), (606, 0.038861764498589024), (607, 0.023537414290788088), (608, 0.08058194313327757), (609, 0.05562690678148605), (610, 0.017789922401825142), (611, 0.0), (612, 0.0), (613, 0.08396551895523288), (614, 0.05507190058097115), (615, 0.018534787009776746), (616, 0.025559097787717675), (617, 0.02584213016314269), (618, 0.0045453232316575755), (619, 0.02547778374739315), (620, 0.019136065616782716), (621, 0.017805385102636247), (622, 0.0), (623, 0.0), (624, 0.0), (625, 0.03238626645625156), (626, 0.0), (627, 0.0101931307069764), (628, 0.0), (629, 0.00343145053956625), (630, 0.019447073010640078), (631, 0.018397109429774634), (632, 0.008751344226790785), (633, 0.0), (634, 0.01506477410458197), (635, 0.046370417139386645), (636, 0.0), (637, 0.015594508075227909), (638, 0.018420520471555284), (639, 0.015108947082669574), (640, 0.05493838451075346), (641, 0.005390571979174779), (642, 0.0), (643, 0.019104507578547394), (644, 0.0098463385854494), (645, 0.0), (646, 0.0), (647, 0.0), (648, 0.0037137610664951626), (649, 0.018038223939101292), (650, 0.007048051274487279), (651, 0.0055118864254967365), (652, 0.0), (653, 0.030462402815286796), (654, 0.029628890413074815), (655, 0.0), (656, 0.06426773167793334), (657, 0.012403617104427963), (658, 0.0), (659, 0.01772913963154025), (660, 0.0), (661, 0.02384666246623908), (662, 0.0038528825001983716), (663, 0.05173319617016956), (664, 0.007735605556441332), (665, 0.007965381340475473), (666, 0.04251316520064432), (667, 0.004177896493330009), (668, 0.020332492409476308), (669, 0.009536998073306904), (670, 0.007035853989688314), (671, 0.004103305088229906), (672, 0.013725133054694048), (673, 0.022663730043193504), (674, 0.04776305397675505), (675, 0.005077431665601911), (676, 0.0), (677, 0.0133522489128216), (678, 0.004332130258157629), (679, 0.004579736456199973), (680, 0.004951474794347582), (681, 0.05129517047589428), (682, 0.006420896460128906), (683, 0.028702142667903115), (684, 0.014438594518127169), (685, 0.009565626176950462), (686, 0.07671237991385418), (687, 0.022242512451798622), (688, 0.006324403552643938), (689, 0.00463036798507452), (690, 0.1032241838509651), (691, 0.010737725149597123), (692, 0.03250430121115375), (693, 0.0), (694, 0.0), (695, 0.0), (696, 0.0), (697, 0.05725971602115823), (698, 0.014247929088035035), (699, 0.02893429813081639), (700, 0.02988927294003032), (701, 0.005197277443858208), (702, 0.022324287539891286), (703, 0.003529851698115374), (704, 0.04037311986231323), (705, 0.0), (706, 0.01109407562892578), (707, 0.0033423863649749944), (708, 0.045867647296698656), (709, 0.03513785523172545), (710, 0.041300587209894615), (711, 0.05221995714872773), (712, 0.0035108439652423175), (713, 0.014333571109870675), (714, 0.013393405715950801), (715, 0.03122448787559438), (716, 0.013880627225914365), (717, 0.025963895769793546), (718, 0.0), (719, 0.02790623140652756), (720, 0.01106183738979086), (721, 0.0), (722, 0.017906795145100844), (723, 0.016657372210536075), (724, 0.022431192017855938), (725, 0.04125866146500737), (726, 0.01740316740319712), (727, 0.06024303103233522), (728, 0.006157670646517671), (729, 0.006366322789231528), (730, 0.004091734193199642), (731, 0.013361133999301248), (732, 0.015842500570225113), (733, 0.02526384839014214), (734, 0.026141949304764194), (735, 0.0054262580328377115), (736, 0.008687588230635125), (737, 0.014215457893952595), (738, 0.012374231096896764), (739, 0.0174989222269593), (740, 0.01276815612669297), (741, 0.02561915864565375), (742, 0.004376538810757884), (743, 0.0), (744, 0.022730916419464575), (745, 0.045429671012187284), (746, 0.0), (747, 0.044390896423638776), (748, 0.004940489197474575), (749, 0.015029968082022668), (750, 0.0406221360090006), (751, 0.037877246622230985), (752, 0.00831687285202848), (753, 0.024074752937684997), (754, 0.03416259844072583), (755, 0.0038618694537996593), (756, 0.0397853520961194), (757, 0.014331430075320908), (758, 0.004004645763786946), (759, 0.0036180456328409544), (760, 0.0045586880531506575), (761, 0.0), (762, 0.03025771394724213), (763, 0.05812403157417434), (764, 0.0057995626733078), (765, 0.025977295306951663), (766, 0.0), (767, 0.004416608126356504), (768, 0.017607198523221845), (769, 0.10406468192866081), (770, 0.07879309972441897), (771, 0.02608845136841785), (772, 0.018259182685527273), (773, 0.037957822002083946), (774, 0.03657680396868099), (775, 0.012882809532796809), (776, 0.029654671120338223), (777, 0.0), (778, 0.07498923741854198), (779, 0.008860119204500076), (780, 0.01264027547990647), (781, 0.051609920575766056), (782, 0.004467720950829995), (783, 0.01608868485739885), (784, 0.00412033368876283), (785, 0.013293501830097788), (786, 0.0033282887277180716), (787, 0.01746838921032636), (788, 0.007923500357035084), (789, 0.007514726913709551), (790, 0.023883930223786837), (791, 0.0), (792, 0.004952614241262111), (793, 0.017873875434147164), (794, 0.01657279307142489), (795, 0.04443686677659972), (796, 0.023174512457997617), (797, 0.05281253430941783), (798, 0.008886264302041817), (799, 0.0), (800, 0.018859286439726237), (801, 0.0), (802, 0.05607829845399549), (803, 0.017586610933498552), (804, 0.018871650889392175), (805, 0.004305436045594576), (806, 0.0), (807, 0.010006860496537366), (808, 0.0), (809, 0.005861174367373666), (810, 0.022964530521313923), (811, 0.0), (812, 0.03770182806740779), (813, 0.010458486062001934), (814, 0.04008220084383408), (815, 0.013644676653468172), (816, 0.012256878186650465), (817, 0.0), (818, 0.0), (819, 0.026143516874733735), (820, 0.007622969267366734), (821, 0.020026199313422883), (822, 0.003990634089554539), (823, 0.017604268932956215), (824, 0.015125478525320559), (825, 0.005537093925205618), (826, 0.01411696273939577), (827, 0.005416092257584443), (828, 0.026056007535080285), (829, 0.004277047709895179), (830, 0.0), (831, 0.01082604347451909), (832, 0.004734047004586997), (833, 0.0), (834, 0.0), (835, 0.0), (836, 0.0035032257298438546), (837, 0.01837022181600676), (838, 0.0), (839, 0.004489680651030082), (840, 0.017370349317610154), (841, 0.02384987074488746), (842, 0.028025159119288795), (843, 0.05162594621255656), (844, 0.0), (845, 0.0059769305535447344), (846, 0.004069018290323674), (847, 0.009895986093704113), (848, 0.005757669584015926), (849, 0.01719929733462381), (850, 0.004739878202131492), (851, 0.021675059051551225), (852, 0.04978125473972535), (853, 0.015243300050101612), (854, 0.009891904544978309), (855, 0.0), (856, 0.016911456930576288), (857, 0.0), (858, 0.0), (859, 0.0037562974410928333), (860, 0.0), (861, 0.015282153510806619), (862, 0.011574171684287336), (863, 0.0), (864, 0.004704638611799114), (865, 0.018222313659804906), (866, 0.0238920887295433), (867, 0.03381002661409683), (868, 0.005300704472654399), (869, 0.009927874499704533), (870, 0.02190570738819748), (871, 0.007734571806203674), (872, 0.05613275430741671), (873, 0.004255331279623441), (874, 0.008030278189615036), (875, 0.06540896784761752), (876, 0.0), (877, 0.015903927240827506), (878, 0.009789908006354618), (879, 0.02493195921837888), (880, 0.0), (881, 0.014691071497438438), (882, 0.010799971979782538), (883, 0.008243551176592905), (884, 0.004134388472513082), (885, 0.007740459681226976), (886, 0.0037254813872982656), (887, 0.05529054838558646), (888, 0.0), (889, 0.01938075372555692), (890, 0.009000237815042576), (891, 0.03186686792337658), (892, 0.0034426011159915766), (893, 0.0), (894, 0.004612167358664245), (895, 0.013013145976418826), (896, 0.0), (897, 0.004691313460375215), (898, 0.04401724410708362), (899, 0.004291882078005468), (900, 0.0), (901, 0.0), (902, 0.04970977647449007), (903, 0.029422862748961845), (904, 0.016878993967425135), (905, 0.011201089888918346), (906, 0.0), (907, 0.02198107205356075), (908, 0.014648430279993734), (909, 0.007608294353012712), (910, 0.018529069231007923), (911, 0.0358314567651738), (912, 0.02098190055037929), (913, 0.10518009912057266), (914, 0.009320513640413227), (915, 0.11515499179066577), (916, 0.00799627829166595), (917, 0.0), (918, 0.03909749086240491), (919, 0.2025350086820472), (920, 0.010558582871722146), (921, 0.03155041821177193), (922, 0.06522456794556367), (923, 0.003826877521511295), (924, 0.004055510731816106), (925, 0.004569227295863216), (926, 0.024558978306748372), (927, 0.0), (928, 0.03160792909728273), (929, 0.010835574548531077), (930, 0.02616070238401388), (931, 0.034978117534756756), (932, 0.03564397464811825), (933, 0.004058369406908948), (934, 0.022405944855057803), (935, 0.019993450592326798), (936, 0.006773189895223693), (937, 0.0), (938, 0.008650182644646426), (939, 0.003748159892669958), (940, 0.002781104533238929), (941, 0.003721877657325625), (942, 0.0), (943, 0.031963911822406904), (944, 0.028317955374477344), (945, 0.022141244566428055), (946, 0.017126782722514694), (947, 0.007701218729423037), (948, 0.018054366585389725), (949, 0.0), (950, 0.0), (951, 0.009709445506242526), (952, 0.0406819277032128), (953, 0.0), (954, 0.011830305627249916), (955, 0.004685424298773313), (956, 0.01885637217875792), (957, 0.007879962597375596), (958, 0.027737142866004393), (959, 0.0), (960, 0.016275308398480324), (961, 0.022472871272418565), (962, 0.00882960762707348), (963, 0.12912009921256248), (964, 0.00331275886899142), (965, 0.09482764454206623), (966, 0.016893904230417117), (967, 0.0), (968, 0.0), (969, 0.0040560088321446915), (970, 0.007291154230123513), (971, 0.024383251904184104), (972, 0.024424652363431706), (973, 0.013089196717703101), (974, 0.024000323853156154), (975, 0.014097761408147417), (976, 0.0), (977, 0.07540572305634996), (978, 0.011657662742839484), (979, 0.01356033696189561), (980, 0.020591715803227374), (981, 0.045176863192107446), (982, 0.014614741220759182), (983, 0.0039029099018045217), (984, 0.018104362644928783), (985, 0.004545755937473796), (986, 0.005704771358667116), (987, 0.015841213984911593), (988, 0.07456509213452042), (989, 0.06925880108272724), (990, 0.02717553795595158), (991, 0.0), (992, 0.027383583949694923), (993, 0.004690146843443565), (994, 0.053259431876477935), (995, 0.017576183553933998), (996, 0.013663555735280565), (997, 0.036812565407117935), (998, 0.004504850403931136), (999, 0.034373474200670544), (1000, 0.009322722132411452), (1001, 0.021490585355782674), (1002, 0.016444728588959023), (1003, 0.041017514590052595), (1004, 0.0274905538416055), (1005, 0.011481214863511172), (1006, 0.009015859142329097), (1007, 0.04189696722478551), (1008, 0.0034051173595112034), (1009, 0.0), (1010, 0.012127667209005197), (1011, 0.08127596326979869), (1012, 0.04776820273276185), (1013, 0.033166493703253606), (1014, 0.02965510047940067), (1015, 0.006171409854886009), (1016, 0.006761693400586959), (1017, 0.005549160745743421), (1018, 0.04177427831856768), (1019, 0.0), (1020, 0.0), (1021, 0.0039582561116477), (1022, 0.03587985214603215), (1023, 0.02334507846497198), (1024, 0.010085103149122584), (1025, 0.0076902207785621395), (1026, 0.0), (1027, 0.026375550965337533), (1028, 0.003921949477046225), (1029, 0.0125722528179513), (1030, 0.0), (1031, 0.03216494509082251), (1032, 0.0), (1033, 0.008925608126410483), (1034, 0.0), (1035, 0.010069373619607205), (1036, 0.0), (1037, 0.01225014626638789), (1038, 0.01738285313103797), (1039, 0.05942279953131505), (1040, 0.014865640691231604), (1041, 0.008740760403155844), (1042, 0.0), (1043, 0.005087941850002715), (1044, 0.020386149614527914), (1045, 0.029014853577630943), (1046, 0.03848594098419371), (1047, 0.09373139620857288), (1048, 0.020487280464190946), (1049, 0.00471203834674837), (1050, 0.16719729381538068), (1051, 0.04293985310291378), (1052, 0.018507388424624037), (1053, 0.0), (1054, 0.009787345357483596), (1055, 0.055589245406991145), (1056, 0.10068543460206492), (1057, 0.027465115006610065), (1058, 0.0), (1059, 0.004608762923380424), (1060, 0.023720026601872023), (1061, 0.01713485530042307), (1062, 0.0033226801439916426), (1063, 0.01278943245076979), (1064, 0.0), (1065, 0.005218118320436171), (1066, 0.06256171066530375), (1067, 0.02174630723642866), (1068, 0.018487824085513017), (1069, 0.030672992616661794), (1070, 0.003396420425833943), (1071, 0.019874268326023396), (1072, 0.0), (1073, 0.003777977711157138), (1074, 0.07609958072966545), (1075, 0.0), (1076, 0.005503268710972569), (1077, 0.004756533325507004), (1078, 0.003309329197321204), (1079, 0.026896499628589275), (1080, 0.013805303718872152), (1081, 0.0), (1082, 0.02513886284573958), (1083, 0.02069189258680389), (1084, 0.003893825814689599), (1085, 0.01172528261913965), (1086, 0.028330521989001493), (1087, 0.032647094172266806), (1088, 0.003396979274175086), (1089, 0.004368942003945433), (1090, 0.018858091004565564), (1091, 0.08731313370580064), (1092, 0.017540569899881397), (1093, 0.0035916417558764565), (1094, 0.0038889228998967057), (1095, 0.03974333802337511), (1096, 0.005554199568838392), (1097, 0.1263362427129892), (1098, 0.0), (1099, 0.0393763843695755), (1100, 0.003908053506933104), (1101, 0.020214171793398537), (1102, 0.005666196923822445), (1103, 0.00428211168571842), (1104, 0.004900557083306363), (1105, 0.013482896928968102), (1106, 0.020703532375620323), (1107, 0.018832901711573636), (1108, 0.1725060899891419), (1109, 0.058587686080572826), (1110, 0.034969732997339936), (1111, 0.09180789557635259), (1112, 0.003957931221071973), (1113, 0.025603772420699576), (1114, 0.029630424778830714), (1115, 0.013829099560545125), (1116, 0.0), (1117, 0.003817469779702763), (1118, 0.020653399822325), (1119, 0.0), (1120, 0.020924705383106396), (1121, 0.01886686945531577), (1122, 0.032954222972433105), (1123, 0.0), (1124, 0.01973247771866659), (1125, 0.022964334214255887), (1126, 0.01135726834941662), (1127, 0.0056191895028798325), (1128, 0.0), (1129, 0.08234507594182652), (1130, 0.02348312025994726), (1131, 0.015323817091517051), (1132, 0.00442480799554389), (1133, 0.003965275092011555), (1134, 0.029857837988225732), (1135, 0.012283375559898477), (1136, 0.008163521181569362), (1137, 0.03734356243036875), (1138, 0.04116293030029668), (1139, 0.0037377033335519246), (1140, 0.026278993543762973), (1141, 0.00610118740035729), (1142, 0.004163058466943075), (1143, 0.017666449245202366), (1144, 0.0159382949621567), (1145, 0.0), (1146, 0.023730842681707387), (1147, 0.0), (1148, 0.0), (1149, 0.017546113185136544), (1150, 0.10054131902305774), (1151, 0.033214140395236076), (1152, 0.0036841307127808624), (1153, 0.006789094795144071), (1154, 0.031677915603234665), (1155, 0.024569222695082518), (1156, 0.11301464439961795), (1157, 0.021735390301356322), (1158, 0.0), (1159, 0.0), (1160, 0.014496459689473266), (1161, 0.0), (1162, 0.027965153687224954), (1163, 0.0), (1164, 0.020813079684201687), (1165, 0.011913865521461228), (1166, 0.004050704162052783), (1167, 0.0), (1168, 0.0424210039768855), (1169, 0.03731986223386613), (1170, 0.008639420683775961), (1171, 0.03612331297265397), (1172, 0.04133612469391641), (1173, 0.08036734790373533), (1174, 0.005836445301046824), (1175, 0.007596953557453814), (1176, 0.047598668780764665), (1177, 0.02629473939842937), (1178, 0.020123689585256475), (1179, 0.017890252531032477), (1180, 0.02142982906026849), (1181, 0.0), (1182, 0.0), (1183, 0.023850396026959632), (1184, 0.03184472147416521), (1185, 0.01885084779716517), (1186, 0.004088167132891179), (1187, 0.004668859180381374), (1188, 0.0), (1189, 0.02127797252226426), (1190, 0.003778053419741498), (1191, 0.009348533429402383), (1192, 0.02582338273319794), (1193, 0.08571452699030604), (1194, 0.027274067301350506), (1195, 0.09781034799025358), (1196, 0.0039478811932976655), (1197, 0.0), (1198, 0.011384970905118533), (1199, 0.040054338760600994), (1200, 0.01729986484579382), (1201, 0.009000911298631306), (1202, 0.0), (1203, 0.0037310820301406406), (1204, 0.004031833461894499), (1205, 0.041411919067704084), (1206, 0.018426405271160164), (1207, 0.012645741060461659), (1208, 0.01100212129160534), (1209, 0.0), (1210, 0.02316760847713526), (1211, 0.022945386433632208), (1212, 0.02550992203157558), (1213, 0.0034907565475084355), (1214, 0.03804134166306609), (1215, 0.01705828199016783), (1216, 0.062129502620934696), (1217, 0.003449922748514045), (1218, 0.0044416394235799505), (1219, 0.00675313201099911), (1220, 0.004202260466110823), (1221, 0.01012915853579783), (1222, 0.0033312718390479256), (1223, 0.004673912833370098), (1224, 0.004148146941976443), (1225, 0.013964097551445887), (1226, 0.005651649587543368), (1227, 0.003969788051300527), (1228, 0.008078009418274426), (1229, 0.02197023726934613), (1230, 0.039022777003266854), (1231, 0.08045248212870623), (1232, 0.004004474464081854), (1233, 0.020837279002399258), (1234, 0.004208006266157369), (1235, 0.0038593765974694106), (1236, 0.055798560529075183), (1237, 0.0), (1238, 0.01604728166956654), (1239, 0.01980956596898858), (1240, 0.014670041170330939), (1241, 0.037459304083093815), (1242, 0.010521696091019661), (1243, 0.004334340812709849), (1244, 0.017752465751833278), (1245, 0.01927745247088485), (1246, 0.03084637317518422), (1247, 0.0), (1248, 0.014673967223991306), (1249, 0.020686681854453538), (1250, 0.025015114342931077), (1251, 0.003516414710222218), (1252, 0.005656394567277731), (1253, 0.020689162828795266), (1254, 0.023109753406666225), (1255, 0.0), (1256, 0.04164102190370173), (1257, 0.014801763692407953), (1258, 0.016013042188673637), (1259, 0.017984666983313333), (1260, 0.0270120787371584), (1261, 0.0038474505052041373), (1262, 0.037679317336694974), (1263, 0.03276239364436592), (1264, 0.0), (1265, 0.027819471416008337), (1266, 0.025934382536028), (1267, 0.027663011455986587), (1268, 0.003181313765688668), (1269, 0.033070697143265104), (1270, 0.008536718284410463), (1271, 0.0), (1272, 0.007417031651212913), (1273, 0.03599063610429003), (1274, 0.02414502881161337), (1275, 0.06801576151781359), (1276, 0.004258324545593206), (1277, 0.0064533518559742615), (1278, 0.02822652285513029), (1279, 0.0039199822794841735), (1280, 0.056487805381656694), (1281, 0.032438307786466836), (1282, 0.009225859679525984), (1283, 0.029216813496812984), (1284, 0.003868320960015109), (1285, 0.04975452042838395), (1286, 0.0038957333337852748), (1287, 0.00725261144486766), (1288, 0.04229906316692967), (1289, 0.015863783546078848), (1290, 0.022990499782180526), (1291, 0.026453681455446743), (1292, 0.029114454596631152), (1293, 0.016542409713157125), (1294, 0.0), (1295, 0.034877276802264365), (1296, 0.1542016401090485), (1297, 0.012614100028034501), (1298, 0.003951804935652622), (1299, 0.020269612995751873), (1300, 0.003360157525590897), (1301, 0.04859732075563357), (1302, 0.009820831888206524), (1303, 0.0), (1304, 0.013290043806862106), (1305, 0.007698182169895066), (1306, 0.029101031382281945), (1307, 0.015847005294050268), (1308, 0.014823800602506187), (1309, 0.01813077634834972), (1310, 0.015533484530160166), (1311, 0.004458045633964164), (1312, 0.0072826048677813), (1313, 0.003915829365139909), (1314, 0.025010303326355853), (1315, 0.03221939637188344), (1316, 0.0), (1317, 0.003219692753524827), (1318, 0.017220627999559986), (1319, 0.031115020363304036), (1320, 0.007601131535569105), (1321, 0.10137844104252611), (1322, 0.11002024255506454), (1323, 0.0034142699577959464), (1324, 0.030478004842766082), (1325, 0.0), (1326, 0.01404961867807083), (1327, 0.01093709492673965), (1328, 0.03496908426415499), (1329, 0.017031869101194898), (1330, 0.03598363585206887), (1331, 0.0036423178494752436), (1332, 0.026133818390163568), (1333, 0.012265119677139419), (1334, 0.0), (1335, 0.005765976003150659), (1336, 0.009061203637091616), (1337, 0.009881508865477416), (1338, 0.03010298472258121), (1339, 0.0), (1340, 0.0033747405316513863), (1341, 0.11117883578199217), (1342, 0.016902726280654756), (1343, 0.00553477337909569), (1344, 0.027567757053194305), (1345, 0.024161696931912068), (1346, 0.01799495364162705), (1347, 0.004497135658709189), (1348, 0.008434319451468646), (1349, 0.03528450805829245), (1350, 0.012893827146701071), (1351, 0.016521314567949724), (1352, 0.0151987669571896), (1353, 0.0036948553325579434), (1354, 0.03914673649950457), (1355, 0.0), (1356, 0.0), (1357, 0.030680069744732044), (1358, 0.09403448468312658), (1359, 0.008540146438875013), (1360, 0.004237430402132982), (1361, 0.052592547137350204), (1362, 0.014143906727569228), (1363, 0.020613712242605484), (1364, 0.07108951898927525), (1365, 0.011794932131195531), (1366, 0.011940201088223728), (1367, 0.0033185029044846943), (1368, 0.02109771631610501), (1369, 0.008483472188372533), (1370, 0.046747431176059916), (1371, 0.039254067474840566), (1372, 0.003727685115602367), (1373, 0.06157993072234303), (1374, 0.060509596751866776), (1375, 0.023361620334611765), (1376, 0.0037733618698560173), (1377, 0.008361155582234844), (1378, 0.019906832661743416), (1379, 0.014917410414294296), (1380, 0.04021768185728811), (1381, 0.04335477517001984), (1382, 0.019645632502308146), (1383, 0.0), (1384, 0.025019779267499587), (1385, 0.03320228808666492), (1386, 0.034036093939021815), (1387, 0.01194944770382762), (1388, 0.011551601174920366), (1389, 0.05669415603234901), (1390, 0.009284407213284648), (1391, 0.0), (1392, 0.024840376510453503), (1393, 0.0059946421776982395), (1394, 0.02535310442070139), (1395, 0.0037477419387567986), (1396, 0.04437858279757577), (1397, 0.009946109744791473), (1398, 0.03300328781427084), (1399, 0.0), (1400, 0.015874111645026407), (1401, 0.02804686149001747), (1402, 0.025839984842556188), (1403, 0.0030531428956318963), (1404, 0.004401069222825509), (1405, 0.003493580414388207), (1406, 0.020567490429248336), (1407, 0.0), (1408, 0.018533117784121915), (1409, 0.004251282932214793), (1410, 0.01923647041521284), (1411, 0.008527616750377387), (1412, 0.021462168006534468), (1413, 0.03542763714880992), (1414, 0.0), (1415, 0.0), (1416, 0.019039401495456368), (1417, 0.004456517019724132), (1418, 0.029071963921303783), (1419, 0.005715932194024644), (1420, 0.017868502391998952), (1421, 0.004488450950778558), (1422, 0.01227149347199593), (1423, 0.0), (1424, 0.004536813925026373), (1425, 0.02437936506872973), (1426, 0.004932768608313258), (1427, 0.0032574946517893344), (1428, 0.0), (1429, 0.0), (1430, 0.0043292481979788), (1431, 0.020187998867210226), (1432, 0.04714488529303097), (1433, 0.018501947971733608), (1434, 0.0), (1435, 0.0), (1436, 0.018931752879431604), (1437, 0.01950200279225308), (1438, 0.014913783068780271), (1439, 0.0), (1440, 0.013441175301498168), (1441, 0.004283848174312497), (1442, 0.04062576280194583), (1443, 0.015497475941549666), (1444, 0.003954228236081507), (1445, 0.01988637450438646), (1446, 0.008269855049835661), (1447, 0.008511862747523063), (1448, 0.0), (1449, 0.0), (1450, 0.0), (1451, 0.02289205613711784), (1452, 0.03731251624088165), (1453, 0.010689621990688278), (1454, 0.07431404577197112), (1455, 0.0370279372963846), (1456, 0.004321556760245554), (1457, 0.0757655940950335), (1458, 0.011203302474490758), (1459, 0.05662967526069578), (1460, 0.10760956690248924), (1461, 0.024233136020023544), (1462, 0.0), (1463, 0.004489029847404857), (1464, 0.0076276976353472645), (1465, 0.011518372111983994), (1466, 0.015431042957611527), (1467, 0.051541201120173706), (1468, 0.03701009753531176), (1469, 0.030612359570232683), (1470, 0.08230866142519144), (1471, 0.011138940015117844), (1472, 0.014130104653409371), (1473, 0.004025019299335708), (1474, 0.013587298463007071), (1475, 0.007847491370296), (1476, 0.004026014247447536), (1477, 0.030597338375835538), (1478, 0.005467041856463219), (1479, 0.004358436333489441), (1480, 0.0), (1481, 0.0), (1482, 0.0075431030518815015), (1483, 0.005664847454740185), (1484, 0.006039114675252678), (1485, 0.0035852247055671847), (1486, 0.059634579355660945), (1487, 0.012596306906858394), (1488, 0.0079676229956263), (1489, 0.035830817265133784), (1490, 0.010989215540597497), (1491, 0.0210422434667132), (1492, 0.003438906124286278), (1493, 0.004488712975988595), (1494, 0.040855500240794915), (1495, 0.021175075697310974), (1496, 0.012484416502148599), (1497, 0.017186652912601397), (1498, 0.022150234248518346), (1499, 0.0), (1500, 0.033548217106407124), (1501, 0.023658981472384884), (1502, 0.03194686675044773), (1503, 0.02917182367208771), (1504, 0.005654450149409546), (1505, 0.023930174468931337), (1506, 0.012286596184777487), (1507, 0.004550625737332252), (1508, 0.007826933790216069), (1509, 0.0031806762354696155), (1510, 0.05878555731238468), (1511, 0.02760779672843249), (1512, 0.039043796936064745), (1513, 0.010086755361227336), (1514, 0.00696664377444976), (1515, 0.03802618928464467), (1516, 0.04155851405435111), (1517, 0.013227219258703179), (1518, 0.004279809969450269), (1519, 0.0), (1520, 0.00926384475668926), (1521, 0.02719915636681241), (1522, 0.05831170613845173), (1523, 0.016496267480974908), (1524, 0.10836741818369795), (1525, 0.008848064371148063), (1526, 0.008246627652793189), (1527, 0.0055873652897478155), (1528, 0.04711593580192201), (1529, 0.013745640901643583), (1530, 0.030939699685321516), (1531, 0.0), (1532, 0.003772055033037864), (1533, 0.032346087834109916), (1534, 0.0), (1535, 0.09550893719194153), (1536, 0.05564397304151912), (1537, 0.015351620390815515), (1538, 0.0), (1539, 0.011238430616135626), (1540, 0.006669236805565474), (1541, 0.014694265965224267), (1542, 0.00411429417480425), (1543, 0.003661138473146258), (1544, 0.028725838608180506), (1545, 0.009285322087966579), (1546, 0.02602539334235083), (1547, 0.015416820518829418), (1548, 0.013120137027135593), (1549, 0.036158352448633926), (1550, 0.0), (1551, 0.03669758424636824), (1552, 0.03550420752064837), (1553, 0.008218224831487375), (1554, 0.0364697348530401), (1555, 0.004334306433408398), (1556, 0.0), (1557, 0.004083339436005749), (1558, 0.024515371734407855), (1559, 0.0040294980549235), (1560, 0.010911503742298916), (1561, 0.05035771400503786), (1562, 0.0), (1563, 0.008634559931118821), (1564, 0.014685388362241062), (1565, 0.00397969208997988), (1566, 0.033150710888302695), (1567, 0.02948171856633216), (1568, 0.004248787404242728), (1569, 0.017089171956188257), (1570, 0.029982841172156834), (1571, 0.01976176646567459), (1572, 0.018312896006369872), (1573, 0.0), (1574, 0.004698425570859887), (1575, 0.05487535053642435), (1576, 0.016634924951672063), (1577, 0.022057441522162397), (1578, 0.009089037297474834), (1579, 0.04426485355387682), (1580, 0.0), (1581, 0.005692516226613365), (1582, 0.0038150329795485546), (1583, 0.00945445823047837), (1584, 0.11329440518210504), (1585, 0.02354303823079564), (1586, 0.018053454155642648), (1587, 0.022258283533175927), (1588, 0.0), (1589, 0.0493039312326132), (1590, 0.026008833721120186), (1591, 0.042936020971975804), (1592, 0.06568929841236973), (1593, 0.0), (1594, 0.014874902347128746), (1595, 0.022300378737749146), (1596, 0.004221159262464523), (1597, 0.00831292518259629), (1598, 0.011353665299475374), (1599, 0.00980377988508822), (1600, 0.0327931797133772), (1601, 0.010209073649580177), (1602, 0.02253580413302003), (1603, 0.029694558119996738), (1604, 0.01312398367770775), (1605, 0.0), (1606, 0.0), (1607, 0.007330724121940423), (1608, 0.04364043164523551), (1609, 0.004240575925059335), (1610, 0.0036791894827386423), (1611, 0.032611739274689196), (1612, 0.0), (1613, 0.057392229323317334), (1614, 0.004251118141974895), (1615, 0.013620276951806783), (1616, 0.0034921561923441976), (1617, 0.0045453794747475984), (1618, 0.0038477996535449636), (1619, 0.00496173365117529), (1620, 0.004353536746786307), (1621, 0.0), (1622, 0.019646460129085677), (1623, 0.01420047972999678), (1624, 0.0), (1625, 0.0), (1626, 0.007819420684328612), (1627, 0.01793555905988374), (1628, 0.0), (1629, 0.01831900703695774), (1630, 0.008835506589139982), (1631, 0.0), (1632, 0.018902627840541097), (1633, 0.0), (1634, 0.007877073217645919), (1635, 0.13111646017513168), (1636, 0.004797114231790053), (1637, 0.0042625634770685865), (1638, 0.018959244838894843), (1639, 0.0033640935417530715), (1640, 0.017451077370877775), (1641, 0.0), (1642, 0.007986930300627283), (1643, 0.004888033102746934), (1644, 0.003969328083312182), (1645, 0.036497740434439416), (1646, 0.017476528789373936), (1647, 0.018892555824159128), (1648, 0.00695394993643128), (1649, 0.04943863254312646), (1650, 0.022595260516514493), (1651, 0.0767918498996218), (1652, 0.0035247916435110285), (1653, 0.09816802121414879), (1654, 0.04243572979012347), (1655, 0.0), (1656, 0.022066123590215377), (1657, 0.023117554320942202), (1658, 0.043718790919592965), (1659, 0.006085269014144539), (1660, 0.009016608670683386), (1661, 0.0), (1662, 0.04772182668725967), (1663, 0.0037436279775735276), (1664, 0.051213621520416), (1665, 0.031481302991984504), (1666, 0.009182755699943495), (1667, 0.0), (1668, 0.03203492927986376), (1669, 0.005728716812753532), (1670, 0.0), (1671, 0.0827539407006169), (1672, 0.0), (1673, 0.003699460551380906), (1674, 0.0), (1675, 0.024783257371293974), (1676, 0.019334844240830616), (1677, 0.051022529471886714), (1678, 0.01030581513173539), (1679, 0.014395069404773362), (1680, 0.021302525370228566), (1681, 0.011379497067713556), (1682, 0.05182826969731737), (1683, 0.004252348715568748), (1684, 0.003480890398922338), (1685, 0.0), (1686, 0.02583929620257678), (1687, 0.040234837888803776), (1688, 0.013547499803838705), (1689, 0.01393891166479231), (1690, 0.03429626099721797), (1691, 0.03411526358205215), (1692, 0.010255427992223513), (1693, 0.0037310788821595217), (1694, 0.00352820769586497), (1695, 0.006984897622409941), (1696, 0.025099810417178306), (1697, 0.019587402885091715), (1698, 0.019518976235057255), (1699, 0.013267968323686416), (1700, 0.027009894320719843), (1701, 0.07014356019033485), (1702, 0.008969393373372679), (1703, 0.0), (1704, 0.025379541118168022), (1705, 0.014174457332613159), (1706, 0.007596260670784407), (1707, 0.003977927527988305), (1708, 0.006131888561490085), (1709, 0.053691728365740744), (1710, 0.004410347035888211), (1711, 0.0), (1712, 0.0), (1713, 0.015030789993198635), (1714, 0.06385256060903109), (1715, 0.007118044566476121), (1716, 0.04441381203469927), (1717, 0.015509361049587424), (1718, 0.009045555423451902), (1719, 0.007788281819487736), (1720, 0.0), (1721, 0.009060795036692364), (1722, 0.019220033074633314), (1723, 0.021030630046502432), (1724, 0.0), (1725, 0.01346931093917969), (1726, 0.008855520089457076), (1727, 0.026012097161711496), (1728, 0.004410223551750713), (1729, 0.0036193423060747972), (1730, 0.013924073887487662), (1731, 0.01233096181908824), (1732, 0.029316588803326535), (1733, 0.009462142439932635), (1734, 0.010145922632398436), (1735, 0.028287300571733655), (1736, 0.005976655516851877), (1737, 0.02053051479798522), (1738, 0.015338669986608171), (1739, 0.0), (1740, 0.0776546995368069), (1741, 0.004005972149557043), (1742, 0.018902258030645148), (1743, 0.016781331979524507), (1744, 0.003790945760255988), (1745, 0.028351663146868784), (1746, 0.012399301536115471), (1747, 0.0), (1748, 0.0), (1749, 0.005354673288017246), (1750, 0.05289098526565583), (1751, 0.04519594427542858), (1752, 0.003285492933185879), (1753, 0.0), (1754, 0.0), (1755, 0.01602424804857587), (1756, 0.08516059193322265), (1757, 0.003914630000551102), (1758, 0.018683732917438137), (1759, 0.007509403169853558), (1760, 0.0), (1761, 0.0), (1762, 0.004153543356047488), (1763, 0.0), (1764, 0.019545426047224694), (1765, 0.0041099779054165385), (1766, 0.004385133346234702), (1767, 0.03063187711938341), (1768, 0.004786924094245754), (1769, 0.004015695470641299), (1770, 0.006138835082766781), (1771, 0.01882513426539311), (1772, 0.07301259943026939), (1773, 0.017387544561216953), (1774, 0.06526350606414101), (1775, 0.03451941856037786), (1776, 0.013505485057501815), (1777, 0.004082524581596328), (1778, 0.008038036311443177), (1779, 0.0), (1780, 0.0), (1781, 0.01616196068564063), (1782, 0.004258342284979152), (1783, 0.0366207258169988), (1784, 0.025927899303270278), (1785, 0.0037602081211472044), (1786, 0.004370532803683016), (1787, 0.012583268102290863), (1788, 0.040775153795168446), (1789, 0.07798060730535132), (1790, 0.0047371624317549795), (1791, 0.05876897843241934), (1792, 0.040639785184134476), (1793, 0.004363818136737703), (1794, 0.007896472368781696), (1795, 0.016046725543905193), (1796, 0.005209050452754769), (1797, 0.01508849629778048), (1798, 0.027289753189209884), (1799, 0.067117373053953), (1800, 0.013666351489957535), (1801, 0.0), (1802, 0.06030236745240814), (1803, 0.00867955781322945), (1804, 0.008655917503554773), (1805, 0.010833781519880112), (1806, 0.023712999711336193), (1807, 0.019338149981027754), (1808, 0.017872740430570182), (1809, 0.016170527759300196), (1810, 0.026210190287879038), (1811, 0.0), (1812, 0.04304516035424426), (1813, 0.0), (1814, 0.0), (1815, 0.00660882136169306), (1816, 0.011361218656635405), (1817, 0.00835663333586942), (1818, 0.03247280693012608), (1819, 0.0), (1820, 0.0), (1821, 0.025077333689828004), (1822, 0.010221527554328487), (1823, 0.028028551476790984), (1824, 0.008111799900080327), (1825, 0.040552709214641006), (1826, 0.0), (1827, 0.003593453310977353), (1828, 0.008943597703651177), (1829, 0.0), (1830, 0.0035210580415616943), (1831, 0.014889829547837335), (1832, 0.0), (1833, 0.009848612564999366), (1834, 0.00393951691337519), (1835, 0.0), (1836, 0.026493165794561846), (1837, 0.003934817668133463), (1838, 0.0), (1839, 0.06880959010628684), (1840, 0.0), (1841, 0.018609806121698835), (1842, 0.003888079182711661), (1843, 0.0), (1844, 0.012627386046041307), (1845, 0.003937247346755954), (1846, 0.012894707084365103), (1847, 0.009997323478032538), (1848, 0.11133285087462125), (1849, 0.018737142134176387), (1850, 0.027109502740670532), (1851, 0.008984273878210644), (1852, 0.004591329913941534), (1853, 0.0060430363178461165), (1854, 0.0), (1855, 0.010757844674248717), (1856, 0.025752299190684655), (1857, 0.024197718643090622), (1858, 0.022369157850996434), (1859, 0.004909441661867179), (1860, 0.0), (1861, 0.017439012826422556), (1862, 0.0), (1863, 0.030451195819324095), (1864, 0.019127972474374512), (1865, 0.042114703046233645), (1866, 0.0), (1867, 0.023662737662208395), (1868, 0.007443316697353339), (1869, 0.0), (1870, 0.008654419977050513), (1871, 0.0031628260578250816), (1872, 0.0), (1873, 0.0), (1874, 0.0), (1875, 0.0042755113777178), (1876, 0.00574192650724336), (1877, 0.008234845191896469), (1878, 0.0037731078399083815), (1879, 0.004020230126205267), (1880, 0.04901231972221158), (1881, 0.014997560695771647), (1882, 0.019832402897353538), (1883, 0.009482363903511799), (1884, 0.0), (1885, 0.0), (1886, 0.02636072222424276), (1887, 0.005276246249749091), (1888, 0.012380854431289098), (1889, 0.011676877796350666), (1890, 0.0), (1891, 0.0), (1892, 0.0), (1893, 0.013293306343866107), (1894, 0.014343922125617008), (1895, 0.020598708915273344), (1896, 0.0211415168550032), (1897, 0.0), (1898, 0.14110540770555763), (1899, 0.00370457457213171), (1900, 0.003825855608731433), (1901, 0.028999550278262398), (1902, 0.004176897380495971), (1903, 0.06628085103405758), (1904, 0.06420026280535697), (1905, 0.0043323809553255195), (1906, 0.003987301381179499), (1907, 0.009289035314504451), (1908, 0.09999147165953491), (1909, 0.02297490120511004), (1910, 0.003933308197676667), (1911, 0.07973394752194235), (1912, 0.011011673516103167), (1913, 0.02364479747575203), (1914, 0.008110416485941973), (1915, 0.02715938363768758), (1916, 0.0), (1917, 0.004079141564386474), (1918, 0.01590677045434543), (1919, 0.03374034439164596), (1920, 0.0), (1921, 0.049600897561077925), (1922, 0.027844134559857302), (1923, 0.004413302796098294), (1924, 0.0), (1925, 0.029554116813284424), (1926, 0.012221459211765966), (1927, 0.0), (1928, 0.009756232535637718), (1929, 0.003788332382111482), (1930, 0.0), (1931, 0.10870756332217534), (1932, 0.023675615400390017), (1933, 0.0), (1934, 0.018540648721860564), (1935, 0.011440271985943837), (1936, 0.01352860789208788), (1937, 0.005607837912892969), (1938, 0.0033131728979636605), (1939, 0.022840501288576377), (1940, 0.0), (1941, 0.011589319269447777), (1942, 0.0), (1943, 0.038602697652611276), (1944, 0.003300456333279858), (1945, 0.03341230594873133), (1946, 0.0311689561237678), (1947, 0.004613075579421529), (1948, 0.06475154530967711), (1949, 0.010038512348825718), (1950, 0.003803019817307964), (1951, 0.013372063526800966), (1952, 0.005013612033024966), (1953, 0.017243346246873088), (1954, 0.003520117006846962), (1955, 0.012081198387404731), (1956, 0.004019461668679669), (1957, 0.011161451308386902), (1958, 0.0156530279731723), (1959, 0.0), (1960, 0.0), (1961, 0.0654817471721478), (1962, 0.0), (1963, 0.019385477623935585), (1964, 0.056096790897807475), (1965, 0.012013555456702029), (1966, 0.10575403768763261), (1967, 0.019355353430588456), (1968, 0.05365276092615126), (1969, 0.0044931856414641026), (1970, 0.0), (1971, 0.00878538351723843), (1972, 0.0), (1973, 0.04182167686421112), (1974, 0.01739390955844563), (1975, 0.0), (1976, 0.028593839590013485), (1977, 0.005083132859033299), (1978, 0.0035417945964074165), (1979, 0.0), (1980, 0.0035642348361933827), (1981, 0.007206774722773269), (1982, 0.06531357633993042), (1983, 0.0), (1984, 0.026210235193072803), (1985, 0.010473570301664433), (1986, 0.07057065962329544), (1987, 0.024345805766448056), (1988, 0.00441210586538809), (1989, 0.006046149227581573), (1990, 0.004241794285367227), (1991, 0.020174592603477377), (1992, 0.003712478295206188), (1993, 0.0), (1994, 0.007678375555655204), (1995, 0.021490817162658576), (1996, 0.019143811342564147), (1997, 0.010116961604610238), (1998, 0.020227367275670424), (1999, 0.01299212275119226), (2000, 0.023301460721593448), (2001, 0.0034218364546926886), (2002, 0.004159143087641243), (2003, 0.008337141874784525), (2004, 0.014413176713454842), (2005, 0.0257355830026404), (2006, 0.009808718609519646), (2007, 0.0036271837504967186), (2008, 0.0), (2009, 0.004706542326301101), (2010, 0.024468162072931614), (2011, 0.013887632781877893), (2012, 0.07100765575997509), (2013, 0.0301341117965099), (2014, 0.0263791566886392), (2015, 0.03469647720758271), (2016, 0.03699823385617549), (2017, 0.009503168019184603), (2018, 0.0194625089391777), (2019, 0.011422632160362857), (2020, 0.008841307367868485), (2021, 0.038187617229220976), (2022, 0.021459303836451834), (2023, 0.004384441675008141), (2024, 0.005467035002941022), (2025, 0.007987602666187303), (2026, 0.023940984347974505), (2027, 0.004491124538219541), (2028, 0.02234790277847795), (2029, 0.004545534119637245), (2030, 0.09077314688703708), (2031, 0.012604209164058244), (2032, 0.014769266085555307), (2033, 0.008807700259968545), (2034, 0.01090546746780371), (2035, 0.012938454916490684), (2036, 0.025802548593161397), (2037, 0.005073988927081294), (2038, 0.037026288166841996), (2039, 0.0), (2040, 0.006307242062705194), (2041, 0.004030085498633838), (2042, 0.004146644003013338), (2043, 0.016246991829166474), (2044, 0.0060642681210880955), (2045, 0.033768914602174245), (2046, 0.008618967011358402), (2047, 0.00822851783100665), (2048, 0.023247728132984383), (2049, 0.004380918844309767), (2050, 0.010967001028129083), (2051, 0.017109724110742075), (2052, 0.009030293308347268), (2053, 0.025376530270001786), (2054, 0.0), (2055, 0.055160618350802396), (2056, 0.022827593533498898), (2057, 0.0), (2058, 0.03508784320498221), (2059, 0.003465711553257856), (2060, 0.018839799183552445), (2061, 0.03535679825608083), (2062, 0.08858618997348713), (2063, 0.003602630488797355), (2064, 0.002926960039840623), (2065, 0.020258159234014833), (2066, 0.01489078456765995), (2067, 0.013316412920302067), (2068, 0.01808586462451445), (2069, 0.0), (2070, 0.003982409747744797), (2071, 0.012359723751144507), (2072, 0.00482449318454224), (2073, 0.020305622047795572), (2074, 0.02170368322358813), (2075, 0.037076345691164615), (2076, 0.0072783024687012535), (2077, 0.011808936891027893), (2078, 0.04015812896672334), (2079, 0.009851349326049154), (2080, 0.0), (2081, 0.08760033088411763), (2082, 0.010504602287690448), (2083, 0.05924407057811696), (2084, 0.0), (2085, 0.005948201813218838), (2086, 0.030372204350691948), (2087, 0.003886675943165631), (2088, 0.005981492325465147), (2089, 0.0), (2090, 0.024903122139678973), (2091, 0.04615374365292642), (2092, 0.01983562129408751), (2093, 0.015917333962587616), (2094, 0.009808412418784064), (2095, 0.04389427611448819), (2096, 0.0), (2097, 0.01638745484373004), (2098, 0.05705560983025089), (2099, 0.00371424556834105), (2100, 0.03376167324883482), (2101, 0.0043486075051852695), (2102, 0.009103318405610603), (2103, 0.017422636228119782), (2104, 0.0), (2105, 0.02972391200723431), (2106, 0.008215988675167298), (2107, 0.02276317599554488), (2108, 0.004410638035925798), (2109, 0.0046932810380912945), (2110, 0.060162300891839306), (2111, 0.0077850418739160016), (2112, 0.005138819154888351), (2113, 0.023168241740128194), (2114, 0.042299013272464804), (2115, 0.0), (2116, 0.004288875575280617), (2117, 0.012696943375390705), (2118, 0.0057913286034892665), (2119, 0.0), (2120, 0.04345157927311477), (2121, 0.0), (2122, 0.0194299960846839), (2123, 0.01558728347340449), (2124, 0.06912687577463626), (2125, 0.0339292822267854), (2126, 0.045895796816887), (2127, 0.027894698890553515), (2128, 0.008486121064630914), (2129, 0.0), (2130, 0.007609348102434482), (2131, 0.022756566400649894), (2132, 0.033731766756380566), (2133, 0.0), (2134, 0.036933749339645244), (2135, 0.013927629709362748), (2136, 0.035899478961119294), (2137, 0.0056321939569277295), (2138, 0.00450389606040101), (2139, 0.035790380898218), (2140, 0.0037784945143577472), (2141, 0.0), (2142, 0.0), (2143, 0.008250825050422555), (2144, 0.0), (2145, 0.015328502123694656), (2146, 0.003396003728039298), (2147, 0.009159882514343994), (2148, 0.00823768191671703), (2149, 0.0), (2150, 0.016666492196033153), (2151, 0.008473673658187587), (2152, 0.015091327253994903), (2153, 0.017304719933961522), (2154, 0.022731704800603894), (2155, 0.015539829337527261), (2156, 0.007684329541411907), (2157, 0.0033414344363782494), (2158, 0.004633286508937857), (2159, 0.04738613342324756), (2160, 0.012501611521772451), (2161, 0.015975467052730542), (2162, 0.0), (2163, 0.0), (2164, 0.019263793588626787), (2165, 0.0), (2166, 0.025832793886545087), (2167, 0.01276650536348764), (2168, 0.0034005113286991323), (2169, 0.004686000490277325), (2170, 0.0037161899898903745), (2171, 0.008132271554449535), (2172, 0.007708921405866665), (2173, 0.0), (2174, 0.0), (2175, 0.012898071713955175), (2176, 0.0), (2177, 0.05449345174932964), (2178, 0.029425781695096284), (2179, 0.0037330917260666287), (2180, 0.05211095095897787), (2181, 0.05903001241220635), (2182, 0.006413634583510333), (2183, 0.010665552465853574), (2184, 0.005362963242549943), (2185, 0.015418183305776163), (2186, 0.0045042131692739585), (2187, 0.004560715936399545), (2188, 0.0069675315844775175), (2189, 0.0), (2190, 0.0), (2191, 0.0), (2192, 0.019167323978164647), (2193, 0.008708226318400885), (2194, 0.004121451085315247), (2195, 0.004643628051065763), (2196, 0.0), (2197, 0.019838543431694854), (2198, 0.03483679536598312), (2199, 0.005172798593673407), (2200, 0.004060840021134336), (2201, 0.003696630982614684), (2202, 0.0074873410240937095), (2203, 0.0946354430507966), (2204, 0.007315472975980613), (2205, 0.06729471700144501), (2206, 0.005457021467573732), (2207, 0.0036380699707689195), (2208, 0.01824119560546955), (2209, 0.0044240281340766265), (2210, 0.04242696770888015), (2211, 0.02008061072366054), (2212, 0.020723351111600567), (2213, 0.0), (2214, 0.01667368447984831), (2215, 0.04125855793698367), (2216, 0.0), (2217, 0.030956453962652394), (2218, 0.01796269264523167), (2219, 0.0029326551024731026), (2220, 0.0), (2221, 0.09458206300776549), (2222, 0.00891369261259992), (2223, 0.0045182644247962435), (2224, 0.014253478991254296), (2225, 0.003639743868593217), (2226, 0.0), (2227, 0.00804603256694211), (2228, 0.005143157817681275), (2229, 0.0), (2230, 0.0), (2231, 0.0), (2232, 0.025006875405727574), (2233, 0.07071626380492244), (2234, 0.00816274107890951), (2235, 0.0), (2236, 0.04629574971390504), (2237, 0.019786073459966604), (2238, 0.005912441632702642), (2239, 0.038938419851724235), (2240, 0.02102612301389042), (2241, 0.08813366121071413), (2242, 0.0037771042928148152), (2243, 0.00612374693929519), (2244, 0.0), (2245, 0.004496986940675333), (2246, 0.004647155856057464), (2247, 0.0), (2248, 0.0), (2249, 0.012028072031458052), (2250, 0.024588923596285152), (2251, 0.0), (2252, 0.010032961744309754), (2253, 0.0), (2254, 0.0), (2255, 0.0), (2256, 0.0), (2257, 0.051792546440152035), (2258, 0.004309069173783328), (2259, 0.03636857723085654), (2260, 0.004250966448373063), (2261, 0.02517692421892994), (2262, 0.007774604340704205), (2263, 0.021159565963171877), (2264, 0.003530383559136753), (2265, 0.05163743966215098), (2266, 0.0), (2267, 0.017485446280922943), (2268, 0.019246777159870262), (2269, 0.02308146395005154), (2270, 0.02755134411968862), (2271, 0.0037607270216121827), (2272, 0.0036910808208806636), (2273, 0.018100152974968066), (2274, 0.008909480037413927), (2275, 0.0077313848689598485), (2276, 0.005864342311700255), (2277, 0.05377903015906906), (2278, 0.024899047491601045), (2279, 0.0), (2280, 0.02363682096321106), (2281, 0.02561713647615862), (2282, 0.0051055890369122205), (2283, 0.034177146792682245), (2284, 0.003995260924420262), (2285, 0.021926130968773876), (2286, 0.025415124988944018), (2287, 0.020329312254237487), (2288, 0.0), (2289, 0.0), (2290, 0.004055128413771423), (2291, 0.016890671581273782), (2292, 0.019602593472451815), (2293, 0.0), (2294, 0.022148570084601683), (2295, 0.0), (2296, 0.01836862169598495), (2297, 0.0038951068061527983), (2298, 0.04923431082325094), (2299, 0.024081358087223125), (2300, 0.0), (2301, 0.05447664039589892), (2302, 0.004513561278471898), (2303, 0.008138989576579313), (2304, 0.008879992759045214), (2305, 0.0045449201124593205), (2306, 0.0), (2307, 0.00407607262619182), (2308, 0.023819284803214453), (2309, 0.0037960096574039563), (2310, 0.0), (2311, 0.008117837002434899), (2312, 0.005721111158200893), (2313, 0.028004003606613266), (2314, 0.0), (2315, 0.008924986895151619), (2316, 0.022241312119796103), (2317, 0.0043079654081394315), (2318, 0.007688495230464394), (2319, 0.03186188384465877), (2320, 0.01544484566314527), (2321, 0.0), (2322, 0.02328351478463607), (2323, 0.0), (2324, 0.00971247525430085), (2325, 0.004125334993676397), (2326, 0.01927204252239438), (2327, 0.026679905878963933), (2328, 0.0), (2329, 0.015848100805219797), (2330, 0.039944726364445765), (2331, 0.015616366507123006), (2332, 0.0077573736900495936), (2333, 0.00473050270688398), (2334, 0.02029225982524892), (2335, 0.008017863391678088), (2336, 0.003951515776550339), (2337, 0.029024970362203945), (2338, 0.008413053584523876), (2339, 0.00980141677110528), (2340, 0.019356917291316278), (2341, 0.030771130322182854), (2342, 0.0), (2343, 0.0), (2344, 0.0), (2345, 0.05558418606692234), (2346, 0.0), (2347, 0.0), (2348, 0.0037430138119456204), (2349, 0.0), (2350, 0.0), (2351, 0.010300603191639987), (2352, 0.006433376714910344), (2353, 0.01771981056314957), (2354, 0.0), (2355, 0.03856662229274989), (2356, 0.014797299462303033), (2357, 0.027088425963655217), (2358, 0.0), (2359, 0.0), (2360, 0.019196080903026776), (2361, 0.006055675213495595), (2362, 0.0), (2363, 0.017719865512096363), (2364, 0.009247448518915999), (2365, 0.03740531742497816), (2366, 0.0035241158173964504), (2367, 0.012717365884767608), (2368, 0.004736277881896832), (2369, 0.019437614622851145), (2370, 0.0), (2371, 0.03970853487953423), (2372, 0.0), (2373, 0.03057000046161271), (2374, 0.0), (2375, 0.004365629371837338), (2376, 0.032690094354876166), (2377, 0.0068504317896740455), (2378, 0.02760400147428639), (2379, 0.0313468347059363), (2380, 0.004156578587212372), (2381, 0.019188717015957837), (2382, 0.026219600158454016), (2383, 0.02885440486621832), (2384, 0.004425791132692394), (2385, 0.004185431355293592), (2386, 0.0), (2387, 0.003965178820014184), (2388, 0.0), (2389, 0.033123816593917506), (2390, 0.0), (2391, 0.004244253025952025), (2392, 0.0), (2393, 0.04026771540986535), (2394, 0.004187227114445117), (2395, 0.03004517554598101), (2396, 0.004009936940730253), (2397, 0.004041498016062249), (2398, 0.01504616151929038), (2399, 0.00893811854365434), (2400, 0.0), (2401, 0.0), (2402, 0.00359877990664479), (2403, 0.004580049766922179), (2404, 0.005404957317089496), (2405, 0.0), (2406, 0.03239933506035065), (2407, 0.0), (2408, 0.015123497193470543), (2409, 0.05263697402744078), (2410, 0.004359399947353584), (2411, 0.004499705234711411), (2412, 0.017085479731503216), (2413, 0.05564423783401644), (2414, 0.012281247447427555), (2415, 0.006927628302596263), (2416, 0.004588746745864989), (2417, 0.0), (2418, 0.004935227987952666), (2419, 0.0), (2420, 0.02712423441962441), (2421, 0.04034625877411832), (2422, 0.012896384068794666), (2423, 0.005007997124979392), (2424, 0.008776652497245425), (2425, 0.0), (2426, 0.031508501880889994), (2427, 0.026191818994644442), (2428, 0.014607974514734286), (2429, 0.0052922106693458594), (2430, 0.040438521137880004), (2431, 0.00888172928857987), (2432, 0.029160112094132128), (2433, 0.015071514902033328), (2434, 0.004750628770954386), (2435, 0.03116123896646903), (2436, 0.009645156554067518), (2437, 0.0), (2438, 0.0), (2439, 0.02427756736502069), (2440, 0.004035677765179534), (2441, 0.02760710561925353), (2442, 0.03080614668638533), (2443, 0.016118584476053573), (2444, 0.022304702879140673), (2445, 0.0036574846662705074), (2446, 0.022002209525529958), (2447, 0.003993248395081368), (2448, 0.0), (2449, 0.003999555830954237), (2450, 0.029179484477574447), (2451, 0.02944412724541251), (2452, 0.00435956619612097), (2453, 0.009139079520243), (2454, 0.021429691720612556), (2455, 0.005043823783768464), (2456, 0.004101439288872812), (2457, 0.0), (2458, 0.009404428381984723), (2459, 0.006948942801446368), (2460, 0.0034631316658368626), (2461, 0.00385295658739533), (2462, 0.0), (2463, 0.004576556588671355), (2464, 0.004358220223713522), (2465, 0.02924731132800786), (2466, 0.0), (2467, 0.00383394861970422), (2468, 0.01131362791165108), (2469, 0.0), (2470, 0.011706505966890893), (2471, 0.04601252312898217), (2472, 0.03689264428580095), (2473, 0.007169145945804839), (2474, 0.016491646378718243), (2475, 0.0), (2476, 0.006491706825296033), (2477, 0.0), (2478, 0.00456182829219371), (2479, 0.04142622109597076), (2480, 0.004615887784170734), (2481, 0.003877278423225596), (2482, 0.0042915901793401405), (2483, 0.005240652618385194), (2484, 0.026590659140695864), (2485, 0.015631938168398887), (2486, 0.02729041375146684), (2487, 0.024224153207225926), (2488, 0.029281792945246746), (2489, 0.0), (2490, 0.03130613083179587), (2491, 0.007956471526009829), (2492, 0.013368779869633848), (2493, 0.021661065891768437), (2494, 0.025837607292866778), (2495, 0.003973469003748829), (2496, 0.032939243630743964), (2497, 0.007970178998432212), (2498, 0.009172276283956797), (2499, 0.0972658656540573), (2500, 0.03329144331557987), (2501, 0.037961727382037826), (2502, 0.0), (2503, 0.004616903875338432), (2504, 0.07208442128948976), (2505, 0.0), (2506, 0.013279809847088216), (2507, 0.004316756495091754), (2508, 0.0032892646142497566), (2509, 0.01091782164154815), (2510, 0.03814582398869341), (2511, 0.008944949546135963), (2512, 0.08868536157510146), (2513, 0.11048325699847197), (2514, 0.007753102188473593), (2515, 0.004933558442291767), (2516, 0.004210511460790109), (2517, 0.0), (2518, 0.03230460924075629), (2519, 0.004098977348485474), (2520, 0.013239755103270903), (2521, 0.03332419017054085), (2522, 0.030451350950493297), (2523, 0.006868266521320805), (2524, 0.014300229983430198), (2525, 0.004384203345343163), (2526, 0.0038094237459150786), (2527, 0.030294075684810903), (2528, 0.014241141474273293), (2529, 0.005768438478661934), (2530, 0.04255075615086125), (2531, 0.024975826048263605), (2532, 0.013754500863145006), (2533, 0.0), (2534, 0.037642437601732186), (2535, 0.004404375545395575), (2536, 0.005190999807540199), (2537, 0.0054513059921628484), (2538, 0.0), (2539, 0.09841848250394104), (2540, 0.0054412417993903615), (2541, 0.0), (2542, 0.0035967757128159924), (2543, 0.00498621930793261), (2544, 0.01637287100531219), (2545, 0.0), (2546, 0.024882960347473206), (2547, 0.01364912633335976), (2548, 0.028040218736533718), (2549, 0.02103081713171216), (2550, 0.013926361077935049), (2551, 0.011686335287276726), (2552, 0.004352974850389096), (2553, 0.012952276538684873), (2554, 0.0173622381908409), (2555, 0.015052435337358882), (2556, 0.0), (2557, 0.0), (2558, 0.0), (2559, 0.01740070654480274), (2560, 0.0053436537312253635), (2561, 0.0041457958742680745), (2562, 0.012678918591830329), (2563, 0.01630535335647411), (2564, 0.004936811781496906), (2565, 0.0), (2566, 0.008402359968085494), (2567, 0.01570773249230273), (2568, 0.0056943270331261), (2569, 0.01136487646686805), (2570, 0.004677062958634556), (2571, 0.04302190017813854), (2572, 0.0), (2573, 0.02098163170912494), (2574, 0.02962454767354162), (2575, 0.012570979634605132), (2576, 0.006458739798912686), (2577, 0.0), (2578, 0.01858904943087595), (2579, 0.0), (2580, 0.0), (2581, 0.05711103700153536), (2582, 0.0289168395089947), (2583, 0.04059396240654258), (2584, 0.0783911368714863), (2585, 0.0), (2586, 0.004026275280513264), (2587, 0.01118473545469121), (2588, 0.004256443649930743), (2589, 0.014886174356950457), (2590, 0.01070678053945845), (2591, 0.0035651277595513493), (2592, 0.00439927489305329), (2593, 0.0), (2594, 0.0037220860960773417), (2595, 0.0), (2596, 0.0), (2597, 0.006561998257213015), (2598, 0.0), (2599, 0.021494436650961405), (2600, 0.012216301082719726), (2601, 0.004144287867655405), (2602, 0.0), (2603, 0.007247919531972015), (2604, 0.00432458833929178), (2605, 0.04877490261288709), (2606, 0.015163248970491768), (2607, 0.0), (2608, 0.011038990074100103), (2609, 0.012995297096628304), (2610, 0.013319670277824318), (2611, 0.003994348121741534), (2612, 0.004496618627755386), (2613, 0.020907128117685934), (2614, 0.0), (2615, 0.015009136107178354), (2616, 0.025932404819768728), (2617, 0.0), (2618, 0.018940600866833683), (2619, 0.009570942213450817), (2620, 0.0037919363515733456), (2621, 0.026203544809871825), (2622, 0.02566646168186749), (2623, 0.0), (2624, 0.0), (2625, 0.022606898761706306), (2626, 0.061879514382276374), (2627, 0.03954755159383363), (2628, 0.0), (2629, 0.0), (2630, 0.0), (2631, 0.008195227638151038), (2632, 0.028548365380701393), (2633, 0.009059801490915901), (2634, 0.0053345143894436104), (2635, 0.022301507007197872), (2636, 0.00349548239379669), (2637, 0.017347332881555443), (2638, 0.00529005283399706), (2639, 0.0038988924484884982), (2640, 0.018721357823707662), (2641, 0.027379366631897564), (2642, 0.04032333605992065), (2643, 0.0), (2644, 0.032165846961884244), (2645, 0.01333930563808652), (2646, 0.03197745782241104), (2647, 0.01812226844621742), (2648, 0.004097577621618648), (2649, 0.0), (2650, 0.0), (2651, 0.0), (2652, 0.0), (2653, 0.0038346831323596395), (2654, 0.01796749468134304), (2655, 0.0), (2656, 0.016774355495649762), (2657, 0.014183505390434111), (2658, 0.0), (2659, 0.013947761163915665), (2660, 0.025214609125825363), (2661, 0.004265905766926446), (2662, 0.025357076096080282), (2663, 0.007769945256716046), (2664, 0.0), (2665, 0.027345229995443622), (2666, 0.06979358459652028), (2667, 0.013194383905741302), (2668, 0.030950279306245512), (2669, 0.0471573250085259), (2670, 0.02510658876728383), (2671, 0.0029187033613696347), (2672, 0.0416273468027423), (2673, 0.006193619052850474), (2674, 0.005255397129002609), (2675, 0.029932410440330324), (2676, 0.047067919179811374), (2677, 0.003871787404885353), (2678, 0.006471795813942762), (2679, 0.0), (2680, 0.04810143818637721), (2681, 0.003820417298396024), (2682, 0.02822509112609207), (2683, 0.0), (2684, 0.005754752762164835), (2685, 0.004032889651741652), (2686, 0.0), (2687, 0.003909610993185498), (2688, 0.009867508290707365), (2689, 0.03206911493308917), (2690, 0.029965998177140185), (2691, 0.11066760205701175), (2692, 0.0), (2693, 0.0038414522656164984), (2694, 0.0), (2695, 0.0), (2696, 0.004619411330301091), (2697, 0.004673833600655678), (2698, 0.03882843058751689), (2699, 0.0037073188577731414), (2700, 0.0), (2701, 0.038778161348157814), (2702, 0.004541794622756639), (2703, 0.0061515610904906105), (2704, 0.01634608435023526), (2705, 0.0), (2706, 0.03050365743367644), (2707, 0.01553551087345402), (2708, 0.06417897118902481), (2709, 0.003975548265644452), (2710, 0.014883138131361145), (2711, 0.053539022728740664), (2712, 0.00922042888720945), (2713, 0.08236504308065369), (2714, 0.022272030568890572), (2715, 0.04132234185613007), (2716, 0.0), (2717, 0.0), (2718, 0.011551404296746684), (2719, 0.004940981315348022), (2720, 0.01680547259663695), (2721, 0.02104109910808271), (2722, 0.005578563410839298), (2723, 0.0), (2724, 0.03932785430610264), (2725, 0.029363735356476364), (2726, 0.00820658122057322), (2727, 0.0047795807235939255), (2728, 0.0036170779588995928), (2729, 0.053752200921237274), (2730, 0.010603069381067823), (2731, 0.005334094911849571), (2732, 0.017602142361779843), (2733, 0.0), (2734, 0.0068589383781047526), (2735, 0.0), (2736, 0.018971036426627712), (2737, 0.0066441388639911225), (2738, 0.010183984461612785), (2739, 0.02193854336586723), (2740, 0.022193657082536806), (2741, 0.02829496073778387), (2742, 0.034420573317389), (2743, 0.0), (2744, 0.004118441387509354), (2745, 0.0), (2746, 0.004040452044123425), (2747, 0.006886556741311124), (2748, 0.004321196264941726), (2749, 0.03438355259653065), (2750, 0.0), (2751, 0.019694580978614665), (2752, 0.0), (2753, 0.0), (2754, 0.01015160098614287), (2755, 0.01708506496655285), (2756, 0.02872466423331016), (2757, 0.030981216191813696), (2758, 0.0033749316048919953), (2759, 0.0), (2760, 0.015340216158497916), (2761, 0.004006596525016342), (2762, 0.0), (2763, 0.020326274319741183), (2764, 0.03413563394396566), (2765, 0.008851244400521907), (2766, 0.021470379512457404), (2767, 0.016369563809023213), (2768, 0.00811548133123116), (2769, 0.004690410333018125), (2770, 0.019731570105205123), (2771, 0.0), (2772, 0.00676289569059459), (2773, 0.0), (2774, 0.017473135280426245), (2775, 0.0), (2776, 0.008559792127291159), (2777, 0.009590702347386092), (2778, 0.006903333533662152), (2779, 0.01463929530817046), (2780, 0.005911350564264459), (2781, 0.016772378938702395), (2782, 0.026955696732094074), (2783, 0.0), (2784, 0.02512323098210627), (2785, 0.005330754694624686), (2786, 0.004255517390147772), (2787, 0.009207351884908675), (2788, 0.010552249767272913), (2789, 0.033147613864393445), (2790, 0.025805161422838084), (2791, 0.01377577376126497), (2792, 0.023734378696094283), (2793, 0.029384566084371185), (2794, 0.004113995398332314), (2795, 0.007209887306287017), (2796, 0.004547665202776977), (2797, 0.029326818085283264), (2798, 0.009455853623693587), (2799, 0.004447669915116725), (2800, 0.0), (2801, 0.003993951908114634), (2802, 0.014995169794355242), (2803, 0.012046058948015491), (2804, 0.03139840579664266), (2805, 0.007546307136785063), (2806, 0.03075383182856639), (2807, 0.0234492826031169), (2808, 0.004511485439814959), (2809, 0.020751857319127865), (2810, 0.010852100937571305), (2811, 0.03249048333885964), (2812, 0.022324984199211223), (2813, 0.026432702069026728), (2814, 0.01616676827058164), (2815, 0.05231232627380572), (2816, 0.008929167965981893), (2817, 0.03732317478349971), (2818, 0.036936557827731295), (2819, 0.02229318305253187), (2820, 0.008469351575159673), (2821, 0.0), (2822, 0.028034103537866145), (2823, 0.007524670056615492), (2824, 0.01937511060762046), (2825, 0.07542229254680426), (2826, 0.02866190976273086), (2827, 0.0), (2828, 0.01922316887665964), (2829, 0.008267965551729286), (2830, 0.00837787052903047), (2831, 0.0), (2832, 0.005215044426439317), (2833, 0.00354210642642104), (2834, 0.03272343679225445), (2835, 0.0), (2836, 0.003942927710892001), (2837, 0.023958626564248953), (2838, 0.005078451703544021), (2839, 0.0), (2840, 0.011560297620786229), (2841, 0.016367376043342378), (2842, 0.02624127397097278), (2843, 0.04955521207790692), (2844, 0.059703387040692626), (2845, 0.0), (2846, 0.004649781118454802), (2847, 0.01306891922445808), (2848, 0.0), (2849, 0.0), (2850, 0.04788872546100245), (2851, 0.0), (2852, 0.008875384093140284), (2853, 0.0), (2854, 0.011511367571456585), (2855, 0.00731819883500164), (2856, 0.004081618434750154), (2857, 0.0049052323658890905), (2858, 0.1058014406493333), (2859, 0.004414130075767473), (2860, 0.0522770199036858), (2861, 0.0), (2862, 0.013998722516412768), (2863, 0.0), (2864, 0.006489552645507764), (2865, 0.0), (2866, 0.0036977916852721474), (2867, 0.020394382511931472), (2868, 0.0), (2869, 0.0), (2870, 0.0), (2871, 0.0), (2872, 0.004574244026730891), (2873, 0.009801448759632313), (2874, 0.02448028136764712), (2875, 0.0050506229245086305), (2876, 0.0033188717952775584), (2877, 0.0033361953491588647), (2878, 0.019631769455130503), (2879, 0.0), (2880, 0.010436109572990168), (2881, 0.026565274955215545), (2882, 0.004318199798037568), (2883, 0.0), (2884, 0.004587309565593764), (2885, 0.005352147066092661), (2886, 0.01900837409195557), (2887, 0.007627525943018048), (2888, 0.01433859865374297), (2889, 0.0), (2890, 0.0), (2891, 0.005628865763170359), (2892, 0.0044195805345537045), (2893, 0.009012791333585011), (2894, 0.0), (2895, 0.05849078116000586), (2896, 0.004035394217131778), (2897, 0.00824284493549293), (2898, 0.03609698023756084), (2899, 0.028438402417533534), (2900, 0.004641098735202992), (2901, 0.0), (2902, 0.013052237297982446), (2903, 0.026304147830625638), (2904, 0.01566325684714905), (2905, 0.0), (2906, 0.0040990088147576645), (2907, 0.0), (2908, 0.031122584412974868), (2909, 0.0194922069549378), (2910, 0.010141336118175588), (2911, 0.023315499494209475), (2912, 0.021031842126309958), (2913, 0.02454480455765886), (2914, 0.0044941264649248185), (2915, 0.0), (2916, 0.0), (2917, 0.0), (2918, 0.03571693885941198), (2919, 0.0), (2920, 0.03890026593675384), (2921, 0.02264929878330389), (2922, 0.013175100060424032), (2923, 0.04793503361060515), (2924, 0.004608603129217201), (2925, 0.00319056467995809), (2926, 0.004155880479249904), (2927, 0.03322193683487352), (2928, 0.005131389193678458), (2929, 0.021922032758655213), (2930, 0.004369134595070132), (2931, 0.00842329097129232), (2932, 0.0), (2933, 0.0202988683554408), (2934, 0.0), (2935, 0.018634701485652737), (2936, 0.0), (2937, 0.01900753895088484), (2938, 0.004358646906155063), (2939, 0.004949289329201377), (2940, 0.023371850725194744), (2941, 0.005106788664486414), (2942, 0.0040288579386351915), (2943, 0.005688610627407626), (2944, 0.04392399950882064), (2945, 0.0038898655314502533), (2946, 0.027145008658035614), (2947, 0.005851566642136305), (2948, 0.038969392332161686), (2949, 0.0), (2950, 0.05800445980542712), (2951, 0.01901442119576041), (2952, 0.0), (2953, 0.0), (2954, 0.00787967133990519), (2955, 0.033825563770907265), (2956, 0.00842563708140061), (2957, 0.0), (2958, 0.005318764511460251), (2959, 0.006010137341060891), (2960, 0.013500627792079688), (2961, 0.0), (2962, 0.03266856899471162), (2963, 0.011067005018570454), (2964, 0.0049752860385554425), (2965, 0.0), (2966, 0.0), (2967, 0.0), (2968, 0.02370845151089142), (2969, 0.008596640733741421), (2970, 0.004235662658560126), (2971, 0.008425228412486935), (2972, 0.01794052803634273), (2973, 0.07466175658514454), (2974, 0.0), (2975, 0.008180785955125615), (2976, 0.02140757204988865), (2977, 0.020469076412783192), (2978, 0.004320922094158945), (2979, 0.026880907425569107), (2980, 0.0), (2981, 0.007954569602256536), (2982, 0.027154815321356784), (2983, 0.005015261786208595), (2984, 0.0), (2985, 0.007767088027478511), (2986, 0.004700410723975792), (2987, 0.0), (2988, 0.0), (2989, 0.06421622181140982), (2990, 0.013034944803271848), (2991, 0.0), (2992, 0.013369657539673663), (2993, 0.0), (2994, 0.06018882262975025), (2995, 0.01884818356600282), (2996, 0.010247604582455718), (2997, 0.0), (2998, 0.01987193063518388), (2999, 0.003951286895938784), (3000, 0.0), (3001, 0.022038598327130315), (3002, 0.026225146880513726), (3003, 0.004414407616066799), (3004, 0.0), (3005, 0.0), (3006, 0.0178011659370957), (3007, 0.0), (3008, 0.0), (3009, 0.005564338205273676), (3010, 0.06458160722209713), (3011, 0.004495947633808757), (3012, 0.0), (3013, 0.0), (3014, 0.0), (3015, 0.12602000158076931), (3016, 0.008158982795287621), (3017, 0.004721377347199953), (3018, 0.009012252173276529), (3019, 0.0), (3020, 0.004824178883574911), (3021, 0.01876917205400716), (3022, 0.08480533145310575), (3023, 0.029017977872983127), (3024, 0.004722765866411235), (3025, 0.0), (3026, 0.021264419318339493), (3027, 0.00837932320405087), (3028, 0.01925809832028444), (3029, 0.0), (3030, 0.0), (3031, 0.0), (3032, 0.0), (3033, 0.023675544247855233), (3034, 0.003999678449345241), (3035, 0.016894744273375596), (3036, 0.0), (3037, 0.004194589223045171), (3038, 0.004156910617117271), (3039, 0.00976533757627159), (3040, 0.005549513403816644), (3041, 0.025560046037063855), (3042, 0.043205516826618245), (3043, 0.0), (3044, 0.027202942181524272), (3045, 0.021137718372355997), (3046, 0.004566497045817017), (3047, 0.04226837974584674), (3048, 0.02106648551360572), (3049, 0.0), (3050, 0.003640765181257777), (3051, 0.028367950088854486), (3052, 0.0), (3053, 0.023647608718718308), (3054, 0.004774929465571085), (3055, 0.03753314471591402), (3056, 0.01247545164944553), (3057, 0.004367715854691931), (3058, 0.007460260584932564), (3059, 0.02742137175744798), (3060, 0.0040393645816227085), (3061, 0.004154790665614868), (3062, 0.019080778728526215), (3063, 0.06257755620094227), (3064, 0.006212218749078651), (3065, 0.02631727948179627), (3066, 0.008431393031289742), (3067, 0.0), (3068, 0.01767172486624887), (3069, 0.0), (3070, 0.02210160841645269), (3071, 0.00808306799438694), (3072, 0.0), (3073, 0.013108056724526288), (3074, 0.004875447357798344), (3075, 0.0), (3076, 0.0), (3077, 0.026620873000817342), (3078, 0.0051063648165748), (3079, 0.06746730023166575), (3080, 0.026596345328097862), (3081, 0.0), (3082, 0.0035343299267317583), (3083, 0.008022196155542838), (3084, 0.023037037294738626), (3085, 0.020103983550070554), (3086, 0.0), (3087, 0.005013389379870525), (3088, 0.005909154093157478), (3089, 0.047547460102841915), (3090, 0.003907668848474129), (3091, 0.01908438694917168), (3092, 0.0), (3093, 0.0), (3094, 0.0), (3095, 0.0), (3096, 0.011506378194580459), (3097, 0.027586983550044943), (3098, 0.007219983535279201), (3099, 0.011773832122221037), (3100, 0.03094144886760114), (3101, 0.0), (3102, 0.02468005674539478), (3103, 0.004919209008286881), (3104, 0.0039645138021034785), (3105, 0.02617843887403362), (3106, 0.003961237051203023), (3107, 0.016021406531827202), (3108, 0.007745374653977124), (3109, 0.0042321985573460985), (3110, 0.0), (3111, 0.017645428106362538), (3112, 0.0061390887156766655), (3113, 0.03738748403963962), (3114, 0.03062176449227351), (3115, 0.01507395191949579), (3116, 0.0), (3117, 0.0), (3118, 0.0), (3119, 0.0), (3120, 0.0), (3121, 0.011378253643582085), (3122, 0.008883184281999081), (3123, 0.024257605217636775), (3124, 0.013742768141346827), (3125, 0.032730428707016423), (3126, 0.005467447708116397), (3127, 0.03873949016042244), (3128, 0.0), (3129, 0.032311041529556786), (3130, 0.0052083341704372696), (3131, 0.04041963902721417), (3132, 0.03511880466695641), (3133, 0.03551080798619016), (3134, 0.03457207203984175), (3135, 0.09131113231227225), (3136, 0.012345646945829155), (3137, 0.007376489506634104), (3138, 0.07180144245470914), (3139, 0.030752205026811853), (3140, 0.0), (3141, 0.039212259154530235), (3142, 0.033047560428042515), (3143, 0.021784506285849044), (3144, 0.04882700536952974), (3145, 0.006048858639209834), (3146, 0.004444913248884158), (3147, 0.00739882974224753), (3148, 0.0), (3149, 0.00832393741879418), (3150, 0.009029021545365123), (3151, 0.004435079198326945), (3152, 0.013140720483089289), (3153, 0.0), (3154, 0.0), (3155, 0.0040010036741800255), (3156, 0.01274906167437768), (3157, 0.016999489190750883), (3158, 0.06451107069148229), (3159, 0.0), (3160, 0.02620324062504619), (3161, 0.08980097888961264), (3162, 0.004143736735481702), (3163, 0.03609313774857289), (3164, 0.020294523885079525), (3165, 0.0065573718152613395), (3166, 0.005512159680099384), (3167, 0.0), (3168, 0.01090332531883622), (3169, 0.00992657688652411), (3170, 0.0), (3171, 0.0), (3172, 0.04331789455056305), (3173, 0.0), (3174, 0.010337361959135413), (3175, 0.004258222127211678), (3176, 0.0), (3177, 0.0037748462823678206), (3178, 0.037882087159910816), (3179, 0.0), (3180, 0.022125366136336217), (3181, 0.1611873593872189), (3182, 0.008096105208238516), (3183, 0.004351520264896711), (3184, 0.0), (3185, 0.008662800668841824), (3186, 0.0), (3187, 0.06512429444710324), (3188, 0.003969291071047483), (3189, 0.00417503113835628), (3190, 0.0046047004223840155), (3191, 0.026351501727486466), (3192, 0.04973570209856096), (3193, 0.07399657188071349), (3194, 0.0037507707396036705), (3195, 0.01966832973724946), (3196, 0.022697891180031786), (3197, 0.017548199527369288), (3198, 0.0041051119034587), (3199, 0.0036054991071093816), (3200, 0.027673318224156255), (3201, 0.026026488275658486), (3202, 0.014391853023536438), (3203, 0.004785816817709762), (3204, 0.0053194860605800375), (3205, 0.03062556368335512), (3206, 0.016015216981931493), (3207, 0.004366897420450825), (3208, 0.02374360060396181), (3209, 0.004064111808784679), (3210, 0.00575873476820263), (3211, 0.008062342422379264), (3212, 0.0032942792377537657), (3213, 0.004785678951991803), (3214, 0.0037937690626412717), (3215, 0.011070152988607253), (3216, 0.0), (3217, 0.005120877992844032), (3218, 0.00920016558295113), (3219, 0.0), (3220, 0.0038837541992276362), (3221, 0.016037411956148936), (3222, 0.020319767876077626), (3223, 0.008671852913359515), (3224, 0.00413723688908612), (3225, 0.026229860982357585), (3226, 0.004282180836970862), (3227, 0.005756441642531378), (3228, 0.005650282956200799), (3229, 0.0041271013564100015), (3230, 0.005375187792104296), (3231, 0.0561511049857326), (3232, 0.015047607219323529), (3233, 0.07401815944041451), (3234, 0.03636798650874831), (3235, 0.0), (3236, 0.004226455193773053), (3237, 0.004598672294427788), (3238, 0.011433382979897861), (3239, 0.010020132585912608), (3240, 0.09240394786628475), (3241, 0.005956097790992485), (3242, 0.0), (3243, 0.0), (3244, 0.0036402418662738346), (3245, 0.004015023795647543), (3246, 0.03355543392996331), (3247, 0.02314994065957857), (3248, 0.0), (3249, 0.023804894674224517), (3250, 0.0037269320292075084), (3251, 0.0), (3252, 0.0), (3253, 0.011011271359833133), (3254, 0.0), (3255, 0.0), (3256, 0.004632279380149371), (3257, 0.004788255928495614), (3258, 0.004321106035169571), (3259, 0.015122016819904001), (3260, 0.008466926555997137), (3261, 0.0), (3262, 0.0), (3263, 0.006219600758657588), (3264, 0.0049161947748126685), (3265, 0.03838331188318621), (3266, 0.005497082632331701), (3267, 0.008786062873316774), (3268, 0.0), (3269, 0.0), (3270, 0.22011130170624765), (3271, 0.013618119155334715), (3272, 0.04133151313513274), (3273, 0.0), (3274, 0.0), (3275, 0.006672812558882865), (3276, 0.0467709205223026), (3277, 0.009086643042647714), (3278, 0.0), (3279, 0.0), (3280, 0.004334716653610021), (3281, 0.033457814631938906), (3282, 0.0051534718959852085), (3283, 0.00879001323034901), (3284, 0.0182520633222265), (3285, 0.023010406066254666), (3286, 0.011166594717884932), (3287, 0.011890114727017755), (3288, 0.0038880865680357523), (3289, 0.004072477443745321), (3290, 0.004089488002676117), (3291, 0.0476970581301927), (3292, 0.0), (3293, 0.03565966525842425), (3294, 0.0539007678160465), (3295, 0.007853365625201444), (3296, 0.0), (3297, 0.01945854670979269), (3298, 0.019210631352668317), (3299, 0.004626482062653131), (3300, 0.0), (3301, 0.0), (3302, 0.0), (3303, 0.008781933893647596), (3304, 0.0035982432151832762), (3305, 0.020956712728575844), (3306, 0.00950247137890744), (3307, 0.05003762676381411), (3308, 0.004704543468265451), (3309, 0.0075892231971967684), (3310, 0.030951218798409952), (3311, 0.012970689726102262), (3312, 0.012038770542496774), (3313, 0.02700895638543163), (3314, 0.0), (3315, 0.0037961186484022184), (3316, 0.015329803180066548), (3317, 0.020136154320888295), (3318, 0.0), (3319, 0.007430849364470717), (3320, 0.008105213891995939), (3321, 0.007984694896307227), (3322, 0.0), (3323, 0.17207827751436305), (3324, 0.004670160475277536), (3325, 0.0), (3326, 0.0), (3327, 0.015104455680680539), (3328, 0.0478443043727773), (3329, 0.0036328907547595094), (3330, 0.004640048522697297), (3331, 0.0524860342329354), (3332, 0.029924343704396467), (3333, 0.0), (3334, 0.0), (3335, 0.0), (3336, 0.009329344385285702), (3337, 0.004585173879811944), (3338, 0.0), (3339, 0.004913174505148767), (3340, 0.00565932406194619), (3341, 0.0), (3342, 0.07003651428547772), (3343, 0.014324351059849234), (3344, 0.007908170164598759), (3345, 0.02870170202157707), (3346, 0.03534713716873399), (3347, 0.0), (3348, 0.0038457025710060414), (3349, 0.052500746846980896), (3350, 0.0039203596126375735), (3351, 0.02494146842866818), (3352, 0.0076429018395898045), (3353, 0.0), (3354, 0.0), (3355, 0.0229934707291305), (3356, 0.0035116334429158443), (3357, 0.029704919646534697), (3358, 0.018282493103927325), (3359, 0.0), (3360, 0.017509020484288818), (3361, 0.03576338083262607), (3362, 0.0036867990155584614), (3363, 0.0), (3364, 0.027593371608453862), (3365, 0.007309460852918726), (3366, 0.037746889601929276), (3367, 0.04853559988846823), (3368, 0.12557627664362528), (3369, 0.0), (3370, 0.0), (3371, 0.02654183082292046), (3372, 0.0), (3373, 0.01089836147591616), (3374, 0.010286480227869802), (3375, 0.003852312400527033), (3376, 0.003975807114555797), (3377, 0.008808700007788167), (3378, 0.15056012737961375), (3379, 0.0), (3380, 0.0), (3381, 0.0), (3382, 0.03327345195910353), (3383, 0.010964107794888142), (3384, 0.012151644111831533), (3385, 0.07424709176557029), (3386, 0.008744018981141875), (3387, 0.008312723512374113), (3388, 0.020344245859262595), (3389, 0.04033127736597085), (3390, 0.0), (3391, 0.0), (3392, 0.0), (3393, 0.007422031072327023), (3394, 0.006564902922331065), (3395, 0.02465347809236361), (3396, 0.0), (3397, 0.03238516400021069), (3398, 0.0), (3399, 0.004349842971618345), (3400, 0.0038861933158069505), (3401, 0.0), (3402, 0.0038724051527536936), (3403, 0.008158188938928822), (3404, 0.0315234141804905), (3405, 0.06750231092144249), (3406, 0.0), (3407, 0.004370940661292224), (3408, 0.027593566689702084), (3409, 0.021027922064958633), (3410, 0.0069444123204141965), (3411, 0.007571285213840235), (3412, 0.004540834751872159), (3413, 0.0047730332780612575), (3414, 0.05781594788195301), (3415, 0.0041588721935856745), (3416, 0.005703786493324129), (3417, 0.0), (3418, 0.02558206682067011), (3419, 0.03834044336138843), (3420, 0.012932296978328336), (3421, 0.002749223009207878), (3422, 0.004191481794836208), (3423, 0.0), (3424, 0.025912265571968688), (3425, 0.0), (3426, 0.007002570830707076), (3427, 0.033249232231966755), (3428, 0.004105453759166334), (3429, 0.003881650999178916), (3430, 0.007183107749107534), (3431, 0.0), (3432, 0.02550711334556564), (3433, 0.018818870986880037), (3434, 0.0), (3435, 0.004610651098202332), (3436, 0.04010370531681552), (3437, 0.03695529095771294), (3438, 0.019101584054006138), (3439, 0.014918029681942186), (3440, 0.03015150058871234), (3441, 0.005662237961737464), (3442, 0.004215106068614685), (3443, 0.029515888111995424), (3444, 0.02219064591844938), (3445, 0.0058468807241241535), (3446, 0.004781579691215168), (3447, 0.01231567326084794), (3448, 0.02170556180890875), (3449, 0.04209656724140523), (3450, 0.06580637573623252), (3451, 0.006119248284928239), (3452, 0.09312293141867539), (3453, 0.028153685376904006), (3454, 0.022056928367289955), (3455, 0.0), (3456, 0.012719357176100584), (3457, 0.004963653853129888), (3458, 0.033886085941016296), (3459, 0.023296103424112723), (3460, 0.0), (3461, 0.03350262028292604), (3462, 0.004023163432307956), (3463, 0.1036936064400022), (3464, 0.015196646362404205), (3465, 0.024148994611307997), (3466, 0.019551510802282), (3467, 0.07601593595674105), (3468, 0.027586446106999632), (3469, 0.076586149094967), (3470, 0.0), (3471, 0.0160941371664858), (3472, 0.007232889684057133), (3473, 0.045400780392563546), (3474, 0.013934652098471275), (3475, 0.006459556460868776), (3476, 0.0), (3477, 0.05053894920421024), (3478, 0.0), (3479, 0.005306938518579522), (3480, 0.024459868389149), (3481, 0.007262902856795533), (3482, 0.03439655416099199), (3483, 0.0), (3484, 0.02041080059277771), (3485, 0.003531192021607151), (3486, 0.03385789305211173), (3487, 0.0), (3488, 0.0), (3489, 0.019903567999546484), (3490, 0.0038160831731555633), (3491, 0.004674183029602612), (3492, 0.02748500590084873), (3493, 0.004159230891426087), (3494, 0.003999326181477293), (3495, 0.0), (3496, 0.004265516128043728), (3497, 0.0), (3498, 0.0), (3499, 0.0), (3500, 0.0036867502393982004), (3501, 0.0), (3502, 0.029706755995871893), (3503, 0.030576944853151867), (3504, 0.004459529747302667), (3505, 0.0), (3506, 0.017368496962244195), (3507, 0.010744866809982748), (3508, 0.003910721446969443), (3509, 0.0034476886121794486), (3510, 0.004284020187857814), (3511, 0.0), (3512, 0.006093507429111413), (3513, 0.07051528978551368), (3514, 0.010108671079183066), (3515, 0.031745871230846184), (3516, 0.054637906546777186), (3517, 0.004114524058695913), (3518, 0.013223981973885706), (3519, 0.026660245237827868), (3520, 0.03871103116637177), (3521, 0.0), (3522, 0.005843053717697334), (3523, 0.0), (3524, 0.0), (3525, 0.004963379452094817), (3526, 0.019007805031897397), (3527, 0.0), (3528, 0.023578797067263506), (3529, 0.004366622405138077), (3530, 0.0), (3531, 0.009391762344179438), (3532, 0.08648839707441787), (3533, 0.019228644597308255), (3534, 0.0), (3535, 0.0), (3536, 0.004830929092257486), (3537, 0.004928918500148544), (3538, 0.006881056118477474), (3539, 0.023140703046077772), (3540, 0.0), (3541, 0.02403891903808769), (3542, 0.08044624813041923), (3543, 0.003694030624979184), (3544, 0.004837157540376452), (3545, 0.003944281125455547), (3546, 0.04067694268616237), (3547, 0.03203533571794378), (3548, 0.0), (3549, 0.008924845367227974), (3550, 0.0), (3551, 0.004699126926615186), (3552, 0.006463011357058458), (3553, 0.0), (3554, 0.03583961687307282), (3555, 0.012829085298470598), (3556, 0.023203313125747645), (3557, 0.004565703574772219), (3558, 0.0), (3559, 0.019999943684741672), (3560, 0.014872803184488671), (3561, 0.0), (3562, 0.008312293967727159), (3563, 0.007865212850117476), (3564, 0.020068728558284354), (3565, 0.007865560674445249), (3566, 0.01144446735331709), (3567, 0.011673008519122414), (3568, 0.04361263761899546), (3569, 0.013094543104956185), (3570, 0.003948958171884121), (3571, 0.01219039208738802), (3572, 0.004399569467552599), (3573, 0.0), (3574, 0.014614920124362787), (3575, 0.003210362563800808), (3576, 0.020198379483689764), (3577, 0.010664911953442113), (3578, 0.024879400912874286), (3579, 0.04413539679041999), (3580, 0.003893318721511067), (3581, 0.004368381628149723), (3582, 0.03577342675171184), (3583, 0.0), (3584, 0.004267734753867613), (3585, 0.007746180634523244), (3586, 0.019256106108301314), (3587, 0.01372446676277067), (3588, 0.007014485229091919), (3589, 0.08044014145707228), (3590, 0.0), (3591, 0.010105989171276482), (3592, 0.004940591371203854), (3593, 0.006373106039395188), (3594, 0.04460781876053874), (3595, 0.05379881113295451), (3596, 0.0), (3597, 0.06092814078883866), (3598, 0.037648569965608045), (3599, 0.009010495115797455), (3600, 0.011935934655318342), (3601, 0.004238016028423126), (3602, 0.005613562194948659), (3603, 0.0098677492721685), (3604, 0.006270649569866919), (3605, 0.024469539543592864), (3606, 0.004051715664107208), (3607, 0.0), (3608, 0.0), (3609, 0.05025926122948685), (3610, 0.010192360252831085), (3611, 0.0), (3612, 0.004657684709636327), (3613, 0.0), (3614, 0.018090296849153295), (3615, 0.024834776220381775), (3616, 0.01073140949087756), (3617, 0.0), (3618, 0.004935197383539744), (3619, 0.0), (3620, 0.0), (3621, 0.004676026645015335), (3622, 0.04071849486583555), (3623, 0.026404857399181796), (3624, 0.0), (3625, 0.019359267191958265), (3626, 0.0066207913807676926), (3627, 0.0), (3628, 0.018820432537908313), (3629, 0.01292978289251907), (3630, 0.024781519260449185), (3631, 0.0), (3632, 0.05039482692333368), (3633, 0.011898695553651747), (3634, 0.05147320682530836), (3635, 0.017896301279928223), (3636, 0.0), (3637, 0.02458423957402877), (3638, 0.015190188712258336), (3639, 0.0), (3640, 0.0), (3641, 0.034811225166184026), (3642, 0.006190919953586605), (3643, 0.025293254233764932), (3644, 0.023274384743580546), (3645, 0.004303219282190854), (3646, 0.00815997127315837), (3647, 0.0), (3648, 0.008929003941179748), (3649, 0.004508081283152123), (3650, 0.008744168142070841), (3651, 0.005326169851332159), (3652, 0.004390849129598287), (3653, 0.0), (3654, 0.00489660696766993), (3655, 0.004051907950769565), (3656, 0.0), (3657, 0.011170361820168203), (3658, 0.012049043926276704), (3659, 0.0), (3660, 0.005505511736084748), (3661, 0.022728653029494596), (3662, 0.0039718305874983295), (3663, 0.0), (3664, 0.0), (3665, 0.00860918778478665), (3666, 0.020687079747357045), (3667, 0.003559631209734629), (3668, 0.008773181148392081), (3669, 0.0), (3670, 0.0), (3671, 0.039280912950787734), (3672, 0.0), (3673, 0.003957726548724954), (3674, 0.007284572671830101), (3675, 0.0), (3676, 0.009785140497895951), (3677, 0.010221408346631787), (3678, 0.029656054085454634), (3679, 0.0), (3680, 0.006455910156386647), (3681, 0.009579980180381678), (3682, 0.0), (3683, 0.004067675169431476), (3684, 0.012444103434166132), (3685, 0.0710084705638753), (3686, 0.004724138837845754), (3687, 0.0), (3688, 0.026439166692548775), (3689, 0.004815819563196026), (3690, 0.04336741527251005), (3691, 0.0), (3692, 0.0562642901089895), (3693, 0.02826207336057142), (3694, 0.04369657992004848), (3695, 0.008233777384577708), (3696, 0.008980091611079868), (3697, 0.03660075383729754), (3698, 0.039294125013158474), (3699, 0.015381443858753846), (3700, 0.01257306467303481), (3701, 0.022966868658462855), (3702, 0.0), (3703, 0.008521469884328402), (3704, 0.0), (3705, 0.0), (3706, 0.005571705952043601), (3707, 0.005810596305802565), (3708, 0.006591783794348302), (3709, 0.03125871693570386), (3710, 0.027250710869555016), (3711, 0.008579450056914252), (3712, 0.00817447931585789), (3713, 0.0038818478830225556), (3714, 0.021737460873630047), (3715, 0.012494741306398636), (3716, 0.0035715482019584104), (3717, 0.0), (3718, 0.029738625861307336), (3719, 0.0), (3720, 0.029194241210892063), (3721, 0.0), (3722, 0.008872782994786456), (3723, 0.03141882941632136), (3724, 0.03207738004371104), (3725, 0.0), (3726, 0.006789914702974938), (3727, 0.0), (3728, 0.004249356226859075), (3729, 0.0), (3730, 0.009433643931719353), (3731, 0.0039705740384652025), (3732, 0.003702253367815887), (3733, 0.025696580819005325), (3734, 0.024141874227705022), (3735, 0.012727278217340939), (3736, 0.020581042199175285), (3737, 0.0), (3738, 0.00522196399057525), (3739, 0.00872459907611769), (3740, 0.005029135952822864), (3741, 0.017448244702078702), (3742, 0.031256219494925484), (3743, 0.04390856443767914), (3744, 0.06456008805338603), (3745, 0.0), (3746, 0.024509193282421432), (3747, 0.051182100633407265), (3748, 0.007466621636992981), (3749, 0.0), (3750, 0.0), (3751, 0.020258029719864526), (3752, 0.020704403234059053), (3753, 0.0036607561831297625), (3754, 0.004608483102530012), (3755, 0.003512037405590947), (3756, 0.0), (3757, 0.021492015052728557), (3758, 0.004752747630548803), (3759, 0.02743191950481425), (3760, 0.0), (3761, 0.0), (3762, 0.0), (3763, 0.028237580283805665), (3764, 0.007853413504745874), (3765, 0.032567751072472825), (3766, 0.0), (3767, 0.0036503602866989645), (3768, 0.0), (3769, 0.0), (3770, 0.0), (3771, 0.006183700571302971), (3772, 0.004522195292883162), (3773, 0.05847151269660141), (3774, 0.021401598838026014), (3775, 0.018489224810881166), (3776, 0.008877025556961328), (3777, 0.004919275804113352), (3778, 0.004836181204600189), (3779, 0.0), (3780, 0.04525954040369057), (3781, 0.016135290317316846), (3782, 0.014178610935450269), (3783, 0.07684799323600314), (3784, 0.004431645791285068), (3785, 0.02454345771601538), (3786, 0.017167931472655763), (3787, 0.036263880720031214), (3788, 0.0), (3789, 0.022803738566672956), (3790, 0.00413026823392686), (3791, 0.004534343591430912), (3792, 0.024366172563714775), (3793, 0.0), (3794, 0.07911985979957362), (3795, 0.011840714581404947), (3796, 0.005496092944828488), (3797, 0.022007171025158413), (3798, 0.06201193412022649), (3799, 0.0), (3800, 0.005242754972919569), (3801, 0.03192097504131297), (3802, 0.028027578786603995), (3803, 0.014136571691412907), (3804, 0.0), (3805, 0.01146807122529302), (3806, 0.0), (3807, 0.005679194922176196), (3808, 0.026602734741529098), (3809, 0.0), (3810, 0.004744291711423138), (3811, 0.003746171928564507), (3812, 0.004044646678251577), (3813, 0.0), (3814, 0.005615484554000182), (3815, 0.0), (3816, 0.0), (3817, 0.05297839110768533), (3818, 0.023765987621787464), (3819, 0.004396050831394349), (3820, 0.004492489159311337), (3821, 0.003904650931429827), (3822, 0.009689662912868605), (3823, 0.008755210994688728), (3824, 0.003792772425935066), (3825, 0.008407414170186592), (3826, 0.01171301045313513), (3827, 0.0), (3828, 0.0), (3829, 0.013998464636817897), (3830, 0.0), (3831, 0.005105633901461957), (3832, 0.009702406849278688), (3833, 0.0), (3834, 0.03544158408090974), (3835, 0.0), (3836, 0.018831557982117084), (3837, 0.004361946760915659), (3838, 0.03657253822822597), (3839, 0.0036653252067924635), (3840, 0.03395654717584131), (3841, 0.004175341009350323), (3842, 0.017574753512462966), (3843, 0.0), (3844, 0.039958810871790075), (3845, 0.00414488823538829), (3846, 0.014105842353489207), (3847, 0.0), (3848, 0.0), (3849, 0.01374835849678977), (3850, 0.05584510133986832), (3851, 0.004549797539130893), (3852, 0.004056804135683423), (3853, 0.0), (3854, 0.004305535805422525), (3855, 0.0073224293163164506), (3856, 0.003439101966015453), (3857, 0.00517129092304969), (3858, 0.009895934943049493), (3859, 0.0037586740778581327), (3860, 0.005176307527395373), (3861, 0.0035187188666631103), (3862, 0.005962587650854298), (3863, 0.0), (3864, 0.0037500624467456333), (3865, 0.014409354085873764), (3866, 0.009947413152393515), (3867, 0.0), (3868, 0.07563272541041685), (3869, 0.09749956831026546), (3870, 0.022860199134003785), (3871, 0.00785687413736781), (3872, 0.0), (3873, 0.02126511994565231), (3874, 0.0), (3875, 0.0230388464855616), (3876, 0.0), (3877, 0.013565139535413438), (3878, 0.0), (3879, 0.0038526187439641714), (3880, 0.0), (3881, 0.014624269367559515), (3882, 0.04389463061904227), (3883, 0.0), (3884, 0.0), (3885, 0.003614994436131907), (3886, 0.027386843004135346), (3887, 0.0), (3888, 0.02360933209622889), (3889, 0.025877745217918215), (3890, 0.03597324315998206), (3891, 0.004409105374920867), (3892, 0.005165827173577128), (3893, 0.021523617119058102), (3894, 0.021835612682832427), (3895, 0.013369744239313823), (3896, 0.020944399058489587), (3897, 0.02602183846769909), (3898, 0.02617507857343385), (3899, 0.0), (3900, 0.019123450936470752), (3901, 0.0), (3902, 0.015668762791332284), (3903, 0.042115006528822), (3904, 0.0), (3905, 0.004203433815539562), (3906, 0.0), (3907, 0.09321029402165501), (3908, 0.0674646886193856), (3909, 0.00805147080950051), (3910, 0.017491780141916657), (3911, 0.0), (3912, 0.004059835406488704), (3913, 0.062446663653012324), (3914, 0.015107984421164601), (3915, 0.0), (3916, 0.031575262898293995), (3917, 0.034283371201874066), (3918, 0.0), (3919, 0.04577623138811831), (3920, 0.004822601383828526), (3921, 0.015309059349361782), (3922, 0.004905577112227122), (3923, 0.12468729450050106), (3924, 0.02702491687988931), (3925, 0.0), (3926, 0.008643591543485683), (3927, 0.003875336349163466), (3928, 0.01664674831327326), (3929, 0.0), (3930, 0.008934171784340954), (3931, 0.004648578487619296), (3932, 0.0), (3933, 0.0035421357018645444), (3934, 0.008439693628988588), (3935, 0.0), (3936, 0.05003352616034171), (3937, 0.032691103126353996), (3938, 0.016627286205788898), (3939, 0.0), (3940, 0.0), (3941, 0.03435070321067037), (3942, 0.0), (3943, 0.025687065952223413), (3944, 0.0037530807784290406), (3945, 0.0), (3946, 0.004427370784047128), (3947, 0.006597500013451877), (3948, 0.0), (3949, 0.005462514538269186), (3950, 0.008834704692423753), (3951, 0.005432636942421896), (3952, 0.004557114516762385), (3953, 0.05828418812961412), (3954, 0.0), (3955, 0.03018979877131962), (3956, 0.0), (3957, 0.020229695680283502), (3958, 0.004895907007958982), (3959, 0.004822288806924696), (3960, 0.005278348961252446), (3961, 0.052869695177481496), (3962, 0.0044630068449645795), (3963, 0.01775879765609753), (3964, 0.004438091639960968), (3965, 0.0500759346267554), (3966, 0.02288989700385708), (3967, 0.008785791377800424), (3968, 0.050598705168619994), (3969, 0.013240465233625659), (3970, 0.008906041254708376), (3971, 0.019528316008834548), (3972, 0.03793936773637309), (3973, 0.02449530500653345), (3974, 0.0), (3975, 0.052628223555501646), (3976, 0.0), (3977, 0.057293440740207535), (3978, 0.01980930650714058), (3979, 0.014053592916920064), (3980, 0.01435404361544474), (3981, 0.0), (3982, 0.033115809449452846), (3983, 0.0034880461264157983), (3984, 0.004179160151935769), (3985, 0.0), (3986, 0.00418918802248403), (3987, 0.0), (3988, 0.005001861262140043), (3989, 0.0), (3990, 0.0), (3991, 0.007099043927254373), (3992, 0.004491915461519082), (3993, 0.029906368459524182), (3994, 0.023850832872349077), (3995, 0.0), (3996, 0.004738059586496853), (3997, 0.048526932164085296), (3998, 0.04768761134099862), (3999, 0.021851822346532025), (4000, 0.0), (4001, 0.03432529366967565), (4002, 0.04375396636658695), (4003, 0.004389656389096672), (4004, 0.020268765262032203), (4005, 0.006100378038700656), (4006, 0.019979391744129424), (4007, 0.012270783044607264), (4008, 0.0200391784966492), (4009, 0.02542701099663388), (4010, 0.022279973876554435), (4011, 0.014402136056979107), (4012, 0.01728326605430475), (4013, 0.005069031671557032), (4014, 0.02012194693943193), (4015, 0.0326366047113927), (4016, 0.007506975039045903), (4017, 0.0), (4018, 0.015249176242953435), (4019, 0.0), (4020, 0.03266087965864426), (4021, 0.0), (4022, 0.0), (4023, 0.004692868525309433), (4024, 0.0), (4025, 0.013783111094936903), (4026, 0.008756456277193533), (4027, 0.0041961307485740024), (4028, 0.0), (4029, 0.03592285493834689), (4030, 0.0), (4031, 0.018887760473521673), (4032, 0.016298352848802756), (4033, 0.006022962071674254), (4034, 0.02529537101333642), (4035, 0.01656089119341314), (4036, 0.011238020740633603), (4037, 0.009172841646653222), (4038, 0.04877594644176422), (4039, 0.03993617792044536), (4040, 0.005127779997929238), (4041, 0.08743257437321428), (4042, 0.0), (4043, 0.02256155251208584), (4044, 0.005180126921436427), (4045, 0.006031471918036322), (4046, 0.028060590623615725), (4047, 0.0), (4048, 0.0), (4049, 0.004032998240619057), (4050, 0.0), (4051, 0.027015849628272526), (4052, 0.004199852029748684), (4053, 0.042311932278223836), (4054, 0.02530112945034995), (4055, 0.020337962448247326), (4056, 0.01316530262879385), (4057, 0.004138414829544536), (4058, 0.00494278303905121), (4059, 0.004354046402498586), (4060, 0.014961622455133194), (4061, 0.014511823398766808), (4062, 0.005639262223054732), (4063, 0.0367980182213348), (4064, 0.009573288195660407), (4065, 0.0), (4066, 0.003489774040098048), (4067, 0.0), (4068, 0.026046215515431508), (4069, 0.014751934429885986), (4070, 0.04244373410337354), (4071, 0.0037599348216255345), (4072, 0.0), (4073, 0.03075741893934552), (4074, 0.024765048392330118), (4075, 0.0), (4076, 0.03455023172369899), (4077, 0.05852565283450567), (4078, 0.0), (4079, 0.0), (4080, 0.0), (4081, 0.038198542185605575), (4082, 0.0), (4083, 0.0), (4084, 0.005109778262170784), (4085, 0.0), (4086, 0.012445915225235459), (4087, 0.02161893606622486), (4088, 0.005850704495758531), (4089, 0.02906431829042222), (4090, 0.01912323823312689), (4091, 0.04151191420899408), (4092, 0.0), (4093, 0.07407062321537955), (4094, 0.0207544808521296), (4095, 0.004845093359505753), (4096, 0.0), (4097, 0.004351743896873753), (4098, 0.005852110950689505), (4099, 0.05252320380348886), (4100, 0.026737914503397506), (4101, 0.0), (4102, 0.005045539326744443), (4103, 0.058730663754353894), (4104, 0.0035223498445443803), (4105, 0.021674018511156756), (4106, 0.008336744755961408), (4107, 0.0), (4108, 0.009656274672574124), (4109, 0.02168417389093643), (4110, 0.008264359810190424), (4111, 0.00425405138615843), (4112, 0.02134380523132831), (4113, 0.024125204590159488), (4114, 0.004954881498368074), (4115, 0.005361862941441754), (4116, 0.006224247956026414), (4117, 0.004536201697013125), (4118, 0.03891450557235911), (4119, 0.01669495921405846), (4120, 0.005189783515944942), (4121, 0.039040207783578244), (4122, 0.007090327709714624), (4123, 0.0), (4124, 0.0044055216632072035), (4125, 0.004127297579227072), (4126, 0.0), (4127, 0.026365260717723014), (4128, 0.03300315498816738), (4129, 0.0), (4130, 0.01446777100354842), (4131, 0.010361990626404055), (4132, 0.004277372561116974), (4133, 0.01642043124841108), (4134, 0.0), (4135, 0.029280791673781812), (4136, 0.004850213015144729), (4137, 0.020111675731595984), (4138, 0.016692096001692337), (4139, 0.019204276366271013), (4140, 0.00434186266241532), (4141, 0.0), (4142, 0.016923334422786974), (4143, 0.03677436131246857), (4144, 0.00632942232242266), (4145, 0.02340393094332557), (4146, 0.0), (4147, 0.0048386412905595515), (4148, 0.005686789573670179), (4149, 0.00803505531361203), (4150, 0.0), (4151, 0.0), (4152, 0.07582717599974352), (4153, 0.030185373210276527), (4154, 0.05675170675509568), (4155, 0.004447984946172082), (4156, 0.007564627603060207), (4157, 0.019590312005788858), (4158, 0.003997696495471781), (4159, 0.0), (4160, 0.008439973087970301), (4161, 0.0), (4162, 0.0), (4163, 0.0), (4164, 0.0), (4165, 0.018339721471940403), (4166, 0.005130251232208483), (4167, 0.0), (4168, 0.043658431263011985), (4169, 0.0), (4170, 0.0), (4171, 0.014128552800686636), (4172, 0.0), (4173, 0.004251680282032375), (4174, 0.02180377689190141), (4175, 0.0), (4176, 0.018324755201438888), (4177, 0.0), (4178, 0.0), (4179, 0.0), (4180, 0.145482153460455), (4181, 0.036511854309708644), (4182, 0.018371803022709857), (4183, 0.0), (4184, 0.0039900364807717295), (4185, 0.00640217781197996), (4186, 0.008863725155405969), (4187, 0.0), (4188, 0.013152075147508732), (4189, 0.02016639330986996), (4190, 0.004739344822258041), (4191, 0.0035995253157012656), (4192, 0.012865245666483179), (4193, 0.025983929135317354), (4194, 0.014922632934552075), (4195, 0.011494531165534838), (4196, 0.01639315200212898), (4197, 0.0040510907117724), (4198, 0.005247138002766316), (4199, 0.07919890428820595), (4200, 0.0032855106197190124), (4201, 0.01667761815112789), (4202, 0.007982993269233662), (4203, 0.0100031134121634), (4204, 0.004729717320358365), (4205, 0.01247596094314609), (4206, 0.003774670290037883), (4207, 0.004312650510520227), (4208, 0.0), (4209, 0.0), (4210, 0.022179357798161388), (4211, 0.01299361287087709), (4212, 0.0), (4213, 0.003778671997757035), (4214, 0.004025138786126359), (4215, 0.0), (4216, 0.0), (4217, 0.02671815360818766), (4218, 0.01580456452222146), (4219, 0.0), (4220, 0.01757625596301322), (4221, 0.0076331015142155675), (4222, 0.029130368581210986), (4223, 0.0060911056197529975), (4224, 0.01294538696489126), (4225, 0.0), (4226, 0.009434353843844173), (4227, 0.0), (4228, 0.04255727872289307), (4229, 0.0), (4230, 0.0), (4231, 0.0), (4232, 0.0), (4233, 0.04768394455989533), (4234, 0.0038765883243704656), (4235, 0.0), (4236, 0.012241690849405639), (4237, 0.040924917436235234), (4238, 0.06976259760914388), (4239, 0.03310219418889704), (4240, 0.07861380285918201), (4241, 0.0102509443192393), (4242, 0.005784154734018371), (4243, 0.023043427793352087), (4244, 0.029365536721278777), (4245, 0.0), (4246, 0.0037625335670254554), (4247, 0.0), (4248, 0.005675320548025187), (4249, 0.005890630571831489), (4250, 0.02072519475165715), (4251, 0.0), (4252, 0.008302937807176794), (4253, 0.0), (4254, 0.00373123181796437), (4255, 0.005787470570826757), (4256, 0.004216968167760909), (4257, 0.022315687145948865), (4258, 0.004329756597190804), (4259, 0.02144793737878882), (4260, 0.004200089446796402), (4261, 0.018990507876923184), (4262, 0.004833731103888725), (4263, 0.004376804058395486), (4264, 0.04271232707907248), (4265, 0.009854803214835051), (4266, 0.020067647001732487), (4267, 0.010692475157153507), (4268, 0.0), (4269, 0.013068550491042497), (4270, 0.014045259371779011), (4271, 0.005761118765498973), (4272, 0.0657178343376528), (4273, 0.015628924177526773), (4274, 0.03399389467249975), (4275, 0.0), (4276, 0.029648019340598842), (4277, 0.0), (4278, 0.0), (4279, 0.0044523463699507985), (4280, 0.0), (4281, 0.005381148063790598), (4282, 0.026916162593953605), (4283, 0.01823885243286363), (4284, 0.004568308942648341), (4285, 0.03470124632923805), (4286, 0.021400812271632187), (4287, 0.004105451779093973), (4288, 0.00765864723597436), (4289, 0.03529431298857402), (4290, 0.008404395069358655), (4291, 0.08168396539908253), (4292, 0.011479141099015404), (4293, 0.027917273714429952), (4294, 0.013557098863421525), (4295, 0.004537050800227365), (4296, 0.0), (4297, 0.012174589947753684), (4298, 0.0), (4299, 0.0), (4300, 0.039389810279278986), (4301, 0.0), (4302, 0.024994617364202356), (4303, 0.011044514819417216), (4304, 0.0035665356553085644), (4305, 0.0036916479389291178), (4306, 0.0), (4307, 0.0), (4308, 0.004357856985644823), (4309, 0.0), (4310, 0.005714913273096618), (4311, 0.003228514501073201), (4312, 0.03750489026816324), (4313, 0.0), (4314, 0.003831705622647221), (4315, 0.0042318191521595345), (4316, 0.0), (4317, 0.004506143364299284), (4318, 0.021119193010337673), (4319, 0.004084439881053762), (4320, 0.0), (4321, 0.0037832512202205094), (4322, 0.0), (4323, 0.012114793248684048), (4324, 0.004405306618634353), (4325, 0.008981261789147429), (4326, 0.0), (4327, 0.003872718741891807), (4328, 0.014032397341294682), (4329, 0.004080271132876558), (4330, 0.004658500946803845), (4331, 0.0), (4332, 0.014413625138291471), (4333, 0.0), (4334, 0.020554556694231278), (4335, 0.06990293722297201), (4336, 0.014752256924940425), (4337, 0.0), (4338, 0.046200109562068145), (4339, 0.022419355211784488), (4340, 0.020934933751686365), (4341, 0.03183420774008947), (4342, 0.004290384242974885), (4343, 0.0), (4344, 0.0249598234269737), (4345, 0.01990233706713282), (4346, 0.08179962799697071), (4347, 0.03290355299383435), (4348, 0.004281675756395929), (4349, 0.02712246785266089), (4350, 0.0), (4351, 0.017327171651167726), (4352, 0.01734087215093487), (4353, 0.012452262076545356), (4354, 0.007874777083362237), (4355, 0.0), (4356, 0.003695687976513981), (4357, 0.025812625356400287), (4358, 0.0035060255060601186), (4359, 0.0), (4360, 0.015417074330918554), (4361, 0.0), (4362, 0.0), (4363, 0.004876381826481293), (4364, 0.04279085014717858), (4365, 0.017516815739382022), (4366, 0.0), (4367, 0.0038508858543909873), (4368, 0.005239985624744997), (4369, 0.0), (4370, 0.004244081457690847), (4371, 0.004261339349843658), (4372, 0.0), (4373, 0.022773594394502904), (4374, 0.008839128003180539), (4375, 0.0), (4376, 0.010626742174161905), (4377, 0.0), (4378, 0.028978620022353838), (4379, 0.010739161117756017), (4380, 0.0), (4381, 0.0), (4382, 0.0038425440741231332), (4383, 0.019956745098622653), (4384, 0.006046933495282228), (4385, 0.01761780529337213), (4386, 0.0), (4387, 0.004539852464975582), (4388, 0.03629012540571922), (4389, 0.01737510167278056), (4390, 0.0059326621366344555), (4391, 0.02009804778588639), (4392, 0.006011702243000722), (4393, 0.026460241694916585), (4394, 0.008563386714189186), (4395, 0.00839538020162121), (4396, 0.01684840119412845), (4397, 0.0), (4398, 0.08992836239777861), (4399, 0.023032403274559445), (4400, 0.0), (4401, 0.030629906454689652), (4402, 0.004305169855919627), (4403, 0.02539434890428242), (4404, 0.024739953614522855), (4405, 0.006841409103415938), (4406, 0.042181087980867116), (4407, 0.0), (4408, 0.004771050186681858), (4409, 0.0), (4410, 0.006008170141938846), (4411, 0.017068712466051482), (4412, 0.0), (4413, 0.004308770063417466), (4414, 0.0035286051658436203), (4415, 0.015432549733363443), (4416, 0.01772620448265344), (4417, 0.0), (4418, 0.009886561014027939), (4419, 0.013799410315478485), (4420, 0.00419020174246627), (4421, 0.004148201170947684), (4422, 0.0041065360343465855), (4423, 0.0), (4424, 0.0), (4425, 0.0), (4426, 0.0034287827646320586), (4427, 0.0), (4428, 0.011568962332492199), (4429, 0.004957003688979959), (4430, 0.026902816893378683), (4431, 0.009958416620705152), (4432, 0.004997048525237211), (4433, 0.004145928312040318), (4434, 0.0038067005134441293), (4435, 0.0372498500199092), (4436, 0.011176777014400174), (4437, 0.010723515191492268), (4438, 0.004463710484139499), (4439, 0.012165813754470341), (4440, 0.038269264803225095), (4441, 0.004422795221500002), (4442, 0.04287853329837052), (4443, 0.006993809510161155), (4444, 0.01357762388897179), (4445, 0.015751371091461155), (4446, 0.004359216811656021), (4447, 0.022447357626370124), (4448, 0.02496230372031954), (4449, 0.005462981542334089), (4450, 0.06479337386886035), (4451, 0.022782047223109465), (4452, 0.00449470093779119), (4453, 0.033016359911206175), (4454, 0.018640532336249696), (4455, 0.009058841860089487), (4456, 0.013631859050998764), (4457, 0.029140440295017635), (4458, 0.0), (4459, 0.008958314514318326), (4460, 0.026852135286161736), (4461, 0.0), (4462, 0.011713259006939678), (4463, 0.004410910570002721), (4464, 0.0), (4465, 0.03161193609433704), (4466, 0.028546961316991065), (4467, 0.0489037596794808), (4468, 0.017363950701222562), (4469, 0.0), (4470, 0.0), (4471, 0.14934160298766486), (4472, 0.03854859867588262), (4473, 0.007515926780043421), (4474, 0.0), (4475, 0.0), (4476, 0.0), (4477, 0.01210932368740425), (4478, 0.008048077360988252), (4479, 0.03247405738478696), (4480, 0.062236181867527426), (4481, 0.02449562050270547), (4482, 0.027231876238259817), (4483, 0.004740381446227978), (4484, 0.032285953863411036), (4485, 0.0), (4486, 0.03557845565990515), (4487, 0.019593181736002097), (4488, 0.0), (4489, 0.00421460757016867), (4490, 0.03035539567941265), (4491, 0.05316990641151076), (4492, 0.033830416891772325), (4493, 0.035873042513833796), (4494, 0.0), (4495, 0.0), (4496, 0.004548455095346462), (4497, 0.0), (4498, 0.0065132825238179365), (4499, 0.0), (4500, 0.0), (4501, 0.04360153116398616), (4502, 0.0), (4503, 0.01045343688818278), (4504, 0.019234239321392024), (4505, 0.021155347549555413), (4506, 0.023053271519592085), (4507, 0.004564378454688541), (4508, 0.0), (4509, 0.028009181199580614), (4510, 0.0), (4511, 0.004630814524887821), (4512, 0.0), (4513, 0.0), (4514, 0.026272525963347823), (4515, 0.022245510391088942), (4516, 0.00863201412891664), (4517, 0.0), (4518, 0.024262092798132195), (4519, 0.009227233537281445), (4520, 0.0), (4521, 0.0), (4522, 0.004330569571625756), (4523, 0.026324755853479702), (4524, 0.005556042042967752), (4525, 0.0), (4526, 0.008585960496709384), (4527, 0.0), (4528, 0.0), (4529, 0.0), (4530, 0.003886368644213855), (4531, 0.005159842441155781), (4532, 0.0), (4533, 0.007704188713001094), (4534, 0.005552654695423092), (4535, 0.030684763831746866), (4536, 0.019338641577575533), (4537, 0.005172764393386366), (4538, 0.0), (4539, 0.0), (4540, 0.0), (4541, 0.03255073975179356), (4542, 0.003928829478156635), (4543, 0.005499046641029728), (4544, 0.0), (4545, 0.0), (4546, 0.04552880898746383), (4547, 0.022942177062640956), (4548, 0.023041078124401215), (4549, 0.011498287593232362), (4550, 0.017345926776622226), (4551, 0.032706508395620254), (4552, 0.04608091832342039), (4553, 0.004992058845342721), (4554, 0.0), (4555, 0.005989123559799677), (4556, 0.012434567529588296), (4557, 0.03939054660577602), (4558, 0.0034818269410745012), (4559, 0.01563174530071941), (4560, 0.004225997209432225), (4561, 0.0), (4562, 0.004936639980710314), (4563, 0.0), (4564, 0.02105445219628117), (4565, 0.0), (4566, 0.018707985774781177), (4567, 0.026361981549783232), (4568, 0.014039923041520314), (4569, 0.007066402275552497), (4570, 0.03794541138118446), (4571, 0.006314491179156912), (4572, 0.0), (4573, 0.005534521417157424), (4574, 0.0), (4575, 0.0), (4576, 0.02387860611215789), (4577, 0.0036486819653508266), (4578, 0.0), (4579, 0.0), (4580, 0.004434378834448775), (4581, 0.08945016925039424), (4582, 0.0), (4583, 0.0), (4584, 0.041886899006083604), (4585, 0.0), (4586, 0.02669124945421347), (4587, 0.0), (4588, 0.02655050618566917), (4589, 0.04716405457209127), (4590, 0.009281289581096403), (4591, 0.005309800250101645), (4592, 0.008603001807005945), (4593, 0.0), (4594, 0.023473426651578932), (4595, 0.01920301791321985), (4596, 0.01170957207086377), (4597, 0.0882008945892965), (4598, 0.0), (4599, 0.03204211882534552), (4600, 0.056505039695933346), (4601, 0.0), (4602, 0.0), (4603, 0.0037067769596831634), (4604, 0.004681053349958321), (4605, 0.016727543469111757), (4606, 0.007227743260913479), (4607, 0.0), (4608, 0.005066305817540542), (4609, 0.032769638635616424), (4610, 0.0033350979985313344), (4611, 0.0), (4612, 0.005796161324031939), (4613, 0.02086660799751713), (4614, 0.0), (4615, 0.014669574250653185), (4616, 0.0), (4617, 0.0), (4618, 0.0), (4619, 0.02321900577645962), (4620, 0.0), (4621, 0.0048652733850501305), (4622, 0.025328134994937385), (4623, 0.0), (4624, 0.009764506107437173), (4625, 0.0), (4626, 0.026780574336279624), (4627, 0.003409797050771413), (4628, 0.008203195719100284), (4629, 0.010812706521821163), (4630, 0.037705599832516534), (4631, 0.011758591579071238), (4632, 0.0), (4633, 0.004670113467936244), (4634, 0.004344473007211175), (4635, 0.006622436367901828), (4636, 0.003351119680349696), (4637, 0.0), (4638, 0.01814121182028447), (4639, 0.0), (4640, 0.0404511018367879), (4641, 0.03475427718968187), (4642, 0.0303237617639405), (4643, 0.039291905362090415), (4644, 0.0), (4645, 0.0), (4646, 0.01321541915519615), (4647, 0.012966054325116216), (4648, 0.004109708299539675), (4649, 0.009518836675220077), (4650, 0.004579582537418501), (4651, 0.0), (4652, 0.010154910022331287), (4653, 0.09307232952884678), (4654, 0.0), (4655, 0.02014610320957615), (4656, 0.0061563038999440465), (4657, 0.0), (4658, 0.03910487143519517), (4659, 0.011185092842386508), (4660, 0.08964598355292766), (4661, 0.005060657233325805), (4662, 0.0), (4663, 0.007702776353893415), (4664, 0.0), (4665, 0.0), (4666, 0.007729195719300286), (4667, 0.01805721841388175), (4668, 0.0), (4669, 0.0), (4670, 0.03813510444980711), (4671, 0.0), (4672, 0.0), (4673, 0.005529558522743109), (4674, 0.0074789552407997254), (4675, 0.003958879755234881), (4676, 0.06489159128960345), (4677, 0.02010068953212361), (4678, 0.015391501242508576), (4679, 0.008186555925699569), (4680, 0.0), (4681, 0.0), (4682, 0.01457529817813405), (4683, 0.019954260262505564), (4684, 0.005826090218493092), (4685, 0.004571057696600893), (4686, 0.004684289635359627), (4687, 0.004552529626945227), (4688, 0.00394574887998887), (4689, 0.004248430016746662), (4690, 0.00908068932380773), (4691, 0.0), (4692, 0.0), (4693, 0.0), (4694, 0.06964935663182475), (4695, 0.004906789962593587), (4696, 0.0), (4697, 0.03498223212413344), (4698, 0.040166692676498895), (4699, 0.0), (4700, 0.005380630923037937), (4701, 0.0), (4702, 0.004035206461213419), (4703, 0.014187086999188615), (4704, 0.0), (4705, 0.008162574934604948), (4706, 0.004414872955866716), (4707, 0.0), (4708, 0.0056655225074868296), (4709, 0.03492645072712748), (4710, 0.0), (4711, 0.004690115194781113), (4712, 0.0), (4713, 0.0), (4714, 0.022768324659195652), (4715, 0.0), (4716, 0.005917033201633903), (4717, 0.004692220649414021), (4718, 0.0), (4719, 0.007696408273551257), (4720, 0.00482319790598815), (4721, 0.004945792531256984), (4722, 0.01632581515533641), (4723, 0.006980366314693221), (4724, 0.0), (4725, 0.03609735995463141), (4726, 0.006139507967968768), (4727, 0.05240861796065295), (4728, 0.0), (4729, 0.0), (4730, 0.023690514736794364), (4731, 0.02009303464048504), (4732, 0.005078226589346975), (4733, 0.0047636254932547075), (4734, 0.004294474084249776), (4735, 0.0), (4736, 0.0), (4737, 0.02745676749036361), (4738, 0.003972016913868277), (4739, 0.011642109328306678), (4740, 0.0), (4741, 0.006505705431001088), (4742, 0.01469523927633005), (4743, 0.020264120152835866), (4744, 0.003221394223453862), (4745, 0.005889567139342853), (4746, 0.004507174951030105), (4747, 0.006570466709863), (4748, 0.031195535139373214), (4749, 0.0), (4750, 0.0), (4751, 0.0), (4752, 0.04556084179364325), (4753, 0.0), (4754, 0.02044620824567141), (4755, 0.0046841510823833745), (4756, 0.022545113282996652), (4757, 0.0), (4758, 0.0), (4759, 0.0)]\n"
          ]
        }
      ]
    },
    {
      "cell_type": "code",
      "source": [
        "len(Recommendation_score)"
      ],
      "metadata": {
        "colab": {
          "base_uri": "https://localhost:8080/"
        },
        "id": "xoixphDZYccl",
        "outputId": "6dc0ab5c-bca9-4013-8544-652e142269a3"
      },
      "execution_count": 59,
      "outputs": [
        {
          "output_type": "execute_result",
          "data": {
            "text/plain": [
              "4760"
            ]
          },
          "metadata": {},
          "execution_count": 59
        }
      ]
    },
    {
      "cell_type": "code",
      "source": [
        "# sorting the movies based on their similarity score"
      ],
      "metadata": {
        "id": "F30in3KQYm5j"
      },
      "execution_count": 61,
      "outputs": []
    },
    {
      "cell_type": "code",
      "source": [
        "Sorted_similar_movies = sorted(Recommendation_score,key = lambda x:x[1],reverse = True)\n",
        "print(Sorted_similar_movies)"
      ],
      "metadata": {
        "colab": {
          "base_uri": "https://localhost:8080/"
        },
        "id": "82WEaNFkYzUT",
        "outputId": "8c67067d-c6df-4bf2-88d2-c6ed3beb6fc8"
      },
      "execution_count": 62,
      "outputs": [
        {
          "output_type": "stream",
          "name": "stdout",
          "text": [
            "[(264, 1.0000000000000002), (263, 0.6157012280328691), (460, 0.27126339955920664), (3270, 0.22011130170624765), (919, 0.2025350086820472), (1108, 0.1725060899891419), (3323, 0.17207827751436305), (171, 0.17101094986586118), (1050, 0.16719729381538068), (3181, 0.1611873593872189), (1296, 0.1542016401090485), (3378, 0.15056012737961375), (4471, 0.14934160298766486), (4180, 0.145482153460455), (1898, 0.14110540770555763), (572, 0.13723861113864805), (1635, 0.13111646017513168), (160, 0.1294268178090029), (963, 0.12912009921256248), (1097, 0.1263362427129892), (3015, 0.12602000158076931), (3368, 0.12557627664362528), (3923, 0.12468729450050106), (314, 0.12467762357161923), (39, 0.12100687659588247), (28, 0.11870465566488053), (915, 0.11515499179066577), (1584, 0.11329440518210504), (1156, 0.11301464439961795), (397, 0.11161332517646799), (1848, 0.11133285087462125), (1341, 0.11117883578199217), (2691, 0.11066760205701175), (2513, 0.11048325699847197), (1322, 0.11002024255506454), (1931, 0.10870756332217534), (1524, 0.10836741818369795), (1460, 0.10760956690248924), (412, 0.10730910664861663), (2858, 0.1058014406493333), (1966, 0.10575403768763261), (75, 0.10547401232566506), (913, 0.10518009912057266), (189, 0.10409369886194747), (769, 0.10406468192866081), (3463, 0.1036936064400022), (690, 0.1032241838509651), (1321, 0.10137844104252611), (35, 0.10118230128314347), (1056, 0.10068543460206492), (1150, 0.10054131902305774), (368, 0.10016890554101732), (364, 0.10010763061025796), (1908, 0.09999147165953491), (491, 0.09958762091052581), (371, 0.09917868888668072), (2539, 0.09841848250394104), (1653, 0.09816802121414879), (1195, 0.09781034799025358), (135, 0.09756527868117196), (3869, 0.09749956831026546), (2499, 0.0972658656540573), (259, 0.09702807874623526), (1535, 0.09550893719194153), (303, 0.09536719954279747), (965, 0.09482764454206623), (2203, 0.0946354430507966), (2221, 0.09458206300776549), (1358, 0.09403448468312658), (1047, 0.09373139620857288), (3907, 0.09321029402165501), (3452, 0.09312293141867539), (4653, 0.09307232952884678), (598, 0.0926581414625663), (3240, 0.09240394786628475), (1111, 0.09180789557635259), (3135, 0.09131113231227225), (2030, 0.09077314688703708), (4398, 0.08992836239777861), (3161, 0.08980097888961264), (4660, 0.08964598355292766), (4581, 0.08945016925039424), (2512, 0.08868536157510146), (2062, 0.08858618997348713), (4597, 0.0882008945892965), (2241, 0.08813366121071413), (2081, 0.08760033088411763), (4041, 0.08743257437321428), (1091, 0.08731313370580064), (427, 0.08709896526252384), (220, 0.08702427049657507), (3532, 0.08648839707441787), (439, 0.08632057055409291), (234, 0.08612377765021446), (101, 0.08591019150057846), (1193, 0.08571452699030604), (1756, 0.08516059193322265), (102, 0.08484248574053693), (3022, 0.08480533145310575), (613, 0.08396551895523288), (1671, 0.0827539407006169), (350, 0.08263260761068675), (2713, 0.08236504308065369), (1129, 0.08234507594182652), (1470, 0.08230866142519144), (261, 0.08218797655337642), (4346, 0.08179962799697071), (4291, 0.08168396539908253), (69, 0.08137981068524369), (180, 0.08134681980681269), (1011, 0.08127596326979869), (260, 0.08079796397503944), (608, 0.08058194313327757), (1231, 0.08045248212870623), (3542, 0.08044624813041923), (3589, 0.08044014145707228), (1173, 0.08036734790373533), (516, 0.08014106474968721), (3, 0.07989967350866659), (1911, 0.07973394752194235), (555, 0.07971224848531812), (4199, 0.07919890428820595), (3794, 0.07911985979957362), (770, 0.07879309972441897), (4240, 0.07861380285918201), (2584, 0.0783911368714863), (1789, 0.07798060730535132), (1740, 0.0776546995368069), (3783, 0.07684799323600314), (1651, 0.0767918498996218), (686, 0.07671237991385418), (3469, 0.076586149094967), (1074, 0.07609958072966545), (3467, 0.07601593595674105), (4152, 0.07582717599974352), (1457, 0.0757655940950335), (599, 0.0757125280826699), (3868, 0.07563272541041685), (2825, 0.07542229254680426), (977, 0.07540572305634996), (778, 0.07498923741854198), (2973, 0.07466175658514454), (988, 0.07456509213452042), (1454, 0.07431404577197112), (3385, 0.07424709176557029), (4093, 0.07407062321537955), (3233, 0.07401815944041451), (3193, 0.07399657188071349), (1772, 0.07301259943026939), (425, 0.07281917024943894), (90, 0.07247607355053215), (2504, 0.07208442128948976), (3138, 0.07180144245470914), (1364, 0.07108951898927525), (323, 0.07107461524130389), (3685, 0.0710084705638753), (2012, 0.07100765575997509), (2233, 0.07071626380492244), (1986, 0.07057065962329544), (3513, 0.07051528978551368), (130, 0.07043724314342284), (1701, 0.07014356019033485), (3342, 0.07003651428547772), (4335, 0.06990293722297201), (2666, 0.06979358459652028), (4238, 0.06976259760914388), (4694, 0.06964935663182475), (989, 0.06925880108272724), (258, 0.06916968980967333), (2124, 0.06912687577463626), (1839, 0.06880959010628684), (37, 0.06811058000961516), (1275, 0.06801576151781359), (600, 0.06780592830751525), (3405, 0.06750231092144249), (3079, 0.06746730023166575), (3908, 0.0674646886193856), (2205, 0.06729471700144501), (1799, 0.067117373053953), (594, 0.06682951895974532), (274, 0.06673711373421987), (1903, 0.06628085103405758), (3450, 0.06580637573623252), (4272, 0.0657178343376528), (1592, 0.06568929841236973), (1961, 0.0654817471721478), (875, 0.06540896784761752), (1982, 0.06531357633993042), (1774, 0.06526350606414101), (922, 0.06522456794556367), (3187, 0.06512429444710324), (4676, 0.06489159128960345), (4450, 0.06479337386886035), (1948, 0.06475154530967711), (3010, 0.06458160722209713), (3744, 0.06456008805338603), (3158, 0.06451107069148229), (656, 0.06426773167793334), (2989, 0.06421622181140982), (1904, 0.06420026280535697), (2708, 0.06417897118902481), (385, 0.06412796323092217), (1714, 0.06385256060903109), (3063, 0.06257755620094227), (1066, 0.06256171066530375), (3913, 0.062446663653012324), (4480, 0.062236181867527426), (1216, 0.062129502620934696), (3798, 0.06201193412022649), (123, 0.06199186289209038), (2626, 0.061879514382276374), (1373, 0.06157993072234303), (476, 0.061272202397762154), (3597, 0.06092814078883866), (1374, 0.060509596751866776), (1802, 0.06030236745240814), (64, 0.06026013967309088), (727, 0.06024303103233522), (2994, 0.06018882262975025), (2110, 0.060162300891839306), (426, 0.06003851289420637), (2844, 0.059703387040692626), (1486, 0.059634579355660945), (336, 0.059624830789339264), (1039, 0.05942279953131505), (204, 0.0592557761839145), (2083, 0.05924407057811696), (94, 0.059176382936138035), (2181, 0.05903001241220635), (1510, 0.05878555731238468), (1791, 0.05876897843241934), (4103, 0.058730663754353894), (322, 0.05862304785303451), (1109, 0.058587686080572826), (4077, 0.05852565283450567), (2895, 0.05849078116000586), (3773, 0.05847151269660141), (1522, 0.05831170613845173), (3953, 0.05828418812961412), (413, 0.058190594205238144), (763, 0.05812403157417434), (369, 0.058105594088413134), (407, 0.058024795552474), (2950, 0.05800445980542712), (3414, 0.05781594788195301), (307, 0.05778618051537182), (305, 0.05768420449959616), (1613, 0.057392229323317334), (3977, 0.057293440740207535), (179, 0.057277410393908615), (697, 0.05725971602115823), (588, 0.0571900271929852), (2581, 0.05711103700153536), (2098, 0.05705560983025089), (4154, 0.05675170675509568), (1389, 0.05669415603234901), (1459, 0.05662967526069578), (4600, 0.056505039695933346), (1280, 0.056487805381656694), (3692, 0.0562642901089895), (341, 0.056237671733338525), (3231, 0.0561511049857326), (872, 0.05613275430741671), (1964, 0.056096790897807475), (802, 0.05607829845399549), (3850, 0.05584510133986832), (1236, 0.055798560529075183), (2413, 0.05564423783401644), (1536, 0.05564397304151912), (609, 0.05562690678148605), (1055, 0.055589245406991145), (2345, 0.05558418606692234), (277, 0.05549750859671561), (461, 0.0554240401667261), (887, 0.05529054838558646), (215, 0.055211086049127625), (537, 0.05516068795062391), (2055, 0.055160618350802396), (68, 0.055154440471396476), (614, 0.05507190058097115), (640, 0.05493838451075346), (1575, 0.05487535053642435), (3516, 0.054637906546777186), (2177, 0.05449345174932964), (2301, 0.05447664039589892), (3294, 0.0539007678160465), (3595, 0.05379881113295451), (2277, 0.05377903015906906), (2729, 0.053752200921237274), (1709, 0.053691728365740744), (1968, 0.05365276092615126), (2711, 0.053539022728740664), (994, 0.053259431876477935), (4491, 0.05316990641151076), (591, 0.05314923394517937), (3817, 0.05297839110768533), (367, 0.05290423384847792), (219, 0.052892040493768076), (1750, 0.05289098526565583), (3961, 0.052869695177481496), (228, 0.052834804992803505), (797, 0.05281253430941783), (2409, 0.05263697402744078), (3975, 0.052628223555501646), (1361, 0.052592547137350204), (4099, 0.05252320380348886), (3349, 0.052500746846980896), (3331, 0.0524860342329354), (4727, 0.05240861796065295), (2815, 0.05231232627380572), (2860, 0.0522770199036858), (38, 0.05222939967847028), (711, 0.05221995714872773), (434, 0.05214663245260531), (2180, 0.05211095095897787), (1682, 0.05182826969731737), (2257, 0.051792546440152035), (663, 0.05173319617016956), (2265, 0.05163743966215098), (843, 0.05162594621255656), (781, 0.051609920575766056), (542, 0.05155105492324476), (1467, 0.051541201120173706), (3634, 0.05147320682530836), (372, 0.051425549405426964), (534, 0.05136386664587196), (681, 0.05129517047589428), (1664, 0.051213621520416), (3747, 0.051182100633407265), (380, 0.051083826181852865), (308, 0.051058901369449405), (1677, 0.051022529471886714), (78, 0.050975587843571715), (481, 0.05078564251969697), (333, 0.05066505553711749), (3968, 0.050598705168619994), (484, 0.05058801382036782), (169, 0.050584072217975506), (497, 0.05055735834763287), (3477, 0.05053894920421024), (3632, 0.05039482692333368), (1561, 0.05035771400503786), (3609, 0.05025926122948685), (3965, 0.0500759346267554), (3307, 0.05003762676381411), (3936, 0.05003352616034171), (852, 0.04978125473972535), (1285, 0.04975452042838395), (3192, 0.04973570209856096), (902, 0.04970977647449007), (1921, 0.049600897561077925), (2843, 0.04955521207790692), (212, 0.04953390703945069), (84, 0.04943961697920919), (1649, 0.04943863254312646), (1589, 0.0493039312326132), (2298, 0.04923431082325094), (561, 0.049127811772629267), (1880, 0.04901231972221158), (485, 0.04893197491924598), (4467, 0.0489037596794808), (3144, 0.04882700536952974), (4038, 0.04877594644176422), (2605, 0.04877490261288709), (1301, 0.04859732075563357), (295, 0.04855006862344479), (3367, 0.04853559988846823), (3997, 0.048526932164085296), (2680, 0.04810143818637721), (2923, 0.04793503361060515), (2850, 0.04788872546100245), (3328, 0.0478443043727773), (1012, 0.04776820273276185), (381, 0.04776375750608072), (674, 0.04776305397675505), (1662, 0.04772182668725967), (3291, 0.0476970581301927), (3998, 0.04768761134099862), (4233, 0.04768394455989533), (232, 0.04765934397190624), (1176, 0.047598668780764665), (389, 0.04758855211831212), (3089, 0.047547460102841915), (2159, 0.04738613342324756), (440, 0.04731515142249726), (74, 0.047297530435454566), (4589, 0.04716405457209127), (2669, 0.0471573250085259), (1432, 0.04714488529303097), (1528, 0.04711593580192201), (2676, 0.047067919179811374), (3276, 0.0467709205223026), (1370, 0.046747431176059916), (635, 0.046370417139386645), (2236, 0.04629574971390504), (4338, 0.046200109562068145), (2091, 0.04615374365292642), (4552, 0.04608091832342039), (139, 0.04605358407067603), (395, 0.046046711620097616), (40, 0.04604436218959848), (2471, 0.04601252312898217), (2126, 0.045895796816887), (708, 0.045867647296698656), (3919, 0.04577623138811831), (4752, 0.04556084179364325), (4546, 0.04552880898746383), (745, 0.045429671012187284), (77, 0.04541904559461239), (3473, 0.045400780392563546), (3780, 0.04525954040369057), (1751, 0.04519594427542858), (981, 0.045176863192107446), (387, 0.045121024312898966), (565, 0.04500359305904923), (345, 0.04485015337369305), (3594, 0.04460781876053874), (379, 0.044570058027313564), (795, 0.04443686677659972), (1716, 0.04441381203469927), (747, 0.044390896423638776), (1396, 0.04437858279757577), (1579, 0.04426485355387682), (3579, 0.04413539679041999), (27, 0.04412112983782033), (898, 0.04401724410708362), (2944, 0.04392399950882064), (3743, 0.04390856443767914), (3882, 0.04389463061904227), (2095, 0.04389427611448819), (178, 0.043809362684588994), (4002, 0.04375396636658695), (1658, 0.043718790919592965), (3694, 0.04369657992004848), (4168, 0.043658431263011985), (1608, 0.04364043164523551), (3568, 0.04361263761899546), (4501, 0.04360153116398616), (284, 0.04347167489680169), (2120, 0.04345157927311477), (3690, 0.04336741527251005), (17, 0.04336117655465711), (1381, 0.04335477517001984), (3172, 0.04331789455056305), (3042, 0.043205516826618245), (1812, 0.04304516035424426), (2571, 0.04302190017813854), (1051, 0.04293985310291378), (1591, 0.042936020971975804), (4442, 0.04287853329837052), (4364, 0.04279085014717858), (4264, 0.04271232707907248), (67, 0.04270250737704925), (253, 0.042660618675826795), (289, 0.04260547925530851), (4228, 0.04255727872289307), (2530, 0.04255075615086125), (666, 0.04251316520064432), (4070, 0.04244373410337354), (1654, 0.04243572979012347), (2210, 0.04242696770888015), (1168, 0.0424210039768855), (4053, 0.042311932278223836), (1288, 0.04229906316692967), (2114, 0.042299013272464804), (3047, 0.04226837974584674), (4406, 0.042181087980867116), (3903, 0.042115006528822), (1865, 0.042114703046233645), (3449, 0.04209656724140523), (9, 0.04208324695993704), (1007, 0.04189696722478551), (4584, 0.041886899006083604), (1973, 0.04182167686421112), (1018, 0.04177427831856768), (11, 0.04171647242567262), (1256, 0.04164102190370173), (2672, 0.0416273468027423), (1516, 0.04155851405435111), (231, 0.041535416734880364), (4091, 0.04151191420899408), (592, 0.04145920653444282), (2479, 0.04142622109597076), (1205, 0.041411919067704084), (273, 0.041380207971824276), (1172, 0.04133612469391641), (3272, 0.04133151313513274), (2715, 0.04132234185613007), (710, 0.041300587209894615), (725, 0.04125866146500737), (2215, 0.04125855793698367), (494, 0.041235228886165085), (1138, 0.04116293030029668), (1003, 0.041017514590052595), (4237, 0.040924917436235234), (1494, 0.040855500240794915), (1788, 0.040775153795168446), (3622, 0.04071849486583555), (952, 0.0406819277032128), (3546, 0.04067694268616237), (1792, 0.040639785184134476), (1442, 0.04062576280194583), (750, 0.0406221360090006), (2583, 0.04059396240654258), (1825, 0.040552709214641006), (4640, 0.0404511018367879), (2430, 0.040438521137880004), (3131, 0.04041963902721417), (704, 0.04037311986231323), (236, 0.04036511530505173), (2421, 0.04034625877411832), (3389, 0.04033127736597085), (2642, 0.04032333605992065), (2393, 0.04026771540986535), (1687, 0.040234837888803776), (1380, 0.04021768185728811), (603, 0.04018366212603911), (4698, 0.040166692676498895), (2078, 0.04015812896672334), (3436, 0.04010370531681552), (814, 0.04008220084383408), (1199, 0.040054338760600994), (3844, 0.039958810871790075), (2330, 0.039944726364445765), (4039, 0.03993617792044536), (756, 0.0397853520961194), (1095, 0.03974333802337511), (2371, 0.03970853487953423), (2627, 0.03954755159383363), (4557, 0.03939054660577602), (4300, 0.039389810279278986), (1099, 0.0393763843695755), (2724, 0.03932785430610264), (3698, 0.039294125013158474), (4643, 0.039291905362090415), (3671, 0.039280912950787734), (65, 0.039268288248464615), (1371, 0.039254067474840566), (3141, 0.039212259154530235), (1354, 0.03914673649950457), (4658, 0.03910487143519517), (918, 0.03909749086240491), (1512, 0.039043796936064745), (4121, 0.039040207783578244), (1230, 0.039022777003266854), (2948, 0.038969392332161686), (2239, 0.038938419851724235), (4118, 0.03891450557235911), (100, 0.03891014949032644), (2920, 0.03890026593675384), (606, 0.038861764498589024), (2698, 0.03882843058751689), (523, 0.03878361052191546), (2701, 0.038778161348157814), (150, 0.03876298315682729), (3127, 0.03873949016042244), (3520, 0.03871103116637177), (570, 0.03864843934398), (1943, 0.038602697652611276), (2355, 0.03856662229274989), (4472, 0.03854859867588262), (72, 0.03850359889223323), (1046, 0.03848594098419371), (3265, 0.03838331188318621), (3419, 0.03834044336138843), (4440, 0.038269264803225095), (4081, 0.038198542185605575), (2021, 0.038187617229220976), (2510, 0.03814582398869341), (246, 0.03813756055443936), (4670, 0.03813510444980711), (122, 0.03813087389274502), (1214, 0.03804134166306609), (1515, 0.03802618928464467), (2501, 0.037961727382037826), (773, 0.037957822002083946), (4570, 0.03794541138118446), (3972, 0.03793936773637309), (3178, 0.037882087159910816), (751, 0.037877246622230985), (3366, 0.037746889601929276), (4630, 0.037705599832516534), (812, 0.03770182806740779), (1262, 0.037679317336694974), (3598, 0.037648569965608045), (2534, 0.037642437601732186), (3055, 0.03753314471591402), (4312, 0.03750489026816324), (1241, 0.037459304083093815), (2365, 0.03740531742497816), (3113, 0.03738748403963962), (1137, 0.03734356243036875), (2817, 0.03732317478349971), (1169, 0.03731986223386613), (1452, 0.03731251624088165), (4435, 0.0372498500199092), (36, 0.03723956868876403), (392, 0.03718077333605388), (306, 0.03712640081029668), (119, 0.037106305966354364), (2075, 0.037076345691164615), (43, 0.03706054201067637), (53, 0.03703590560321181), (1455, 0.0370279372963846), (2038, 0.037026288166841996), (1468, 0.03701009753531176), (2016, 0.03699823385617549), (3437, 0.03695529095771294), (2818, 0.036936557827731295), (2134, 0.036933749339645244), (2472, 0.03689264428580095), (553, 0.036827789301999224), (997, 0.036812565407117935), (4063, 0.0367980182213348), (4143, 0.03677436131246857), (596, 0.036757491690808164), (1551, 0.03669758424636824), (550, 0.036696459967156404), (152, 0.03668898754185538), (1783, 0.0366207258169988), (3697, 0.03660075383729754), (774, 0.03657680396868099), (3838, 0.03657253822822597), (4181, 0.036511854309708644), (267, 0.036504861154132595), (1645, 0.036497740434439416), (1554, 0.0364697348530401), (2259, 0.03636857723085654), (3234, 0.03636798650874831), (4388, 0.03629012540571922), (3787, 0.036263880720031214), (1549, 0.036158352448633926), (1171, 0.03612331297265397), (4725, 0.03609735995463141), (2898, 0.03609698023756084), (3163, 0.03609313774857289), (1273, 0.03599063610429003), (1330, 0.03598363585206887), (3890, 0.03597324315998206), (4029, 0.03592285493834689), (2136, 0.035899478961119294), (1022, 0.03587985214603215), (4493, 0.035873042513833796), (3554, 0.03583961687307282), (911, 0.0358314567651738), (1489, 0.035830817265133784), (2139, 0.035790380898218), (3582, 0.03577342675171184), (3361, 0.03576338083262607), (2918, 0.03571693885941198), (3293, 0.03565966525842425), (932, 0.03564397464811825), (6, 0.03563909005033123), (4486, 0.03557845565990515), (357, 0.03555240611309092), (548, 0.035520766370763596), (3133, 0.03551080798619016), (1552, 0.03550420752064837), (3834, 0.03544158408090974), (1413, 0.03542763714880992), (469, 0.0353623968470366), (2061, 0.03535679825608083), (3346, 0.03534713716873399), (4289, 0.03529431298857402), (7, 0.03529158981541967), (1349, 0.03528450805829245), (709, 0.03513785523172545), (3132, 0.03511880466695641), (2058, 0.03508784320498221), (4697, 0.03498223212413344), (931, 0.034978117534756756), (1110, 0.034969732997339936), (1328, 0.03496908426415499), (4709, 0.03492645072712748), (225, 0.03490497201988302), (1295, 0.034877276802264365), (348, 0.03484660555329692), (2198, 0.03483679536598312), (320, 0.03482952263123551), (3641, 0.034811225166184026), (4641, 0.03475427718968187), (4285, 0.03470124632923805), (2015, 0.03469647720758271), (80, 0.034616687005400645), (3134, 0.03457207203984175), (4076, 0.03455023172369899), (354, 0.0345350676467274), (1775, 0.03451941856037786), (2742, 0.034420573317389), (3482, 0.03439655416099199), (2749, 0.03438355259653065), (999, 0.034373474200670544), (3941, 0.03435070321067037), (471, 0.03434701559192263), (4001, 0.03432529366967565), (1690, 0.03429626099721797), (3917, 0.034283371201874066), (151, 0.034217172878076435), (45, 0.034209063379379415), (2283, 0.034177146792682245), (754, 0.03416259844072583), (2764, 0.03413563394396566), (433, 0.03411674351614461), (1691, 0.03411526358205215), (418, 0.03409307133448818), (95, 0.03407344624008929), (1386, 0.034036093939021815), (4274, 0.03399389467249975), (3840, 0.03395654717584131), (2125, 0.0339292822267854), (3458, 0.033886085941016296), (3486, 0.03385789305211173), (524, 0.0338461666450291), (4492, 0.033830416891772325), (2955, 0.033825563770907265), (867, 0.03381002661409683), (2045, 0.033768914602174245), (2100, 0.03376167324883482), (1919, 0.03374034439164596), (2132, 0.033731766756380566), (19, 0.03371357225571739), (3246, 0.03355543392996331), (1500, 0.033548217106407124), (3461, 0.03350262028292604), (3281, 0.033457814631938906), (1945, 0.03341230594873133), (2521, 0.03332419017054085), (2500, 0.03329144331557987), (3382, 0.03327345195910353), (3427, 0.033249232231966755), (2927, 0.03322193683487352), (1151, 0.033214140395236076), (1385, 0.03320228808666492), (1013, 0.033166493703253606), (1566, 0.033150710888302695), (2789, 0.033147613864393445), (2389, 0.033123816593917506), (3982, 0.033115809449452846), (4239, 0.03310219418889704), (1269, 0.033070697143265104), (586, 0.03306592778964587), (3142, 0.033047560428042515), (472, 0.033017076721884336), (4453, 0.033016359911206175), (1398, 0.03300328781427084), (4128, 0.03300315498816738), (1122, 0.032954222972433105), (2496, 0.032939243630743964), (4347, 0.03290355299383435), (1600, 0.0327931797133772), (4609, 0.032769638635616424), (1263, 0.03276239364436592), (3125, 0.032730428707016423), (2834, 0.03272343679225445), (4551, 0.032706508395620254), (3937, 0.032691103126353996), (2376, 0.032690094354876166), (2962, 0.03266856899471162), (4020, 0.03266087965864426), (1087, 0.032647094172266806), (4015, 0.0326366047113927), (1611, 0.032611739274689196), (3765, 0.032567751072472825), (4541, 0.03255073975179356), (692, 0.03250430121115375), (2811, 0.03249048333885964), (4479, 0.03247405738478696), (1818, 0.03247280693012608), (1281, 0.032438307786466836), (2406, 0.03239933506035065), (625, 0.03238626645625156), (3397, 0.03238516400021069), (1533, 0.032346087834109916), (3129, 0.032311041529556786), (2518, 0.03230460924075629), (567, 0.03230132097569899), (4484, 0.032285953863411036), (1315, 0.03221939637188344), (401, 0.03217206979735038), (2644, 0.032165846961884244), (1031, 0.03216494509082251), (288, 0.032119486582978744), (3724, 0.03207738004371104), (2689, 0.03206911493308917), (4599, 0.03204211882534552), (3547, 0.03203533571794378), (1668, 0.03203492927986376), (452, 0.031992630081351336), (2646, 0.03197745782241104), (79, 0.03197088735957308), (943, 0.031963911822406904), (1502, 0.03194686675044773), (3801, 0.03192097504131297), (91, 0.03191026234532626), (390, 0.031881063659899435), (181, 0.0318681335849956), (891, 0.03186686792337658), (2319, 0.03186188384465877), (1184, 0.03184472147416521), (4341, 0.03183420774008947), (202, 0.03181270563153535), (41, 0.03179275682436808), (3515, 0.031745871230846184), (93, 0.03172592933710916), (1154, 0.031677915603234665), (545, 0.03166398340426832), (4465, 0.03161193609433704), (928, 0.03160792909728273), (3916, 0.031575262898293995), (921, 0.03155041821177193), (3404, 0.0315234141804905), (2426, 0.031508501880889994), (1665, 0.031481302991984504), (3723, 0.03141882941632136), (2804, 0.03139840579664266), (2379, 0.0313468347059363), (2490, 0.03130613083179587), (3709, 0.03125871693570386), (3742, 0.031256219494925484), (715, 0.03122448787559438), (4748, 0.031195535139373214), (0, 0.031192099347482495), (1946, 0.0311689561237678), (2435, 0.03116123896646903), (191, 0.031145957362446818), (2908, 0.031122584412974868), (1319, 0.031115020363304036), (184, 0.03099795003083381), (2757, 0.030981216191813696), (2217, 0.030956453962652394), (3310, 0.030951218798409952), (2668, 0.030950279306245512), (3100, 0.03094144886760114), (1530, 0.030939699685321516), (1246, 0.03084637317518422), (2442, 0.03080614668638533), (46, 0.030787095677350166), (105, 0.0307729712326727), (2341, 0.030771130322182854), (4073, 0.03075741893934552), (2806, 0.03075383182856639), (3139, 0.030752205026811853), (316, 0.030733073355690387), (4535, 0.030684763831746866), (1357, 0.030680069744732044), (1069, 0.030672992616661794), (1767, 0.03063187711938341), (4401, 0.030629906454689652), (3205, 0.03062556368335512), (3114, 0.03062176449227351), (1469, 0.030612359570232683), (1477, 0.030597338375835538), (3503, 0.030576944853151867), (2373, 0.03057000046161271), (2706, 0.03050365743367644), (1324, 0.030478004842766082), (653, 0.030462402815286796), (2522, 0.030451350950493297), (1863, 0.030451195819324095), (2086, 0.030372204350691948), (4490, 0.03035539567941265), (57, 0.030323856464305972), (4642, 0.0303237617639405), (2527, 0.030294075684810903), (546, 0.030285243872910723), (762, 0.03025771394724213), (3955, 0.03018979877131962), (4153, 0.030185373210276527), (3440, 0.03015150058871234), (2013, 0.0301341117965099), (1338, 0.03010298472258121), (2395, 0.03004517554598101), (208, 0.030040893816248627), (1570, 0.029982841172156834), (2690, 0.029965998177140185), (2675, 0.029932410440330324), (374, 0.02992643812364914), (3332, 0.029924343704396467), (3993, 0.029906368459524182), (700, 0.02988927294003032), (1134, 0.029857837988225732), (287, 0.029758247805577082), (18, 0.029752817590333144), (3718, 0.029738625861307336), (2105, 0.02972391200723431), (3502, 0.029706755995871893), (3357, 0.029704919646534697), (1603, 0.029694558119996738), (3678, 0.029656054085454634), (1014, 0.02965510047940067), (776, 0.029654671120338223), (4276, 0.029648019340598842), (1114, 0.029630424778830714), (654, 0.029628890413074815), (2574, 0.02962454767354162), (1, 0.02958638042932131), (55, 0.029566391354873274), (1925, 0.029554116813284424), (3443, 0.029515888111995424), (1567, 0.02948171856633216), (2451, 0.02944412724541251), (2178, 0.029425781695096284), (903, 0.029422862748961845), (2793, 0.029384566084371185), (4244, 0.029365536721278777), (2725, 0.029363735356476364), (2797, 0.029326818085283264), (1732, 0.029316588803326535), (2488, 0.029281792945246746), (4135, 0.029280791673781812), (2465, 0.02924731132800786), (1283, 0.029216813496812984), (3720, 0.029194241210892063), (2450, 0.029179484477574447), (1503, 0.02917182367208771), (2432, 0.029160112094132128), (4457, 0.029140440295017635), (4222, 0.029130368581210986), (1292, 0.029114454596631152), (1306, 0.029101031382281945), (1418, 0.029071963921303783), (4089, 0.02906431829042222), (118, 0.029033602636511124), (2337, 0.029024970362203945), (3023, 0.029017977872983127), (1045, 0.029014853577630943), (1901, 0.028999550278262398), (428, 0.028992145451587303), (4378, 0.028978620022353838), (699, 0.02893429813081639), (313, 0.028928316007277938), (2582, 0.0289168395089947), (157, 0.02890165640652386), (2383, 0.02885440486621832), (409, 0.028740007314287313), (1544, 0.028725838608180506), (2756, 0.02872466423331016), (683, 0.028702142667903115), (3345, 0.02870170202157707), (2826, 0.02866190976273086), (1976, 0.028593839590013485), (2632, 0.028548365380701393), (4466, 0.028546961316991065), (2899, 0.028438402417533534), (128, 0.028395896429337188), (3051, 0.028367950088854486), (1745, 0.028351663146868784), (1086, 0.028330521989001493), (944, 0.028317955374477344), (2741, 0.02829496073778387), (1735, 0.028287300571733655), (3693, 0.02826207336057142), (71, 0.0282576424388425), (601, 0.028257568002630067), (48, 0.028249104670128086), (492, 0.02824475763277071), (3763, 0.028237580283805665), (1278, 0.02822652285513029), (2682, 0.02822509112609207), (3453, 0.028153685376904006), (4046, 0.028060590623615725), (1401, 0.02804686149001747), (2548, 0.028040218736533718), (2822, 0.028034103537866145), (1823, 0.028028551476790984), (3802, 0.028027578786603995), (842, 0.028025159119288795), (4509, 0.028009181199580614), (2313, 0.028004003606613266), (1162, 0.027965153687224954), (4293, 0.027917273714429952), (719, 0.02790623140652756), (2127, 0.027894698890553515), (370, 0.027868435004290152), (1922, 0.027844134559857302), (1265, 0.027819471416008337), (958, 0.027737142866004393), (3200, 0.027673318224156255), (1267, 0.027663011455986587), (563, 0.027656257961831725), (1511, 0.02760779672843249), (2441, 0.02760710561925353), (2378, 0.02760400147428639), (3408, 0.027593566689702084), (3364, 0.027593371608453862), (3097, 0.027586983550044943), (3468, 0.027586446106999632), (1344, 0.027567757053194305), (2270, 0.02755134411968862), (330, 0.02753992214299171), (1004, 0.0274905538416055), (3492, 0.02748500590084873), (1057, 0.027465115006610065), (4737, 0.02745676749036361), (538, 0.02744574565378173), (3759, 0.02743191950481425), (3059, 0.02742137175744798), (3886, 0.027386843004135346), (992, 0.027383583949694923), (2641, 0.027379366631897564), (2665, 0.027345229995443622), (2486, 0.02729041375146684), (1798, 0.027289753189209884), (1194, 0.027274067301350506), (3710, 0.027250710869555016), (4482, 0.027231876238259817), (3044, 0.027202942181524272), (1521, 0.02719915636681241), (990, 0.02717553795595158), (73, 0.027174965610216033), (1915, 0.02715938363768758), (2982, 0.027154815321356784), (2946, 0.027145008658035614), (2420, 0.02712423441962441), (4349, 0.02712246785266089), (1850, 0.027109502740670532), (2357, 0.027088425963655217), (290, 0.027059582523602743), (602, 0.027044711734644233), (3924, 0.02702491687988931), (4051, 0.027015849628272526), (1260, 0.0270120787371584), (1700, 0.027009894320719843), (3313, 0.02700895638543163), (2782, 0.026955696732094074), (4282, 0.026916162593953605), (4430, 0.026902816893378683), (1079, 0.026896499628589275), (266, 0.026891420731370783), (2979, 0.026880907425569107), (4460, 0.026852135286161736), (4626, 0.026780574336279624), (515, 0.02674340654155257), (4100, 0.026737914503397506), (4217, 0.02671815360818766), (4586, 0.02669124945421347), (2327, 0.026679905878963933), (3519, 0.026660245237827868), (3077, 0.026620873000817342), (3808, 0.026602734741529098), (517, 0.02659990122317964), (3080, 0.026596345328097862), (2484, 0.026590659140695864), (2881, 0.026565274955215545), (164, 0.02656096122841284), (4588, 0.02655050618566917), (3371, 0.02654183082292046), (1836, 0.026493165794561846), (4393, 0.026460241694916585), (172, 0.026456181562737935), (1291, 0.026453681455446743), (3688, 0.026439166692548775), (2813, 0.026432702069026728), (14, 0.02641886587584784), (3623, 0.026404857399181796), (2014, 0.0263791566886392), (1027, 0.026375550965337533), (4127, 0.026365260717723014), (4567, 0.026361981549783232), (1886, 0.02636072222424276), (3191, 0.026351501727486466), (4523, 0.026324755853479702), (3065, 0.02631727948179627), (2903, 0.026304147830625638), (1177, 0.02629473939842937), (1140, 0.026278993543762973), (4514, 0.026272525963347823), (2842, 0.02624127397097278), (3225, 0.026229860982357585), (3002, 0.026225146880513726), (382, 0.026222247835192745), (2382, 0.026219600158454016), (1984, 0.026210235193072803), (1810, 0.026210190287879038), (2621, 0.026203544809871825), (3160, 0.02620324062504619), (2427, 0.026191818994644442), (3105, 0.02617843887403362), (3898, 0.02617507857343385), (930, 0.02616070238401388), (819, 0.026143516874733735), (734, 0.026141949304764194), (1332, 0.026133818390163568), (771, 0.02608845136841785), (828, 0.026056007535080285), (4068, 0.026046215515431508), (3201, 0.026026488275658486), (1546, 0.02602539334235083), (3897, 0.02602183846769909), (1727, 0.026012097161711496), (1590, 0.026008833721120186), (4193, 0.025983929135317354), (765, 0.025977295306951663), (717, 0.025963895769793546), (1266, 0.025934382536028), (2616, 0.025932404819768728), (1784, 0.025927899303270278), (3424, 0.025912265571968688), (3889, 0.025877745217918215), (617, 0.02584213016314269), (1402, 0.025839984842556188), (1686, 0.02583929620257678), (2494, 0.025837607292866778), (2166, 0.025832793886545087), (1192, 0.02582338273319794), (4357, 0.025812625356400287), (2790, 0.025805161422838084), (2036, 0.025802548593161397), (1856, 0.025752299190684655), (2005, 0.0257355830026404), (153, 0.025700125045744013), (3733, 0.025696580819005325), (3943, 0.025687065952223413), (419, 0.025679417743383958), (2622, 0.02566646168186749), (741, 0.02561915864565375), (2281, 0.02561713647615862), (1113, 0.025603772420699576), (3418, 0.02558206682067011), (405, 0.02558023614545548), (3041, 0.025560046037063855), (616, 0.025559097787717675), (1212, 0.02550992203157558), (3432, 0.02550711334556564), (619, 0.02547778374739315), (87, 0.025458685039466352), (4009, 0.02542701099663388), (2286, 0.025415124988944018), (501, 0.02540914714785751), (4403, 0.02539434890428242), (1704, 0.025379541118168022), (2053, 0.025376530270001786), (2662, 0.025357076096080282), (1394, 0.02535310442070139), (4622, 0.025328134994937385), (4054, 0.02530112945034995), (375, 0.025296403315713013), (4034, 0.02529537101333642), (3643, 0.025293254233764932), (733, 0.02526384839014214), (2660, 0.025214609125825363), (2261, 0.02517692421892994), (1082, 0.02513886284573958), (2784, 0.02512323098210627), (2670, 0.02510658876728383), (1696, 0.025099810417178306), (1821, 0.025077333689828004), (32, 0.025056013464559764), (1384, 0.025019779267499587), (1250, 0.025015114342931077), (1314, 0.025010303326355853), (2232, 0.025006875405727574), (4302, 0.024994617364202356), (2531, 0.024975826048263605), (4448, 0.02496230372031954), (4344, 0.0249598234269737), (377, 0.024950122132172153), (3351, 0.02494146842866818), (879, 0.02493195921837888), (2090, 0.024903122139678973), (2278, 0.024899047491601045), (2546, 0.024882960347473206), (3578, 0.024879400912874286), (1392, 0.024840376510453503), (3615, 0.024834776220381775), (554, 0.024829476776367806), (1675, 0.024783257371293974), (3630, 0.024781519260449185), (4074, 0.024765048392330118), (4404, 0.024739953614522855), (104, 0.024734831484244782), (3102, 0.02468005674539478), (456, 0.02466791455625205), (63, 0.02465877992162822), (3395, 0.02465347809236361), (347, 0.024626293839155163), (2250, 0.024588923596285152), (229, 0.024586959777139556), (3637, 0.02458423957402877), (1155, 0.024569222695082518), (926, 0.024558978306748372), (2913, 0.02454480455765886), (3785, 0.02454345771601538), (1558, 0.024515371734407855), (3746, 0.024509193282421432), (42, 0.024507866438001125), (4481, 0.02449562050270547), (3973, 0.02449530500653345), (2874, 0.02448028136764712), (3605, 0.024469539543592864), (2010, 0.024468162072931614), (3480, 0.024459868389149), (972, 0.024424652363431706), (971, 0.024383251904184104), (1425, 0.02437936506872973), (3792, 0.024366172563714775), (1987, 0.024345805766448056), (252, 0.024283750168077455), (2439, 0.02427756736502069), (4518, 0.024262092798132195), (3123, 0.024257605217636775), (1461, 0.024233136020023544), (2487, 0.024224153207225926), (1857, 0.024197718643090622), (1345, 0.024161696931912068), (3465, 0.024148994611307997), (1274, 0.02414502881161337), (3734, 0.024141874227705022), (4113, 0.024125204590159488), (420, 0.024089607641016527), (2299, 0.024081358087223125), (753, 0.024074752937684997), (3541, 0.02403891903808769), (974, 0.024000323853156154), (477, 0.023991119368820733), (2837, 0.023958626564248953), (2026, 0.023940984347974505), (257, 0.023935770893722175), (1505, 0.023930174468931337), (866, 0.0238920887295433), (790, 0.023883930223786837), (4576, 0.02387860611215789), (3994, 0.023850832872349077), (1183, 0.023850396026959632), (841, 0.02384987074488746), (661, 0.02384666246623908), (2308, 0.023819284803214453), (129, 0.023806648638812378), (3249, 0.023804894674224517), (3818, 0.023765987621787464), (3208, 0.02374360060396181), (2792, 0.023734378696094283), (1146, 0.023730842681707387), (1060, 0.023720026601872023), (1806, 0.023712999711336193), (2968, 0.02370845151089142), (22, 0.023692173295197835), (4730, 0.023690514736794364), (1932, 0.023675615400390017), (3033, 0.023675544247855233), (1867, 0.023662737662208395), (1501, 0.023658981472384884), (3053, 0.023647608718718308), (1913, 0.02364479747575203), (2280, 0.02363682096321106), (3888, 0.02360933209622889), (411, 0.02358947744812466), (3528, 0.023578797067263506), (1585, 0.02354303823079564), (607, 0.023537414290788088), (574, 0.02353660697893115), (1130, 0.02348312025994726), (4594, 0.023473426651578932), (2807, 0.0234492826031169), (4145, 0.02340393094332557), (2940, 0.023371850725194744), (1375, 0.023361620334611765), (1023, 0.02334507846497198), (2911, 0.023315499494209475), (2000, 0.023301460721593448), (3459, 0.023296103424112723), (2322, 0.02328351478463607), (3644, 0.023274384743580546), (2048, 0.023247728132984383), (496, 0.023225871444318986), (4619, 0.02321900577645962), (3556, 0.023203313125747645), (796, 0.023174512457997617), (2113, 0.023168241740128194), (1210, 0.02316760847713526), (3247, 0.02314994065957857), (3539, 0.023140703046077772), (1657, 0.023117554320942202), (1254, 0.023109753406666225), (2269, 0.02308146395005154), (4506, 0.023053271519592085), (443, 0.023044509793023093), (4243, 0.023043427793352087), (4548, 0.023041078124401215), (3875, 0.0230388464855616), (3084, 0.023037037294738626), (4399, 0.023032403274559445), (3285, 0.023010406066254666), (3355, 0.0229934707291305), (1290, 0.022990499782180526), (1909, 0.02297490120511004), (3701, 0.022966868658462855), (810, 0.022964530521313923), (1125, 0.022964334214255887), (56, 0.022957699897509336), (1211, 0.022945386433632208), (4547, 0.022942177062640956), (1451, 0.02289205613711784), (3966, 0.02288989700385708), (3870, 0.022860199134003785), (1939, 0.022840501288576377), (2056, 0.022827593533498898), (3789, 0.022803738566672956), (4451, 0.022782047223109465), (4373, 0.022773594394502904), (4714, 0.022768324659195652), (2107, 0.02276317599554488), (2131, 0.022756566400649894), (96, 0.022749080742875724), (2154, 0.022731704800603894), (744, 0.022730916419464575), (3661, 0.022728653029494596), (3196, 0.022697891180031786), (673, 0.022663730043193504), (2921, 0.02264929878330389), (2625, 0.022606898761706306), (209, 0.022605569907583518), (1650, 0.022595260516514493), (4043, 0.02256155251208584), (4756, 0.022545113282996652), (1602, 0.02253580413302003), (961, 0.022472871272418565), (4447, 0.022447357626370124), (724, 0.022431192017855938), (4339, 0.022419355211784488), (934, 0.022405944855057803), (1858, 0.022369157850996434), (511, 0.02235241436479892), (2028, 0.02234790277847795), (2812, 0.022324984199211223), (702, 0.022324287539891286), (4257, 0.022315687145948865), (2444, 0.022304702879140673), (2635, 0.022301507007197872), (1595, 0.022300378737749146), (2819, 0.02229318305253187), (4010, 0.022279973876554435), (2714, 0.022272030568890572), (1587, 0.022258283533175927), (4515, 0.022245510391088942), (687, 0.022242512451798622), (2316, 0.022241312119796103), (470, 0.022195184614291978), (2740, 0.022193657082536806), (3444, 0.02219064591844938), (4210, 0.022179357798161388), (279, 0.022176635738241475), (1498, 0.022150234248518346), (2294, 0.022148570084601683), (945, 0.022141244566428055), (3180, 0.022125366136336217), (3070, 0.02210160841645269), (1656, 0.022066123590215377), (1577, 0.022057441522162397), (3454, 0.022056928367289955), (3001, 0.022038598327130315), (3797, 0.022007171025158413), (2446, 0.022002209525529958), (454, 0.02198552777312769), (907, 0.02198107205356075), (1229, 0.02197023726934613), (2739, 0.02193854336586723), (2285, 0.021926130968773876), (2929, 0.021922032758655213), (870, 0.02190570738819748), (394, 0.021874750875619204), (3999, 0.021851822346532025), (3894, 0.021835612682832427), (4174, 0.02180377689190141), (3143, 0.021784506285849044), (1067, 0.02174630723642866), (3714, 0.021737460873630047), (1157, 0.021735390301356322), (3448, 0.02170556180890875), (2074, 0.02170368322358813), (4109, 0.02168417389093643), (851, 0.021675059051551225), (4105, 0.021674018511156756), (310, 0.02166431778872337), (2493, 0.021661065891768437), (4087, 0.02161893606622486), (162, 0.02161181158935704), (3893, 0.021523617119058102), (2599, 0.021494436650961405), (3757, 0.021492015052728557), (1995, 0.021490817162658576), (1001, 0.021490585355782674), (2766, 0.021470379512457404), (577, 0.021463496433622817), (1412, 0.021462168006534468), (2022, 0.021459303836451834), (4259, 0.02144793737878882), (535, 0.0214317672696931), (1180, 0.02142982906026849), (2454, 0.021429691720612556), (2976, 0.02140757204988865), (430, 0.02140523121924013), (3774, 0.021401598838026014), (4286, 0.021400812271632187), (4112, 0.02134380523132831), (1680, 0.021302525370228566), (1189, 0.02127797252226426), (3873, 0.02126511994565231), (3026, 0.021264419318339493), (502, 0.021190657869619964), (1495, 0.021175075697310974), (2263, 0.021159565963171877), (4505, 0.021155347549555413), (1896, 0.0211415168550032), (3045, 0.021137718372355997), (4318, 0.021119193010337673), (1368, 0.02109771631610501), (451, 0.02107260889384207), (3048, 0.02106648551360572), (4564, 0.02105445219628117), (1491, 0.0210422434667132), (2721, 0.02104109910808271), (2912, 0.021031842126309958), (2549, 0.02103081713171216), (1723, 0.021030630046502432), (3409, 0.021027922064958633), (2240, 0.02102612301389042), (912, 0.02098190055037929), (2573, 0.02098163170912494), (182, 0.02097929497701868), (3305, 0.020956712728575844), (3896, 0.020944399058489587), (4340, 0.020934933751686365), (1120, 0.020924705383106396), (568, 0.020913194330462084), (2613, 0.020907128117685934), (76, 0.020885290562055247), (580, 0.02088478376387129), (218, 0.02087282828200373), (4613, 0.02086660799751713), (498, 0.020846398823578707), (403, 0.02083772379718654), (1233, 0.020837279002399258), (1164, 0.020813079684201687), (540, 0.020810905027584335), (4094, 0.0207544808521296), (2809, 0.020751857319127865), (4250, 0.02072519475165715), (2212, 0.020723351111600567), (547, 0.020723340005972205), (3752, 0.020704403234059053), (1106, 0.020703532375620323), (1083, 0.02069189258680389), (1253, 0.020689162828795266), (3666, 0.020687079747357045), (1249, 0.020686681854453538), (569, 0.02066060016800155), (1118, 0.020653399822325), (278, 0.020635899197818212), (1363, 0.020613712242605484), (1895, 0.020598708915273344), (980, 0.020591715803227374), (243, 0.02058272764686919), (3736, 0.020581042199175285), (1406, 0.020567490429248336), (4334, 0.020554556694231278), (1737, 0.02053051479798522), (1048, 0.020487280464190946), (2977, 0.020469076412783192), (4754, 0.02044620824567141), (3484, 0.02041080059277771), (509, 0.02039480409691653), (2867, 0.020394382511931472), (1044, 0.020386149614527914), (352, 0.02036131437054011), (3388, 0.020344245859262595), (4055, 0.020337962448247326), (668, 0.020332492409476308), (2287, 0.020329312254237487), (2763, 0.020326274319741183), (3222, 0.020319767876077626), (424, 0.020316012563733703), (417, 0.020311195275675945), (2073, 0.020305622047795572), (2933, 0.0202988683554408), (3164, 0.020294523885079525), (2334, 0.02029225982524892), (1299, 0.020269612995751873), (4004, 0.020268765262032203), (4743, 0.020264120152835866), (2065, 0.020258159234014833), (3751, 0.020258029719864526), (3957, 0.020229695680283502), (1998, 0.020227367275670424), (1101, 0.020214171793398537), (3576, 0.020198379483689764), (1431, 0.020187998867210226), (1991, 0.020174592603477377), (4189, 0.02016639330986996), (4655, 0.02014610320957615), (3317, 0.020136154320888295), (1178, 0.020123689585256475), (4014, 0.02012194693943193), (4137, 0.020111675731595984), (3085, 0.020103983550070554), (415, 0.020103343465885517), (4677, 0.02010068953212361), (4391, 0.02009804778588639), (4731, 0.02009303464048504), (423, 0.020090221068554355), (2211, 0.02008061072366054), (3564, 0.020068728558284354), (4266, 0.020067647001732487), (283, 0.020062347501500967), (4008, 0.0200391784966492), (821, 0.020026199313422883), (3559, 0.019999943684741672), (935, 0.019993450592326798), (4006, 0.019979391744129424), (83, 0.01997841996409045), (378, 0.019972458321007445), (4383, 0.019956745098622653), (4683, 0.019954260262505564), (1378, 0.019906832661743416), (3489, 0.019903567999546484), (4345, 0.01990233706713282), (1445, 0.01988637450438646), (1071, 0.019874268326023396), (2998, 0.01987193063518388), (2197, 0.019838543431694854), (2092, 0.01983562129408751), (1882, 0.019832402897353538), (1239, 0.01980956596898858), (3978, 0.01980930650714058), (2237, 0.019786073459966604), (166, 0.019784998094826575), (1571, 0.01976176646567459), (1124, 0.01973247771866659), (2770, 0.019731570105205123), (2751, 0.019694580978614665), (282, 0.019689546265636126), (3195, 0.01966832973724946), (1622, 0.019646460129085677), (1382, 0.019645632502308146), (2878, 0.019631769455130503), (2292, 0.019602593472451815), (62, 0.019593364746062242), (4487, 0.019593181736002097), (4157, 0.019590312005788858), (1697, 0.019587402885091715), (3466, 0.019551510802282), (1764, 0.019545426047224694), (3971, 0.019528316008834548), (1698, 0.019518976235057255), (1437, 0.01950200279225308), (165, 0.019492427695209924), (2909, 0.0194922069549378), (2018, 0.0194625089391777), (115, 0.019461720222432775), (3297, 0.01945854670979269), (630, 0.019447073010640078), (2369, 0.019437614622851145), (2122, 0.0194299960846839), (238, 0.01941238184728965), (1963, 0.019385477623935585), (889, 0.01938075372555692), (2824, 0.01937511060762046), (3625, 0.019359267191958265), (2340, 0.019356917291316278), (1967, 0.019355353430588456), (52, 0.01935385879027044), (4536, 0.019338641577575533), (1807, 0.019338149981027754), (1676, 0.019334844240830616), (1245, 0.01927745247088485), (2326, 0.01927204252239438), (2164, 0.019263793588626787), (3028, 0.01925809832028444), (3586, 0.019256106108301314), (2268, 0.019246777159870262), (1410, 0.01923647041521284), (4504, 0.019234239321392024), (3533, 0.019228644597308255), (2828, 0.01922316887665964), (1722, 0.019220033074633314), (3298, 0.019210631352668317), (4139, 0.019204276366271013), (4595, 0.01920301791321985), (2360, 0.019196080903026776), (2381, 0.019188717015957837), (2192, 0.019167323978164647), (1996, 0.019143811342564147), (620, 0.019136065616782716), (1864, 0.019127972474374512), (3900, 0.019123450936470752), (4090, 0.01912323823312689), (643, 0.019104507578547394), (3438, 0.019101584054006138), (3091, 0.01908438694917168), (3062, 0.019080778728526215), (1416, 0.019039401495456368), (2951, 0.01901442119576041), (479, 0.019010590458710744), (2886, 0.01900837409195557), (3526, 0.019007805031897397), (2937, 0.01900753895088484), (4261, 0.018990507876923184), (112, 0.018980449344432375), (2736, 0.018971036426627712), (1638, 0.018959244838894843), (2618, 0.018940600866833683), (1436, 0.018931752879431604), (1632, 0.018902627840541097), (1742, 0.018902258030645148), (1647, 0.018892555824159128), (4031, 0.018887760473521673), (804, 0.018871650889392175), (1121, 0.01886686945531577), (800, 0.018859286439726237), (1090, 0.018858091004565564), (956, 0.01885637217875792), (1185, 0.01885084779716517), (2995, 0.01884818356600282), (2060, 0.018839799183552445), (1107, 0.018832901711573636), (3836, 0.018831557982117084), (1771, 0.01882513426539311), (3628, 0.018820432537908313), (3433, 0.018818870986880037), (174, 0.018799903177799688), (3021, 0.01876917205400716), (1849, 0.018737142134176387), (186, 0.018734541315209102), (2640, 0.018721357823707662), (4566, 0.018707985774781177), (31, 0.01870341706075223), (1758, 0.018683732917438137), (201, 0.018668048349474175), (4454, 0.018640532336249696), (2935, 0.018634701485652737), (1841, 0.018609806121698835), (2578, 0.01858904943087595), (1934, 0.018540648721860564), (410, 0.018540544785407027), (615, 0.018534787009776746), (1408, 0.018533117784121915), (910, 0.018529069231007923), (1052, 0.018507388424624037), (1433, 0.018501947971733608), (3775, 0.018489224810881166), (1068, 0.018487824085513017), (1206, 0.018426405271160164), (638, 0.018420520471555284), (631, 0.018397109429774634), (604, 0.018381138250067205), (4182, 0.018371803022709857), (837, 0.01837022181600676), (2296, 0.01836862169598495), (590, 0.01836760568180152), (15, 0.018343359993089125), (4165, 0.018339721471940403), (4176, 0.018324755201438888), (1629, 0.01831900703695774), (1572, 0.018312896006369872), (3358, 0.018282493103927325), (772, 0.018259182685527273), (3284, 0.0182520633222265), (2208, 0.01824119560546955), (4283, 0.01823885243286363), (865, 0.018222313659804906), (4638, 0.01814121182028447), (1309, 0.01813077634834972), (2647, 0.01812226844621742), (984, 0.018104362644928783), (2273, 0.018100152974968066), (3614, 0.018090296849153295), (2068, 0.01808586462451445), (4667, 0.01805721841388175), (948, 0.018054366585389725), (1586, 0.018053454155642648), (649, 0.018038223939101292), (1346, 0.01799495364162705), (1259, 0.017984666983313333), (2654, 0.01796749468134304), (2218, 0.01796269264523167), (2972, 0.01794052803634273), (1627, 0.01793555905988374), (722, 0.017906795145100844), (3635, 0.017896301279928223), (1179, 0.017890252531032477), (793, 0.017873875434147164), (1808, 0.017872740430570182), (1420, 0.017868502391998952), (297, 0.017815365175076266), (621, 0.017805385102636247), (3006, 0.0178011659370957), (610, 0.017789922401825142), (3963, 0.01775879765609753), (1244, 0.017752465751833278), (47, 0.017739919659516285), (59, 0.01773200011191589), (659, 0.01772913963154025), (4416, 0.01772620448265344), (2363, 0.017719865512096363), (2353, 0.01771981056314957), (3068, 0.01767172486624887), (1143, 0.017666449245202366), (3111, 0.017645428106362538), (4385, 0.01761780529337213), (768, 0.017607198523221845), (823, 0.017604268932956215), (2732, 0.017602142361779843), (803, 0.017586610933498552), (4220, 0.01757625596301322), (995, 0.017576183553933998), (3842, 0.017574753512462966), (3197, 0.017548199527369288), (1149, 0.017546113185136544), (1092, 0.017540569899881397), (480, 0.017537858265036115), (528, 0.017524278135004664), (4365, 0.017516815739382022), (3360, 0.017509020484288818), (99, 0.017505861622395577), (739, 0.0174989222269593), (3910, 0.017491780141916657), (97, 0.017488838901821326), (2267, 0.017485446280922943), (1646, 0.017476528789373936), (2774, 0.017473135280426245), (787, 0.01746838921032636), (1640, 0.017451077370877775), (3741, 0.017448244702078702), (187, 0.017444086419614886), (1861, 0.017439012826422556), (2103, 0.017422636228119782), (726, 0.01740316740319712), (2559, 0.01740070654480274), (1974, 0.01739390955844563), (1773, 0.017387544561216953), (1038, 0.01738285313103797), (4389, 0.01737510167278056), (840, 0.017370349317610154), (3506, 0.017368496962244195), (4468, 0.017363950701222562), (2554, 0.0173622381908409), (292, 0.01735980681786575), (2637, 0.017347332881555443), (4550, 0.017345926776622226), (4352, 0.01734087215093487), (4351, 0.017327171651167726), (2153, 0.017304719933961522), (161, 0.01729992121059247), (1200, 0.01729986484579382), (4012, 0.01728326605430475), (376, 0.017275419659894962), (1953, 0.017243346246873088), (1318, 0.017220627999559986), (349, 0.017212080659733692), (849, 0.01719929733462381), (1497, 0.017186652912601397), (3786, 0.017167931472655763), (361, 0.017151372460692597), (167, 0.017144381598873507), (1061, 0.01713485530042307), (946, 0.017126782722514694), (2051, 0.017109724110742075), (1569, 0.017089171956188257), (444, 0.017086825679287137), (2412, 0.017085479731503216), (2755, 0.01708506496655285), (4411, 0.017068712466051482), (1215, 0.01705828199016783), (1329, 0.017031869101194898), (3157, 0.016999489190750883), (4142, 0.016923334422786974), (856, 0.016911456930576288), (1342, 0.016902726280654756), (3035, 0.016894744273375596), (966, 0.016893904230417117), (2291, 0.016890671581273782), (269, 0.01688406184729705), (904, 0.016878993967425135), (4396, 0.01684840119412845), (2720, 0.01680547259663695), (196, 0.016787231129351994), (1743, 0.016781331979524507), (2656, 0.016774355495649762), (2781, 0.016772378938702395), (575, 0.016770769585871488), (4605, 0.016727543469111757), (4119, 0.01669495921405846), (4138, 0.016692096001692337), (4201, 0.01667761815112789), (2214, 0.01667368447984831), (2150, 0.016666492196033153), (723, 0.016657372210536075), (3928, 0.01664674831327326), (1576, 0.016634924951672063), (3938, 0.016627286205788898), (16, 0.01660620090690992), (794, 0.01657279307142489), (4035, 0.01656089119341314), (1293, 0.016542409713157125), (1351, 0.016521314567949724), (1523, 0.016496267480974908), (2474, 0.016491646378718243), (1002, 0.016444728588959023), (4133, 0.01642043124841108), (4196, 0.01639315200212898), (2097, 0.01638745484373004), (2544, 0.01637287100531219), (2767, 0.016369563809023213), (2841, 0.016367376043342378), (2704, 0.01634608435023526), (4722, 0.01632581515533641), (2563, 0.01630535335647411), (4032, 0.016298352848802756), (960, 0.016275308398480324), (438, 0.01625801126442729), (2043, 0.016246991829166474), (384, 0.01620698833989908), (214, 0.016178497404982773), (1809, 0.016170527759300196), (2814, 0.01616676827058164), (1781, 0.01616196068564063), (3781, 0.016135290317316846), (2443, 0.016118584476053573), (3471, 0.0160941371664858), (227, 0.016094035393186053), (783, 0.01608868485739885), (327, 0.016050808407081545), (1238, 0.01604728166956654), (1795, 0.016046725543905193), (3221, 0.016037411956148936), (1755, 0.01602424804857587), (3107, 0.016021406531827202), (3206, 0.016015216981931493), (1258, 0.016013042188673637), (2161, 0.015975467052730542), (1144, 0.0159382949621567), (2093, 0.015917333962587616), (1918, 0.01590677045434543), (877, 0.015903927240827506), (1400, 0.015874111645026407), (584, 0.015867734500191508), (1289, 0.015863783546078848), (2329, 0.015848100805219797), (1307, 0.015847005294050268), (732, 0.015842500570225113), (987, 0.015841213984911593), (4218, 0.01580456452222146), (4445, 0.015751371091461155), (2567, 0.01570773249230273), (3902, 0.015668762791332284), (2904, 0.01566325684714905), (1958, 0.0156530279731723), (447, 0.015637079022786174), (2485, 0.015631938168398887), (4559, 0.01563174530071941), (4273, 0.015628924177526773), (2331, 0.015616366507123006), (637, 0.015594508075227909), (2123, 0.01558728347340449), (319, 0.01556369801879906), (2155, 0.015539829337527261), (2707, 0.01553551087345402), (1310, 0.015533484530160166), (1717, 0.015509361049587424), (544, 0.015498747273904273), (1443, 0.015497475941549666), (2320, 0.01544484566314527), (4415, 0.015432549733363443), (1466, 0.015431042957611527), (2185, 0.015418183305776163), (4360, 0.015417074330918554), (1547, 0.015416820518829418), (4678, 0.015391501242508576), (3699, 0.015381443858753846), (1537, 0.015351620390815515), (2760, 0.015340216158497916), (1738, 0.015338669986608171), (3316, 0.015329803180066548), (2145, 0.015328502123694656), (1131, 0.015323817091517051), (3921, 0.015309059349361782), (861, 0.015282153510806619), (4018, 0.015249176242953435), (853, 0.015243300050101612), (453, 0.015207155292280474), (1352, 0.0151987669571896), (3464, 0.015196646362404205), (3638, 0.015190188712258336), (562, 0.015166298639963471), (2606, 0.015163248970491768), (824, 0.015125478525320559), (2408, 0.015123497193470543), (3259, 0.015122016819904001), (639, 0.015108947082669574), (3914, 0.015107984421164601), (3327, 0.015104455680680539), (2152, 0.015091327253994903), (1797, 0.01508849629778048), (3115, 0.01507395191949579), (2433, 0.015071514902033328), (634, 0.01506477410458197), (226, 0.015057179930459644), (2555, 0.015052435337358882), (3232, 0.015047607219323529), (2398, 0.01504616151929038), (1713, 0.015030789993198635), (749, 0.015029968082022668), (2615, 0.015009136107178354), (1881, 0.014997560695771647), (2802, 0.014995169794355242), (4060, 0.014961622455133194), (4194, 0.014922632934552075), (3439, 0.014918029681942186), (1379, 0.014917410414294296), (1438, 0.014913783068780271), (2066, 0.01489078456765995), (1831, 0.014889829547837335), (2589, 0.014886174356950457), (247, 0.0148860272364071), (2710, 0.014883138131361145), (1594, 0.014874902347128746), (3560, 0.014872803184488671), (1040, 0.014865640691231604), (1308, 0.014823800602506187), (1257, 0.014801763692407953), (2356, 0.014797299462303033), (2032, 0.014769266085555307), (4336, 0.014752256924940425), (4069, 0.014751934429885986), (4742, 0.01469523927633005), (1541, 0.014694265965224267), (881, 0.014691071497438438), (1564, 0.014685388362241062), (396, 0.014676686939828015), (1248, 0.014673967223991306), (1240, 0.014670041170330939), (4615, 0.014669574250653185), (908, 0.014648430279993734), (500, 0.014646305034980392), (2779, 0.01463929530817046), (3881, 0.014624269367559515), (3574, 0.014614920124362787), (982, 0.014614741220759182), (2428, 0.014607974514734286), (328, 0.014588549192184294), (4682, 0.01457529817813405), (4061, 0.014511823398766808), (1160, 0.014496459689473266), (116, 0.014473481621300417), (4130, 0.01446777100354842), (684, 0.014438594518127169), (4332, 0.014413625138291471), (2004, 0.014413176713454842), (3865, 0.014409354085873764), (4011, 0.014402136056979107), (1679, 0.014395069404773362), (3202, 0.014391853023536438), (3980, 0.01435404361544474), (1894, 0.014343922125617008), (2888, 0.01433859865374297), (713, 0.014333571109870675), (757, 0.014331430075320908), (3343, 0.014324351059849234), (2524, 0.014300229983430198), (2224, 0.014253478991254296), (698, 0.014247929088035035), (294, 0.014246588752826136), (2528, 0.014241141474273293), (737, 0.014215457893952595), (1623, 0.01420047972999678), (4703, 0.014187086999188615), (2657, 0.014183505390434111), (3782, 0.014178610935450269), (1705, 0.014174457332613159), (1362, 0.014143906727569228), (455, 0.014137935786287253), (3803, 0.014136571691412907), (1472, 0.014130104653409371), (4171, 0.014128552800686636), (826, 0.01411696273939577), (3846, 0.014105842353489207), (975, 0.014097761408147417), (3979, 0.014053592916920064), (1326, 0.01404961867807083), (4270, 0.014045259371779011), (4568, 0.014039923041520314), (4328, 0.014032397341294682), (2862, 0.013998722516412768), (3829, 0.013998464636817897), (1225, 0.013964097551445887), (2659, 0.013947761163915665), (1689, 0.01393891166479231), (3474, 0.013934652098471275), (2135, 0.013927629709362748), (2550, 0.013926361077935049), (1730, 0.013924073887487662), (2011, 0.013887632781877893), (302, 0.013881301435471918), (716, 0.013880627225914365), (1115, 0.013829099560545125), (1080, 0.013805303718872152), (4419, 0.013799410315478485), (4025, 0.013783111094936903), (2791, 0.01377577376126497), (2532, 0.013754500863145006), (3849, 0.01374835849678977), (1529, 0.013745640901643583), (3124, 0.013742768141346827), (672, 0.013725133054694048), (3587, 0.01372446676277067), (1800, 0.013666351489957535), (996, 0.013663555735280565), (2547, 0.01364912633335976), (815, 0.013644676653468172), (4456, 0.013631859050998764), (1615, 0.013620276951806783), (3271, 0.013618119155334715), (170, 0.01360985158293962), (1474, 0.013587298463007071), (4444, 0.01357762388897179), (3877, 0.013565139535413438), (979, 0.01356033696189561), (4294, 0.013557098863421525), (200, 0.013550334002733084), (1688, 0.013547499803838705), (1936, 0.01352860789208788), (1776, 0.013505485057501815), (2960, 0.013500627792079688), (1105, 0.013482896928968102), (1725, 0.01346931093917969), (54, 0.013442614750872406), (1440, 0.013441175301498168), (714, 0.013393405715950801), (1951, 0.013372063526800966), (3895, 0.013369744239313823), (2992, 0.013369657539673663), (2492, 0.013368779869633848), (731, 0.013361133999301248), (677, 0.0133522489128216), (2645, 0.01333930563808652), (2610, 0.013319670277824318), (2067, 0.013316412920302067), (785, 0.013293501830097788), (1893, 0.013293306343866107), (1304, 0.013290043806862106), (2506, 0.013279809847088216), (315, 0.01327754034081001), (1699, 0.013267968323686416), (344, 0.01325572103911085), (108, 0.01325015399003579), (3969, 0.013240465233625659), (2520, 0.013239755103270903), (1517, 0.013227219258703179), (3518, 0.013223981973885706), (4646, 0.01321541915519615), (2667, 0.013194383905741302), (2922, 0.013175100060424032), (211, 0.013173856211164348), (4056, 0.01316530262879385), (4188, 0.013152075147508732), (3152, 0.013140720483089289), (1604, 0.01312398367770775), (1548, 0.013120137027135593), (3073, 0.013108056724526288), (3569, 0.013094543104956185), (973, 0.013089196717703101), (2847, 0.01306891922445808), (4269, 0.013068550491042497), (2902, 0.013052237297982446), (467, 0.013048288407020311), (2990, 0.013034944803271848), (895, 0.013013145976418826), (2609, 0.012995297096628304), (4211, 0.01299361287087709), (1999, 0.01299212275119226), (3311, 0.012970689726102262), (4647, 0.012966054325116216), (539, 0.012952905327835593), (2553, 0.012952276538684873), (4224, 0.01294538696489126), (2035, 0.012938454916490684), (3420, 0.012932296978328336), (3629, 0.01292978289251907), (239, 0.012923117446513211), (2175, 0.012898071713955175), (2422, 0.012896384068794666), (1846, 0.012894707084365103), (1350, 0.012893827146701071), (13, 0.012892259133123177), (301, 0.012887948533864674), (775, 0.012882809532796809), (4192, 0.012865245666483179), (190, 0.012850979042628127), (321, 0.01284776693527178), (3555, 0.012829085298470598), (1063, 0.01278943245076979), (365, 0.012772317707001815), (740, 0.01276815612669297), (2167, 0.01276650536348764), (3156, 0.01274906167437768), (3735, 0.012727278217340939), (298, 0.012727108765161027), (3456, 0.012719357176100584), (2367, 0.012717365884767608), (362, 0.012698660305929168), (2117, 0.012696943375390705), (2562, 0.012678918591830329), (1207, 0.012645741060461659), (780, 0.01264027547990647), (1844, 0.012627386046041307), (1297, 0.012614100028034501), (2031, 0.012604209164058244), (1487, 0.012596306906858394), (1787, 0.012583268102290863), (3700, 0.01257306467303481), (1029, 0.0125722528179513), (2575, 0.012570979634605132), (363, 0.012567991178736082), (597, 0.012555883696983452), (2160, 0.012501611521772451), (421, 0.012495959111152602), (3715, 0.012494741306398636), (1496, 0.012484416502148599), (4205, 0.01247596094314609), (3056, 0.01247545164944553), (4353, 0.012452262076545356), (4086, 0.012445915225235459), (3684, 0.012444103434166132), (4556, 0.012434567529588296), (657, 0.012403617104427963), (1746, 0.012399301536115471), (468, 0.01238654348200332), (1888, 0.012380854431289098), (738, 0.012374231096896764), (2071, 0.012359723751144507), (3136, 0.012345646945829155), (1731, 0.01233096181908824), (512, 0.012319418362888648), (3447, 0.01231567326084794), (222, 0.012293826902293477), (1506, 0.012286596184777487), (1135, 0.012283375559898477), (2414, 0.012281247447427555), (1422, 0.01227149347199593), (4007, 0.012270783044607264), (1333, 0.012265119677139419), (816, 0.012256878186650465), (1037, 0.01225014626638789), (249, 0.01224961407996495), (4236, 0.012241690849405639), (1926, 0.012221459211765966), (2600, 0.012216301082719726), (3571, 0.01219039208738802), (299, 0.012181638528755801), (4297, 0.012174589947753684), (4439, 0.012165813754470341), (3384, 0.012151644111831533), (1010, 0.012127667209005197), (338, 0.01212114329506397), (4323, 0.012114793248684048), (4477, 0.01210932368740425), (527, 0.012090976437142045), (1955, 0.012081198387404731), (3658, 0.012049043926276704), (2803, 0.012046058948015491), (3312, 0.012038770542496774), (2249, 0.012028072031458052), (1965, 0.012013555456702029), (1387, 0.01194944770382762), (1366, 0.011940201088223728), (3600, 0.011935934655318342), (1165, 0.011913865521461228), (3633, 0.011898695553651747), (3287, 0.011890114727017755), (3795, 0.011840714581404947), (954, 0.011830305627249916), (2077, 0.011808936891027893), (1365, 0.011794932131195531), (3099, 0.011773832122221037), (4631, 0.011758591579071238), (159, 0.011756139380864509), (1085, 0.01172528261913965), (566, 0.011718366460242897), (4462, 0.011713259006939678), (3826, 0.01171301045313513), (4596, 0.01170957207086377), (2470, 0.011706505966890893), (519, 0.011687419584558913), (2551, 0.011686335287276726), (1889, 0.011676877796350666), (3567, 0.011673008519122414), (978, 0.011657662742839484), (4739, 0.011642109328306678), (1941, 0.011589319269447777), (862, 0.011574171684287336), (4428, 0.011568962332492199), (2840, 0.011560297620786229), (1388, 0.011551601174920366), (2718, 0.011551404296746684), (416, 0.01154954980766519), (1465, 0.011518372111983994), (2854, 0.011511367571456585), (3096, 0.011506378194580459), (4549, 0.011498287593232362), (4195, 0.011494531165534838), (1005, 0.011481214863511172), (4292, 0.011479141099015404), (3805, 0.01146807122529302), (3566, 0.01144446735331709), (1935, 0.011440271985943837), (3238, 0.011433382979897861), (583, 0.011425804566420063), (2019, 0.011422632160362857), (1198, 0.011384970905118533), (1681, 0.011379497067713556), (3121, 0.011378253643582085), (2569, 0.01136487646686805), (1816, 0.011361218656635405), (1126, 0.01135726834941662), (1598, 0.011353665299475374), (2468, 0.01131362791165108), (1539, 0.011238430616135626), (4036, 0.011238020740633603), (1458, 0.011203302474490758), (905, 0.011201089888918346), (4659, 0.011185092842386508), (2587, 0.01118473545469121), (4436, 0.011176777014400174), (3657, 0.011170361820168203), (3286, 0.011166594717884932), (1957, 0.011161451308386902), (1471, 0.011138940015117844), (706, 0.01109407562892578), (3215, 0.011070152988607253), (2963, 0.011067005018570454), (720, 0.01106183738979086), (10, 0.011045776498377471), (4303, 0.011044514819417216), (2608, 0.011038990074100103), (1912, 0.011011673516103167), (3253, 0.011011271359833133), (1208, 0.01100212129160534), (1490, 0.010989215540597497), (2050, 0.010967001028129083), (3383, 0.010964107794888142), (1327, 0.01093709492673965), (2509, 0.01091782164154815), (1560, 0.010911503742298916), (2034, 0.01090546746780371), (3168, 0.01090332531883622), (3373, 0.01089836147591616), (185, 0.010873536669923), (2810, 0.010852100937571305), (929, 0.010835574548531077), (1805, 0.010833781519880112), (831, 0.01082604347451909), (4629, 0.010812706521821163), (882, 0.010799971979782538), (1855, 0.010757844674248717), (3507, 0.010744866809982748), (4379, 0.010739161117756017), (691, 0.010737725149597123), (3616, 0.01073140949087756), (4437, 0.010723515191492268), (2590, 0.01070678053945845), (4267, 0.010692475157153507), (1453, 0.010689621990688278), (2183, 0.010665552465853574), (3577, 0.010664911953442113), (4376, 0.010626742174161905), (2730, 0.010603069381067823), (920, 0.010558582871722146), (2788, 0.010552249767272913), (353, 0.010526999938452953), (1242, 0.010521696091019661), (2082, 0.010504602287690448), (1985, 0.010473570301664433), (813, 0.010458486062001934), (4503, 0.01045343688818278), (2880, 0.010436109572990168), (560, 0.010396380480436649), (4131, 0.010361990626404055), (3174, 0.010337361959135413), (1678, 0.01030581513173539), (2351, 0.010300603191639987), (3374, 0.010286480227869802), (1692, 0.010255427992223513), (4241, 0.0102509443192393), (2996, 0.010247604582455718), (1822, 0.010221527554328487), (3677, 0.010221408346631787), (58, 0.010215801600736955), (1601, 0.010209073649580177), (627, 0.0101931307069764), (3610, 0.010192360252831085), (2738, 0.010183984461612785), (4652, 0.010154910022331287), (2754, 0.01015160098614287), (1734, 0.010145922632398436), (2910, 0.010141336118175588), (1221, 0.01012915853579783), (1997, 0.010116961604610238), (3514, 0.010108671079183066), (3591, 0.010105989171276482), (1513, 0.010086755361227336), (1024, 0.010085103149122584), (82, 0.0100818441286266), (1035, 0.010069373619607205), (1949, 0.010038512348825718), (2252, 0.010032961744309754), (3239, 0.010020132585912608), (807, 0.010006860496537366), (4203, 0.0100031134121634), (1847, 0.009997323478032538), (223, 0.009981006792799937), (4431, 0.009958416620705152), (3866, 0.009947413152393515), (1397, 0.009946109744791473), (869, 0.009927874499704533), (3169, 0.00992657688652411), (508, 0.009922709862808791), (847, 0.009895986093704113), (3858, 0.009895934943049493), (854, 0.009891904544978309), (4418, 0.009886561014027939), (237, 0.009884296380317667), (1337, 0.009881508865477416), (3603, 0.0098677492721685), (2688, 0.009867508290707365), (4265, 0.009854803214835051), (2079, 0.009851349326049154), (1833, 0.009848612564999366), (644, 0.0098463385854494), (1302, 0.009820831888206524), (2006, 0.009808718609519646), (2094, 0.009808412418784064), (1599, 0.00980377988508822), (2873, 0.009801448759632313), (2339, 0.00980141677110528), (878, 0.009789908006354618), (1054, 0.009787345357483596), (3676, 0.009785140497895951), (3039, 0.00976533757627159), (4624, 0.009764506107437173), (1928, 0.009756232535637718), (2324, 0.00971247525430085), (951, 0.009709445506242526), (3832, 0.009702406849278688), (3822, 0.009689662912868605), (4108, 0.009656274672574124), (2436, 0.009645156554067518), (2777, 0.009590702347386092), (3681, 0.009579980180381678), (4064, 0.009573288195660407), (2619, 0.009570942213450817), (685, 0.009565626176950462), (531, 0.00954225832196512), (669, 0.009536998073306904), (4649, 0.009518836675220077), (2017, 0.009503168019184603), (3306, 0.00950247137890744), (1883, 0.009482363903511799), (1733, 0.009462142439932635), (2798, 0.009455853623693587), (1583, 0.00945445823047837), (217, 0.009437828763819288), (4226, 0.009434353843844173), (3730, 0.009433643931719353), (148, 0.00940589718249177), (2458, 0.009404428381984723), (3531, 0.009391762344179438), (1191, 0.009348533429402383), (3336, 0.009329344385285702), (1000, 0.009322722132411452), (914, 0.009320513640413227), (1907, 0.009289035314504451), (1545, 0.009285322087966579), (1390, 0.009284407213284648), (4590, 0.009281289581096403), (1520, 0.00926384475668926), (2364, 0.009247448518915999), (4519, 0.009227233537281445), (1282, 0.009225859679525984), (2712, 0.00922042888720945), (2787, 0.009207351884908675), (3218, 0.00920016558295113), (1666, 0.009182755699943495), (4037, 0.009172841646653222), (2498, 0.009172276283956797), (495, 0.009167480095704773), (530, 0.009166339500393531), (2147, 0.009159882514343994), (2453, 0.009139079520243), (2102, 0.009103318405610603), (1578, 0.009089037297474834), (3277, 0.009086643042647714), (4690, 0.00908068932380773), (1336, 0.009061203637091616), (1721, 0.009060795036692364), (2633, 0.009059801490915901), (4455, 0.009058841860089487), (1718, 0.009045555423451902), (2052, 0.009030293308347268), (3150, 0.009029021545365123), (1660, 0.009016608670683386), (1006, 0.009015859142329097), (2893, 0.009012791333585011), (3018, 0.009012252173276529), (3599, 0.009010495115797455), (1201, 0.009000911298631306), (890, 0.009000237815042576), (532, 0.008991421129441006), (1851, 0.008984273878210644), (4325, 0.008981261789147429), (3696, 0.008980091611079868), (1702, 0.008969393373372679), (4459, 0.008958314514318326), (2511, 0.008944949546135963), (1828, 0.008943597703651177), (2399, 0.00893811854365434), (3930, 0.008934171784340954), (2816, 0.008929167965981893), (3648, 0.008929003941179748), (1033, 0.008925608126410483), (2315, 0.008924986895151619), (3549, 0.008924845367227974), (2222, 0.00891369261259992), (2274, 0.008909480037413927), (3970, 0.008906041254708376), (798, 0.008886264302041817), (3122, 0.008883184281999081), (2431, 0.00888172928857987), (2304, 0.008879992759045214), (3776, 0.008877025556961328), (2852, 0.008875384093140284), (3722, 0.008872782994786456), (4186, 0.008863725155405969), (779, 0.008860119204500076), (1726, 0.008855520089457076), (221, 0.00885352232460722), (2765, 0.008851244400521907), (1525, 0.008848064371148063), (2020, 0.008841307367868485), (4374, 0.008839128003180539), (1630, 0.008835506589139982), (3950, 0.008834704692423753), (962, 0.00882960762707348), (110, 0.00881978035588557), (3377, 0.008808700007788167), (2033, 0.008807700259968545), (3283, 0.00879001323034901), (3267, 0.008786062873316774), (3967, 0.008785791377800424), (1971, 0.00878538351723843), (3303, 0.008781933893647596), (2424, 0.008776652497245425), (3668, 0.008773181148392081), (4026, 0.008756456277193533), (3823, 0.008755210994688728), (632, 0.008751344226790785), (3650, 0.008744168142070841), (3386, 0.008744018981141875), (1041, 0.008740760403155844), (3739, 0.00872459907611769), (2193, 0.008708226318400885), (736, 0.008687588230635125), (529, 0.008683062591241103), (504, 0.008681877588009444), (1803, 0.00867955781322945), (3223, 0.008671852913359515), (3185, 0.008662800668841824), (1804, 0.008655917503554773), (1870, 0.008654419977050513), (938, 0.008650182644646426), (3926, 0.008643591543485683), (1170, 0.008639420683775961), (1563, 0.008634559931118821), (4516, 0.00863201412891664), (2046, 0.008618967011358402), (3665, 0.00860918778478665), (4592, 0.008603001807005945), (2969, 0.008596640733741421), (442, 0.008594405751719733), (4526, 0.008585960496709384), (525, 0.008583522415393832), (3711, 0.008579450056914252), (346, 0.00857505592949792), (4394, 0.008563386714189186), (2776, 0.008559792127291159), (88, 0.008548998179665205), (1359, 0.008540146438875013), (1270, 0.008536718284410463), (1411, 0.008527616750377387), (3703, 0.008521469884328402), (1447, 0.008511862747523063), (124, 0.008502732919730074), (2128, 0.008486121064630914), (1369, 0.008483472188372533), (2151, 0.008473673658187587), (2820, 0.008469351575159673), (3260, 0.008466926555997137), (4160, 0.008439973087970301), (3934, 0.008439693628988588), (1348, 0.008434319451468646), (3066, 0.008431393031289742), (2956, 0.00842563708140061), (2971, 0.008425228412486935), (2931, 0.00842329097129232), (2338, 0.008413053584523876), (3825, 0.008407414170186592), (4290, 0.008404395069358655), (2566, 0.008402359968085494), (4395, 0.00839538020162121), (3027, 0.00837932320405087), (2830, 0.00837787052903047), (1377, 0.008361155582234844), (1817, 0.00835663333586942), (2003, 0.008337141874784525), (4106, 0.008336744755961408), (3149, 0.00832393741879418), (752, 0.00831687285202848), (1597, 0.00831292518259629), (3387, 0.008312723512374113), (3562, 0.008312293967727159), (521, 0.008308703834873086), (4252, 0.008302937807176794), (585, 0.008301695593867035), (1446, 0.008269855049835661), (2829, 0.008267965551729286), (4110, 0.008264359810190424), (2143, 0.008250825050422555), (1526, 0.008246627652793189), (883, 0.008243551176592905), (2897, 0.00824284493549293), (2148, 0.00823768191671703), (1877, 0.008234845191896469), (3695, 0.008233777384577708), (2047, 0.00822851783100665), (1553, 0.008218224831487375), (2106, 0.008215988675167298), (2726, 0.00820658122057322), (4628, 0.008203195719100284), (2631, 0.008195227638151038), (4679, 0.008186555925699569), (2975, 0.008180785955125615), (3712, 0.00817447931585789), (1136, 0.008163521181569362), (2234, 0.00816274107890951), (4705, 0.008162574934604948), (3646, 0.00815997127315837), (3016, 0.008158982795287621), (3403, 0.008158188938928822), (2303, 0.008138989576579313), (2171, 0.008132271554449535), (2311, 0.008117837002434899), (2768, 0.00811548133123116), (1824, 0.008111799900080327), (1914, 0.008110416485941973), (3320, 0.008105213891995939), (507, 0.008103070120154472), (3182, 0.008096105208238516), (340, 0.008088035694611478), (3071, 0.00808306799438694), (1228, 0.008078009418274426), (3211, 0.008062342422379264), (3909, 0.00805147080950051), (4478, 0.008048077360988252), (2227, 0.00804603256694211), (1778, 0.008038036311443177), (4149, 0.00803505531361203), (874, 0.008030278189615036), (3083, 0.008022196155542838), (2335, 0.008017863391678088), (916, 0.00799627829166595), (2025, 0.007987602666187303), (1642, 0.007986930300627283), (3321, 0.007984694896307227), (4202, 0.007982993269233662), (251, 0.007981169374931167), (2497, 0.007970178998432212), (1488, 0.0079676229956263), (665, 0.007965381340475473), (2491, 0.007956471526009829), (2981, 0.007954569602256536), (177, 0.007938150666972973), (788, 0.007923500357035084), (3344, 0.007908170164598759), (1794, 0.007896472368781696), (331, 0.007893547179647879), (957, 0.007879962597375596), (2954, 0.00787967133990519), (1634, 0.007877073217645919), (4354, 0.007874777083362237), (3565, 0.007865560674445249), (3563, 0.007865212850117476), (3871, 0.00785687413736781), (3764, 0.007853413504745874), (3295, 0.007853365625201444), (1475, 0.007847491370296), (1508, 0.007826933790216069), (1626, 0.007819420684328612), (1719, 0.007788281819487736), (2111, 0.0077850418739160016), (2262, 0.007774604340704205), (2663, 0.007769945256716046), (2985, 0.007767088027478511), (2332, 0.0077573736900495936), (2514, 0.007753102188473593), (3585, 0.007746180634523244), (3108, 0.007745374653977124), (885, 0.007740459681226976), (664, 0.007735605556441332), (871, 0.007734571806203674), (2275, 0.0077313848689598485), (4666, 0.007729195719300286), (2172, 0.007708921405866665), (4533, 0.007704188713001094), (4663, 0.007702776353893415), (947, 0.007701218729423037), (1305, 0.007698182169895066), (4719, 0.007696408273551257), (441, 0.0076949506612498855), (1025, 0.0076902207785621395), (2318, 0.007688495230464394), (2156, 0.007684329541411907), (1994, 0.007678375555655204), (4288, 0.00765864723597436), (3352, 0.0076429018395898045), (4221, 0.0076331015142155675), (1464, 0.0076276976353472645), (2887, 0.007627525943018048), (820, 0.007622969267366734), (2130, 0.007609348102434482), (909, 0.007608294353012712), (1320, 0.007601131535569105), (1175, 0.007596953557453814), (1706, 0.007596260670784407), (3309, 0.0075892231971967684), (3411, 0.007571285213840235), (4156, 0.007564627603060207), (2805, 0.007546307136785063), (1482, 0.0075431030518815015), (2823, 0.007524670056615492), (4473, 0.007515926780043421), (789, 0.007514726913709551), (1759, 0.007509403169853558), (241, 0.007509207275994765), (4016, 0.007506975039045903), (2202, 0.0074873410240937095), (4674, 0.0074789552407997254), (3748, 0.007466621636992981), (3058, 0.007460260584932564), (1868, 0.007443316697353339), (3319, 0.007430849364470717), (3393, 0.007422031072327023), (86, 0.0074216302594528535), (1272, 0.007417031651212913), (309, 0.007406355497127092), (3147, 0.00739882974224753), (60, 0.007382101360000946), (3137, 0.007376489506634104), (1607, 0.007330724121940423), (3855, 0.0073224293163164506), (2855, 0.00731819883500164), (2204, 0.007315472975980613), (3365, 0.007309460852918726), (970, 0.007291154230123513), (175, 0.007286977343334525), (3674, 0.007284572671830101), (1312, 0.0072826048677813), (2076, 0.0072783024687012535), (3481, 0.007262902856795533), (195, 0.007253562411853602), (1287, 0.00725261144486766), (2603, 0.007247919531972015), (3472, 0.007232889684057133), (4606, 0.007227743260913479), (3098, 0.007219983535279201), (2795, 0.007209887306287017), (1981, 0.007206774722773269), (3430, 0.007183107749107534), (300, 0.007171658891605918), (2473, 0.007169145945804839), (25, 0.00713849966040765), (1715, 0.007118044566476121), (3991, 0.007099043927254373), (4122, 0.007090327709714624), (4569, 0.007066402275552497), (650, 0.007048051274487279), (670, 0.007035853989688314), (3588, 0.007014485229091919), (156, 0.007010416928901094), (3426, 0.007002570830707076), (4443, 0.006993809510161155), (1695, 0.006984897622409941), (4723, 0.006980366314693221), (2188, 0.0069675315844775175), (1514, 0.00696664377444976), (1648, 0.00695394993643128), (2459, 0.006948942801446368), (3410, 0.0069444123204141965), (2415, 0.006927628302596263), (457, 0.006908999165259473), (2778, 0.006903333533662152), (510, 0.006898071689862364), (2747, 0.006886556741311124), (3538, 0.006881056118477474), (2523, 0.006868266521320805), (2734, 0.0068589383781047526), (2377, 0.0068504317896740455), (4405, 0.006841409103415938), (3726, 0.006789914702974938), (1153, 0.006789094795144071), (936, 0.006773189895223693), (2772, 0.00676289569059459), (1016, 0.006761693400586959), (1219, 0.00675313201099911), (3275, 0.006672812558882865), (1540, 0.006669236805565474), (2737, 0.0066441388639911225), (4635, 0.006622436367901828), (3626, 0.0066207913807676926), (1815, 0.00660882136169306), (3947, 0.006597500013451877), (3708, 0.006591783794348302), (4747, 0.006570466709863), (3394, 0.006564902922331065), (2597, 0.006561998257213015), (3165, 0.0065573718152613395), (125, 0.00653587623835156), (113, 0.0065355730260147245), (242, 0.006517511618578994), (4498, 0.0065132825238179365), (4741, 0.006505705431001088), (2476, 0.006491706825296033), (2864, 0.006489552645507764), (2678, 0.006471795813942762), (3552, 0.006463011357058458), (286, 0.006459661871453346), (3475, 0.006459556460868776), (2576, 0.006458739798912686), (3680, 0.006455910156386647), (1277, 0.0064533518559742615), (2352, 0.006433376714910344), (533, 0.006421335321361394), (682, 0.006420896460128906), (2182, 0.006413634583510333), (4185, 0.00640217781197996), (3593, 0.006373106039395188), (458, 0.0063702794015902614), (729, 0.006366322789231528), (4144, 0.00632942232242266), (688, 0.006324403552643938), (4571, 0.006314491179156912), (2040, 0.006307242062705194), (595, 0.0062788513022210704), (3604, 0.006270649569866919), (4116, 0.006224247956026414), (3263, 0.006219600758657588), (3064, 0.006212218749078651), (513, 0.006206161467801499), (2673, 0.006193619052850474), (514, 0.0061913068007162534), (3642, 0.006190919953586605), (3771, 0.006183700571302971), (1015, 0.006171409854886009), (728, 0.006157670646517671), (4656, 0.0061563038999440465), (210, 0.006153007592202522), (2703, 0.0061515610904906105), (4726, 0.006139507967968768), (3112, 0.0061390887156766655), (1770, 0.006138835082766781), (1708, 0.006131888561490085), (2243, 0.00612374693929519), (3451, 0.006119248284928239), (1141, 0.00610118740035729), (4005, 0.006100378038700656), (3512, 0.006093507429111413), (4223, 0.0060911056197529975), (1659, 0.006085269014144539), (2044, 0.0060642681210880955), (2361, 0.006055675213495595), (3145, 0.006048858639209834), (4384, 0.006046933495282228), (1989, 0.006046149227581573), (1853, 0.0060430363178461165), (1484, 0.006039114675252678), (4045, 0.006031471918036322), (4033, 0.006022962071674254), (4392, 0.006011702243000722), (2959, 0.006010137341060891), (4410, 0.006008170141938846), (1393, 0.0059946421776982395), (4555, 0.005989123559799677), (143, 0.005988987789183079), (2088, 0.005981492325465147), (845, 0.0059769305535447344), (1736, 0.005976655516851877), (3862, 0.005962587650854298), (3241, 0.005956097790992485), (2085, 0.005948201813218838), (386, 0.005944808977454621), (4390, 0.0059326621366344555), (4716, 0.005917033201633903), (2238, 0.005912441632702642), (2780, 0.005911350564264459), (3088, 0.005909154093157478), (4249, 0.005890630571831489), (4745, 0.005889567139342853), (2276, 0.005864342311700255), (809, 0.005861174367373666), (4098, 0.005852110950689505), (2947, 0.005851566642136305), (4088, 0.005850704495758531), (3445, 0.0058468807241241535), (3522, 0.005843053717697334), (1174, 0.005836445301046824), (4684, 0.005826090218493092), (3707, 0.005810596305802565), (764, 0.0057995626733078), (4612, 0.005796161324031939), (2118, 0.0057913286034892665), (4255, 0.005787470570826757), (4242, 0.005784154734018371), (2529, 0.005768438478661934), (1335, 0.005765976003150659), (4271, 0.005761118765498973), (3210, 0.00575873476820263), (848, 0.005757669584015926), (3227, 0.005756441642531378), (2684, 0.005754752762164835), (1876, 0.00574192650724336), (1669, 0.005728716812753532), (2312, 0.005721111158200893), (1419, 0.005715932194024644), (4310, 0.005714913273096618), (986, 0.005704771358667116), (3416, 0.005703786493324129), (2568, 0.0056943270331261), (1581, 0.005692516226613365), (2943, 0.005688610627407626), (4148, 0.005686789573670179), (3807, 0.005679194922176196), (4248, 0.005675320548025187), (1102, 0.005666196923822445), (4708, 0.0056655225074868296), (1483, 0.005664847454740185), (3441, 0.005662237961737464), (3340, 0.00565932406194619), (1252, 0.005656394567277731), (1504, 0.005654450149409546), (1226, 0.005651649587543368), (3228, 0.005650282956200799), (4062, 0.005639262223054732), (233, 0.0056347111427089615), (2137, 0.0056321939569277295), (2891, 0.005628865763170359), (1127, 0.0056191895028798325), (3814, 0.005615484554000182), (3602, 0.005613562194948659), (1937, 0.005607837912892969), (1527, 0.0055873652897478155), (244, 0.005585060680156886), (2722, 0.005578563410839298), (3706, 0.005571705952043601), (3009, 0.005564338205273676), (230, 0.0055598304652168615), (4524, 0.005556042042967752), (1096, 0.005554199568838392), (4534, 0.005552654695423092), (3040, 0.005549513403816644), (1017, 0.005549160745743421), (825, 0.005537093925205618), (1343, 0.00553477337909569), (4573, 0.005534521417157424), (4673, 0.005529558522743109), (3166, 0.005512159680099384), (651, 0.0055118864254967365), (3660, 0.005505511736084748), (1076, 0.005503268710972569), (4543, 0.005499046641029728), (3266, 0.005497082632331701), (3796, 0.005496092944828488), (3126, 0.005467447708116397), (1478, 0.005467041856463219), (2024, 0.005467035002941022), (4449, 0.005462981542334089), (3949, 0.005462514538269186), (2206, 0.005457021467573732), (2537, 0.0054513059921628484), (2540, 0.0054412417993903615), (3951, 0.005432636942421896), (735, 0.0054262580328377115), (144, 0.0054254716822403634), (827, 0.005416092257584443), (2404, 0.005404957317089496), (641, 0.005390571979174779), (4281, 0.005381148063790598), (4700, 0.005380630923037937), (3230, 0.005375187792104296), (448, 0.005374062841672212), (2184, 0.005362963242549943), (4115, 0.005361862941441754), (1749, 0.005354673288017246), (2885, 0.005352147066092661), (2560, 0.0053436537312253635), (2634, 0.0053345143894436104), (2731, 0.005334094911849571), (2785, 0.005330754694624686), (3651, 0.005326169851332159), (3204, 0.0053194860605800375), (2958, 0.005318764511460251), (4591, 0.005309800250101645), (3479, 0.005306938518579522), (868, 0.005300704472654399), (2429, 0.0052922106693458594), (2638, 0.00529005283399706), (3960, 0.005278348961252446), (1887, 0.005276246249749091), (2674, 0.005255397129002609), (4198, 0.005247138002766316), (3800, 0.005242754972919569), (2483, 0.005240652618385194), (4368, 0.005239985624744997), (3738, 0.00522196399057525), (1065, 0.005218118320436171), (2832, 0.005215044426439317), (250, 0.00520991876830485), (1796, 0.005209050452754769), (3130, 0.0052083341704372696), (701, 0.005197277443858208), (2536, 0.005190999807540199), (4120, 0.005189783515944942), (4044, 0.005180126921436427), (3860, 0.005176307527395373), (2199, 0.005172798593673407), (4537, 0.005172764393386366), (3857, 0.00517129092304969), (3892, 0.005165827173577128), (4531, 0.005159842441155781), (3282, 0.0051534718959852085), (2228, 0.005143157817681275), (2112, 0.005138819154888351), (334, 0.005137208379924017), (2928, 0.005131389193678458), (4166, 0.005130251232208483), (4040, 0.005127779997929238), (3217, 0.005120877992844032), (4084, 0.005109778262170784), (2941, 0.005106788664486414), (3078, 0.0051063648165748), (3831, 0.005105633901461957), (2282, 0.0051055890369122205), (391, 0.005089426571967315), (1043, 0.005087941850002715), (1977, 0.005083132859033299), (2838, 0.005078451703544021), (4732, 0.005078226589346975), (675, 0.005077431665601911), (2037, 0.005073988927081294), (342, 0.005071958176225345), (4013, 0.005069031671557032), (4608, 0.005066305817540542), (4661, 0.005060657233325805), (2875, 0.0050506229245086305), (4102, 0.005045539326744443), (2455, 0.005043823783768464), (192, 0.00503568362615801), (3740, 0.005029135952822864), (92, 0.0050242559648754695), (2983, 0.005015261786208595), (1952, 0.005013612033024966), (3087, 0.005013389379870525), (2423, 0.005007997124979392), (3988, 0.005001861262140043), (4432, 0.004997048525237211), (4553, 0.004992058845342721), (2543, 0.00498621930793261), (2964, 0.0049752860385554425), (12, 0.0049719529593271975), (3457, 0.004963653853129888), (3525, 0.004963379452094817), (1619, 0.00496173365117529), (4429, 0.004957003688979959), (4114, 0.004954881498368074), (792, 0.004952614241262111), (680, 0.004951474794347582), (2939, 0.004949289329201377), (4721, 0.004945792531256984), (4058, 0.00494278303905121), (2719, 0.004940981315348022), (3592, 0.004940591371203854), (748, 0.004940489197474575), (2564, 0.004936811781496906), (4562, 0.004936639980710314), (2418, 0.004935227987952666), (3618, 0.004935197383539744), (2515, 0.004933558442291767), (1426, 0.004932768608313258), (3537, 0.004928918500148544), (3777, 0.004919275804113352), (3103, 0.004919209008286881), (3264, 0.0049161947748126685), (483, 0.004915861566117047), (3339, 0.004913174505148767), (1859, 0.004909441661867179), (4695, 0.004906789962593587), (3922, 0.004905577112227122), (2857, 0.0049052323658890905), (1104, 0.004900557083306363), (3654, 0.00489660696766993), (3958, 0.004895907007958982), (1643, 0.004888033102746934), (4363, 0.004876381826481293), (3074, 0.004875447357798344), (4621, 0.0048652733850501305), (4136, 0.004850213015144729), (4095, 0.004845093359505753), (4147, 0.0048386412905595515), (3544, 0.004837157540376452), (3778, 0.004836181204600189), (551, 0.0048353586162364235), (4262, 0.004833731103888725), (3536, 0.004830929092257486), (216, 0.00482694503729305), (2072, 0.00482449318454224), (3020, 0.004824178883574911), (4720, 0.00482319790598815), (3920, 0.004822601383828526), (3959, 0.004822288806924696), (3689, 0.004815819563196026), (1636, 0.004797114231790053), (137, 0.00479350610606466), (3257, 0.004788255928495614), (1768, 0.004786924094245754), (3203, 0.004785816817709762), (3213, 0.004785678951991803), (3446, 0.004781579691215168), (2727, 0.0047795807235939255), (3054, 0.004774929465571085), (3413, 0.0047730332780612575), (4408, 0.004771050186681858), (4733, 0.0047636254932547075), (1077, 0.004756533325507004), (3758, 0.004752747630548803), (44, 0.004752440173635867), (2434, 0.004750628770954386), (3810, 0.004744291711423138), (4483, 0.004740381446227978), (850, 0.004739878202131492), (4190, 0.004739344822258041), (3996, 0.004738059586496853), (1790, 0.0047371624317549795), (2368, 0.004736277881896832), (832, 0.004734047004586997), (2333, 0.00473050270688398), (4204, 0.004729717320358365), (3686, 0.004724138837845754), (3024, 0.004722765866411235), (3017, 0.004721377347199953), (131, 0.004717082541666772), (1049, 0.00471203834674837), (2009, 0.004706542326301101), (864, 0.004704638611799114), (3308, 0.004704543468265451), (2986, 0.004700410723975792), (3551, 0.004699126926615186), (1574, 0.004698425570859887), (2109, 0.0046932810380912945), (4023, 0.004692868525309433), (4717, 0.004692220649414021), (897, 0.004691313460375215), (343, 0.004691212367383651), (2769, 0.004690410333018125), (993, 0.004690146843443565), (4711, 0.004690115194781113), (431, 0.004686423911466266), (2169, 0.004686000490277325), (955, 0.004685424298773313), (4686, 0.004684289635359627), (4755, 0.0046841510823833745), (582, 0.0046814834921161935), (4604, 0.004681053349958321), (2570, 0.004677062958634556), (3621, 0.004676026645015335), (3491, 0.004674183029602612), (1223, 0.004673912833370098), (2697, 0.004673833600655678), (3324, 0.004670160475277536), (4633, 0.004670113467936244), (1187, 0.004668859180381374), (4330, 0.004658500946803845), (3612, 0.004657684709636327), (272, 0.00465451267277022), (2846, 0.004649781118454802), (3931, 0.004648578487619296), (2246, 0.004647155856057464), (280, 0.004643731094854247), (2195, 0.004643628051065763), (2900, 0.004641098735202992), (3330, 0.004640048522697297), (2158, 0.004633286508937857), (3256, 0.004632279380149371), (4511, 0.004630814524887821), (689, 0.00463036798507452), (435, 0.004629373786074714), (3299, 0.004626482062653131), (2696, 0.004619411330301091), (2503, 0.004616903875338432), (2480, 0.004615887784170734), (1947, 0.004613075579421529), (894, 0.004612167358664245), (3435, 0.004610651098202332), (1059, 0.004608762923380424), (2924, 0.004608603129217201), (3754, 0.004608483102530012), (3190, 0.0046047004223840155), (3237, 0.004598672294427788), (1852, 0.004591329913941534), (2416, 0.004588746745864989), (2884, 0.004587309565593764), (3337, 0.004585173879811944), (2403, 0.004580049766922179), (679, 0.004579736456199973), (4650, 0.004579582537418501), (2463, 0.004576556588671355), (2872, 0.004574244026730891), (4685, 0.004571057696600893), (925, 0.004569227295863216), (4284, 0.004568308942648341), (3046, 0.004566497045817017), (3557, 0.004565703574772219), (4507, 0.004564378454688541), (2478, 0.00456182829219371), (2187, 0.004560715936399545), (760, 0.0045586880531506575), (3952, 0.004557114516762385), (4687, 0.004552529626945227), (1507, 0.004550625737332252), (3851, 0.004549797539130893), (4496, 0.004548455095346462), (2796, 0.004547665202776977), (985, 0.004545755937473796), (2029, 0.004545534119637245), (1617, 0.0045453794747475984), (618, 0.0045453232316575755), (2305, 0.0045449201124593205), (2702, 0.004541794622756639), (3412, 0.004540834751872159), (4387, 0.004539852464975582), (4295, 0.004537050800227365), (1424, 0.004536813925026373), (4117, 0.004536201697013125), (3791, 0.004534343591430912), (3772, 0.004522195292883162), (2223, 0.0045182644247962435), (2302, 0.004513561278471898), (2808, 0.004511485439814959), (3649, 0.004508081283152123), (4746, 0.004507174951030105), (4317, 0.004506143364299284), (998, 0.004504850403931136), (2186, 0.0045042131692739585), (2138, 0.00450389606040101), (2411, 0.004499705234711411), (1347, 0.004497135658709189), (2245, 0.004496986940675333), (2612, 0.004496618627755386), (3011, 0.004495947633808757), (4452, 0.00449470093779119), (2914, 0.0044941264649248185), (1969, 0.0044931856414641026), (3820, 0.004492489159311337), (3992, 0.004491915461519082), (2027, 0.004491124538219541), (839, 0.004489680651030082), (1463, 0.004489029847404857), (1493, 0.004488712975988595), (1421, 0.004488450950778558), (486, 0.00447116491554041), (138, 0.004470477422587785), (782, 0.004467720950829995), (4438, 0.004463710484139499), (3962, 0.0044630068449645795), (3504, 0.004459529747302667), (1311, 0.004458045633964164), (1417, 0.004456517019724132), (4279, 0.0044523463699507985), (4155, 0.004447984946172082), (2799, 0.004447669915116725), (3146, 0.004444913248884158), (1218, 0.0044416394235799505), (356, 0.004441062805101156), (3964, 0.004438091639960968), (3151, 0.004435079198326945), (4580, 0.004434378834448775), (29, 0.004433756738313861), (3784, 0.004431645791285068), (3946, 0.004427370784047128), (2384, 0.004425791132692394), (1132, 0.00442480799554389), (2209, 0.0044240281340766265), (4441, 0.004422795221500002), (2892, 0.0044195805345537045), (767, 0.004416608126356504), (4706, 0.004414872955866716), (3003, 0.004414407616066799), (2859, 0.004414130075767473), (1923, 0.004413302796098294), (1988, 0.00441210586538809), (4463, 0.004410910570002721), (2108, 0.004410638035925798), (1710, 0.004410347035888211), (1728, 0.004410223551750713), (3891, 0.004409105374920867), (4124, 0.0044055216632072035), (4324, 0.004405306618634353), (2535, 0.004404375545395575), (408, 0.004401940860615373), (1404, 0.004401069222825509), (3572, 0.004399569467552599), (2592, 0.00439927489305329), (3819, 0.004396050831394349), (388, 0.004395264350956345), (3652, 0.004390849129598287), (4003, 0.004389656389096672), (1766, 0.004385133346234702), (2023, 0.004384441675008141), (2525, 0.004384203345343163), (2049, 0.004380918844309767), (4263, 0.004376804058395486), (742, 0.004376538810757884), (271, 0.004375359132182461), (3407, 0.004370940661292224), (1786, 0.004370532803683016), (2930, 0.004369134595070132), (1089, 0.004368942003945433), (3581, 0.004368381628149723), (3057, 0.004367715854691931), (3207, 0.004366897420450825), (3529, 0.004366622405138077), (2375, 0.004365629371837338), (141, 0.004364783854281225), (1793, 0.004363818136737703), (3837, 0.004361946760915659), (2452, 0.00435956619612097), (2410, 0.004359399947353584), (4446, 0.004359216811656021), (2938, 0.004358646906155063), (1479, 0.004358436333489441), (2464, 0.004358220223713522), (4308, 0.004357856985644823), (4059, 0.004354046402498586), (1620, 0.004353536746786307), (2552, 0.004352974850389096), (4097, 0.004351743896873753), (3183, 0.004351520264896711), (3399, 0.004349842971618345), (2101, 0.0043486075051852695), (4634, 0.004344473007211175), (318, 0.004342720079224643), (4140, 0.00434186266241532), (3280, 0.004334716653610021), (1243, 0.004334340812709849), (1555, 0.004334306433408398), (1905, 0.0043323809553255195), (678, 0.004332130258157629), (4522, 0.004330569571625756), (4258, 0.004329756597190804), (1430, 0.0043292481979788), (2604, 0.00432458833929178), (1456, 0.004321556760245554), (2748, 0.004321196264941726), (3258, 0.004321106035169571), (2978, 0.004320922094158945), (549, 0.004319766771311848), (2882, 0.004318199798037568), (2507, 0.004316756495091754), (4207, 0.004312650510520227), (240, 0.0043095144385140415), (2258, 0.004309069173783328), (4413, 0.004308770063417466), (2317, 0.0043079654081394315), (3854, 0.004305535805422525), (805, 0.004305436045594576), (4402, 0.004305169855919627), (335, 0.0043043034476549094), (3645, 0.004303219282190854), (4734, 0.004294474084249776), (899, 0.004291882078005468), (2482, 0.0042915901793401405), (324, 0.004291270369634827), (4342, 0.004290384242974885), (2116, 0.004288875575280617), (146, 0.004286438481117469), (3510, 0.004284020187857814), (1441, 0.004283848174312497), (3226, 0.004282180836970862), (1103, 0.00428211168571842), (4348, 0.004281675756395929), (1518, 0.004279809969450269), (296, 0.004278870590998604), (4132, 0.004277372561116974), (829, 0.004277047709895179), (1875, 0.0042755113777178), (332, 0.00427480596226648), (3584, 0.004267734753867613), (2661, 0.004265905766926446), (3496, 0.004265516128043728), (1637, 0.0042625634770685865), (4371, 0.004261339349843658), (1782, 0.004258342284979152), (1276, 0.004258324545593206), (3175, 0.004258222127211678), (2588, 0.004256443649930743), (2786, 0.004255517390147772), (873, 0.004255331279623441), (4111, 0.00425405138615843), (1683, 0.004252348715568748), (4173, 0.004251680282032375), (1409, 0.004251282932214793), (1614, 0.004251118141974895), (2260, 0.004250966448373063), (3728, 0.004249356226859075), (1568, 0.004248787404242728), (4689, 0.004248430016746662), (2391, 0.004244253025952025), (4370, 0.004244081457690847), (291, 0.004243894436862635), (1990, 0.004241794285367227), (1609, 0.004240575925059335), (3601, 0.004238016028423126), (1360, 0.004237430402132982), (2970, 0.004235662658560126), (3109, 0.0042321985573460985), (4315, 0.0042318191521595345), (536, 0.0042290564540988645), (3236, 0.004226455193773053), (4560, 0.004225997209432225), (337, 0.004225787467906394), (1596, 0.004221159262464523), (4256, 0.004216968167760909), (3442, 0.004215106068614685), (4489, 0.00421460757016867), (2516, 0.004210511460790109), (1234, 0.004208006266157369), (205, 0.004207850395962075), (3905, 0.004203433815539562), (1220, 0.004202260466110823), (4260, 0.004200089446796402), (4052, 0.004199852029748684), (4027, 0.0041961307485740024), (3037, 0.004194589223045171), (3422, 0.004191481794836208), (4420, 0.00419020174246627), (3986, 0.00418918802248403), (2394, 0.004187227114445117), (2385, 0.004185431355293592), (3984, 0.004179160151935769), (667, 0.004177896493330009), (1902, 0.004176897380495971), (474, 0.004175490057839048), (3841, 0.004175341009350323), (3189, 0.00417503113835628), (1142, 0.004163058466943075), (3493, 0.004159230891426087), (2002, 0.004159143087641243), (3415, 0.0041588721935856745), (3038, 0.004156910617117271), (2380, 0.004156578587212372), (2926, 0.004155880479249904), (3061, 0.004154790665614868), (1762, 0.004153543356047488), (4421, 0.004148201170947684), (1224, 0.004148146941976443), (2042, 0.004146644003013338), (4433, 0.004145928312040318), (2561, 0.0041457958742680745), (3845, 0.00414488823538829), (2601, 0.004144287867655405), (3162, 0.004143736735481702), (4057, 0.004138414829544536), (3224, 0.00413723688908612), (884, 0.004134388472513082), (3790, 0.00413026823392686), (4125, 0.004127297579227072), (3229, 0.0041271013564100015), (2325, 0.004125334993676397), (2194, 0.004121451085315247), (784, 0.00412033368876283), (2744, 0.004118441387509354), (33, 0.004114632120510188), (3517, 0.004114524058695913), (1542, 0.00411429417480425), (2794, 0.004113995398332314), (1765, 0.0041099779054165385), (4648, 0.004109708299539675), (4422, 0.0041065360343465855), (3428, 0.004105453759166334), (4287, 0.004105451779093973), (3198, 0.0041051119034587), (671, 0.004103305088229906), (2456, 0.004101439288872812), (2906, 0.0040990088147576645), (2519, 0.004098977348485474), (2648, 0.004097577621618648), (730, 0.004091734193199642), (3290, 0.004089488002676117), (1186, 0.004088167132891179), (4319, 0.004084439881053762), (1557, 0.004083339436005749), (1777, 0.004082524581596328), (2856, 0.004081618434750154), (4329, 0.004080271132876558), (1917, 0.004079141564386474), (245, 0.004076104811963014), (2307, 0.00407607262619182), (3289, 0.004072477443745321), (846, 0.004069018290323674), (3683, 0.004067675169431476), (3209, 0.004064111808784679), (2200, 0.004060840021134336), (3912, 0.004059835406488704), (134, 0.004059422112280935), (933, 0.004058369406908948), (3852, 0.004056804135683423), (969, 0.0040560088321446915), (924, 0.004055510731816106), (2290, 0.004055128413771423), (3655, 0.004051907950769565), (3606, 0.004051715664107208), (4197, 0.0040510907117724), (1166, 0.004050704162052783), (3812, 0.004044646678251577), (2397, 0.004041498016062249), (2746, 0.004040452044123425), (3060, 0.0040393645816227085), (2440, 0.004035677765179534), (2896, 0.004035394217131778), (4702, 0.004035206461213419), (4049, 0.004032998240619057), (2685, 0.004032889651741652), (1204, 0.004031833461894499), (2041, 0.004030085498633838), (1559, 0.0040294980549235), (2942, 0.0040288579386351915), (579, 0.0040282623669022815), (2586, 0.004026275280513264), (1476, 0.004026014247447536), (4214, 0.004025138786126359), (1473, 0.004025019299335708), (3462, 0.004023163432307956), (1879, 0.004020230126205267), (1956, 0.004019461668679669), (1769, 0.004015695470641299), (3245, 0.004015023795647543), (2396, 0.004009936940730253), (2761, 0.004006596525016342), (1741, 0.004005972149557043), (758, 0.004004645763786946), (1232, 0.004004474464081854), (398, 0.0040014533498770625), (312, 0.004001316515622882), (3155, 0.0040010036741800255), (3034, 0.003999678449345241), (2449, 0.003999555830954237), (3494, 0.003999326181477293), (4158, 0.003997696495471781), (2284, 0.003995260924420262), (2, 0.003994984441792715), (2611, 0.003994348121741534), (2801, 0.003993951908114634), (2447, 0.003993248395081368), (822, 0.003990634089554539), (4184, 0.0039900364807717295), (1906, 0.003987301381179499), (2070, 0.003982409747744797), (1565, 0.00397969208997988), (1707, 0.003977927527988305), (114, 0.003977599781719224), (3376, 0.003975807114555797), (2709, 0.003975548265644452), (2495, 0.003973469003748829), (4738, 0.003972016913868277), (3662, 0.0039718305874983295), (3731, 0.0039705740384652025), (1227, 0.003969788051300527), (1644, 0.003969328083312182), (3188, 0.003969291071047483), (1133, 0.003965275092011555), (2387, 0.003965178820014184), (3104, 0.0039645138021034785), (3106, 0.003961237051203023), (4675, 0.003958879755234881), (1021, 0.0039582561116477), (1112, 0.003957931221071973), (3673, 0.003957726548724954), (1444, 0.003954228236081507), (1298, 0.003951804935652622), (2336, 0.003951515776550339), (2999, 0.003951286895938784), (3570, 0.003948958171884121), (1196, 0.0039478811932976655), (188, 0.003947879734510553), (4688, 0.00394574887998887), (3545, 0.003944281125455547), (2836, 0.003942927710892001), (1834, 0.00393951691337519), (1845, 0.003937247346755954), (1837, 0.003934817668133463), (1910, 0.003933308197676667), (4542, 0.003928829478156635), (50, 0.0039243574032379915), (1028, 0.003921949477046225), (3350, 0.0039203596126375735), (1279, 0.0039199822794841735), (1313, 0.003915829365139909), (1757, 0.003914630000551102), (3508, 0.003910721446969443), (2687, 0.003909610993185498), (1100, 0.003908053506933104), (3090, 0.003907668848474129), (3821, 0.003904650931429827), (983, 0.0039029099018045217), (2639, 0.0038988924484884982), (1286, 0.0038957333337852748), (2297, 0.0038951068061527983), (1084, 0.003893825814689599), (3580, 0.003893318721511067), (459, 0.003893105403624707), (2945, 0.0038898655314502533), (1094, 0.0038889228998967057), (3288, 0.0038880865680357523), (1842, 0.003888079182711661), (2087, 0.003886675943165631), (4530, 0.003886368644213855), (3400, 0.0038861933158069505), (3220, 0.0038837541992276362), (3713, 0.0038818478830225556), (3429, 0.003881650999178916), (2481, 0.003877278423225596), (4234, 0.0038765883243704656), (3927, 0.003875336349163466), (4327, 0.003872718741891807), (3402, 0.0038724051527536936), (2677, 0.003871787404885353), (1284, 0.003868320960015109), (503, 0.0038655951952824056), (755, 0.0038618694537996593), (1235, 0.0038593765974694106), (404, 0.003856396481780902), (2461, 0.00385295658739533), (662, 0.0038528825001983716), (3879, 0.0038526187439641714), (3375, 0.003852312400527033), (49, 0.0038517829515318336), (4367, 0.0038508858543909873), (1618, 0.0038477996535449636), (1261, 0.0038474505052041373), (3348, 0.0038457025710060414), (339, 0.003845515424860779), (4382, 0.0038425440741231332), (2693, 0.0038414522656164984), (2653, 0.0038346831323596395), (2467, 0.00383394861970422), (4314, 0.003831705622647221), (923, 0.003826877521511295), (1900, 0.003825855608731433), (2681, 0.003820417298396024), (1117, 0.003817469779702763), (3490, 0.0038160831731555633), (1582, 0.0038150329795485546), (2526, 0.0038094237459150786), (4434, 0.0038067005134441293), (1950, 0.003803019817307964), (3315, 0.0037961186484022184), (2309, 0.0037960096574039563), (3214, 0.0037937690626412717), (3824, 0.003792772425935066), (2620, 0.0037919363515733456), (1744, 0.003790945760255988), (1929, 0.003788332382111482), (4321, 0.0037832512202205094), (4213, 0.003778671997757035), (2140, 0.0037784945143577472), (1190, 0.003778053419741498), (1073, 0.003777977711157138), (2242, 0.0037771042928148152), (505, 0.0037750524849803142), (3177, 0.0037748462823678206), (4206, 0.003774670290037883), (1376, 0.0037733618698560173), (1878, 0.0037731078399083815), (1532, 0.003772055033037864), (4246, 0.0037625335670254554), (2271, 0.0037607270216121827), (1785, 0.0037602081211472044), (4071, 0.0037599348216255345), (3859, 0.0037586740778581327), (859, 0.0037562974410928333), (325, 0.003755128293723706), (422, 0.0037546092708841804), (3944, 0.0037530807784290406), (197, 0.0037521214527019395), (3194, 0.0037507707396036705), (3864, 0.0037500624467456333), (939, 0.003748159892669958), (1395, 0.0037477419387567986), (3811, 0.003746171928564507), (1663, 0.0037436279775735276), (2348, 0.0037430138119456204), (1139, 0.0037377033335519246), (2179, 0.0037330917260666287), (4254, 0.00373123181796437), (1203, 0.0037310820301406406), (1693, 0.0037310788821595217), (311, 0.003729867813822013), (1372, 0.003727685115602367), (3250, 0.0037269320292075084), (886, 0.0037254813872982656), (2594, 0.0037220860960773417), (941, 0.003721877657325625), (2170, 0.0037161899898903745), (2099, 0.00371424556834105), (648, 0.0037137610664951626), (1992, 0.003712478295206188), (2699, 0.0037073188577731414), (4603, 0.0037067769596831634), (1899, 0.00370457457213171), (3732, 0.003702253367815887), (1673, 0.003699460551380906), (2866, 0.0036977916852721474), (2201, 0.003696630982614684), (4356, 0.003695687976513981), (1353, 0.0036948553325579434), (3543, 0.003694030624979184), (4305, 0.0036916479389291178), (2272, 0.0036910808208806636), (3362, 0.0036867990155584614), (3500, 0.0036867502393982004), (1152, 0.0036841307127808624), (589, 0.0036828219569882176), (1610, 0.0036791894827386423), (3839, 0.0036653252067924635), (1543, 0.003661138473146258), (3753, 0.0036607561831297625), (168, 0.0036592077303906722), (2445, 0.0036574846662705074), (3767, 0.0036503602866989645), (4577, 0.0036486819653508266), (1331, 0.0036423178494752436), (3050, 0.003640765181257777), (3244, 0.0036402418662738346), (2225, 0.003639743868593217), (2207, 0.0036380699707689195), (3329, 0.0036328907547595094), (2007, 0.0036271837504967186), (1729, 0.0036193423060747972), (759, 0.0036180456328409544), (2728, 0.0036170779588995928), (3885, 0.003614994436131907), (3199, 0.0036054991071093816), (2063, 0.003602630488797355), (4191, 0.0035995253157012656), (2402, 0.00359877990664479), (3304, 0.0035982432151832762), (2542, 0.0035967757128159924), (473, 0.003595147633197671), (1827, 0.003593453310977353), (1093, 0.0035916417558764565), (1485, 0.0035852247055671847), (106, 0.003584045075394724), (3716, 0.0035715482019584104), (4304, 0.0035665356553085644), (2591, 0.0035651277595513493), (1980, 0.0035642348361933827), (3667, 0.003559631209734629), (3933, 0.0035421357018645444), (2833, 0.00354210642642104), (1978, 0.0035417945964074165), (383, 0.0035416140346675147), (3082, 0.0035343299267317583), (3485, 0.003531192021607151), (2264, 0.003530383559136753), (703, 0.003529851698115374), (4414, 0.0035286051658436203), (1694, 0.00352820769586497), (1652, 0.0035247916435110285), (2366, 0.0035241158173964504), (4104, 0.0035223498445443803), (1830, 0.0035210580415616943), (1954, 0.003520117006846962), (393, 0.00351907097525563), (3861, 0.0035187188666631103), (1251, 0.003516414710222218), (3755, 0.003512037405590947), (3356, 0.0035116334429158443), (712, 0.0035108439652423175), (4358, 0.0035060255060601186), (836, 0.0035032257298438546), (605, 0.0034966360335456233), (2636, 0.00349548239379669), (1405, 0.003493580414388207), (1616, 0.0034921561923441976), (1213, 0.0034907565475084355), (4066, 0.003489774040098048), (3983, 0.0034880461264157983), (4558, 0.0034818269410745012), (1684, 0.003480890398922338), (520, 0.003472124364791557), (2059, 0.003465711553257856), (2460, 0.0034631316658368626), (1217, 0.003449922748514045), (3509, 0.0034476886121794486), (892, 0.0034426011159915766), (103, 0.0034418986106781206), (3856, 0.003439101966015453), (1492, 0.003438906124286278), (629, 0.00343145053956625), (4426, 0.0034287827646320586), (2001, 0.0034218364546926886), (1323, 0.0034142699577959464), (4627, 0.003409797050771413), (1008, 0.0034051173595112034), (2168, 0.0034005113286991323), (1088, 0.003396979274175086), (1070, 0.003396420425833943), (2146, 0.003396003728039298), (2758, 0.0033749316048919953), (1340, 0.0033747405316513863), (1639, 0.0033640935417530715), (1300, 0.003360157525590897), (4636, 0.003351119680349696), (707, 0.0033423863649749944), (2157, 0.0033414344363782494), (2877, 0.0033361953491588647), (4610, 0.0033350979985313344), (1222, 0.0033312718390479256), (786, 0.0033282887277180716), (1062, 0.0033226801439916426), (2876, 0.0033188717952775584), (1367, 0.0033185029044846943), (1938, 0.0033131728979636605), (964, 0.00331275886899142), (293, 0.0033104735545521785), (1078, 0.003309329197321204), (1944, 0.003300456333279858), (3212, 0.0032942792377537657), (2508, 0.0032892646142497566), (4200, 0.0032855106197190124), (1752, 0.003285492933185879), (1427, 0.0032574946517893344), (366, 0.0032406741050169906), (4311, 0.003228514501073201), (4744, 0.003221394223453862), (506, 0.0032203012230532487), (1317, 0.003219692753524827), (3575, 0.003210362563800808), (2925, 0.00319056467995809), (1268, 0.003181313765688668), (1509, 0.0031806762354696155), (1871, 0.0031628260578250816), (1403, 0.0030531428956318963), (351, 0.0030317796638922733), (414, 0.0029841311862876), (2219, 0.0029326551024731026), (2064, 0.002926960039840623), (2671, 0.0029187033613696347), (940, 0.002781104533238929), (3421, 0.002749223009207878), (4, 0.0), (5, 0.0), (8, 0.0), (20, 0.0), (21, 0.0), (23, 0.0), (24, 0.0), (26, 0.0), (30, 0.0), (34, 0.0), (51, 0.0), (61, 0.0), (66, 0.0), (70, 0.0), (81, 0.0), (85, 0.0), (89, 0.0), (98, 0.0), (107, 0.0), (109, 0.0), (111, 0.0), (117, 0.0), (120, 0.0), (121, 0.0), (126, 0.0), (127, 0.0), (132, 0.0), (133, 0.0), (136, 0.0), (140, 0.0), (142, 0.0), (145, 0.0), (147, 0.0), (149, 0.0), (154, 0.0), (155, 0.0), (158, 0.0), (163, 0.0), (173, 0.0), (176, 0.0), (183, 0.0), (193, 0.0), (194, 0.0), (198, 0.0), (199, 0.0), (203, 0.0), (206, 0.0), (207, 0.0), (213, 0.0), (224, 0.0), (235, 0.0), (248, 0.0), (254, 0.0), (255, 0.0), (256, 0.0), (262, 0.0), (265, 0.0), (268, 0.0), (270, 0.0), (275, 0.0), (276, 0.0), (281, 0.0), (285, 0.0), (304, 0.0), (317, 0.0), (326, 0.0), (329, 0.0), (355, 0.0), (358, 0.0), (359, 0.0), (360, 0.0), (373, 0.0), (399, 0.0), (400, 0.0), (402, 0.0), (406, 0.0), (429, 0.0), (432, 0.0), (436, 0.0), (437, 0.0), (445, 0.0), (446, 0.0), (449, 0.0), (450, 0.0), (462, 0.0), (463, 0.0), (464, 0.0), (465, 0.0), (466, 0.0), (475, 0.0), (478, 0.0), (482, 0.0), (487, 0.0), (488, 0.0), (489, 0.0), (490, 0.0), (493, 0.0), (499, 0.0), (518, 0.0), (522, 0.0), (526, 0.0), (541, 0.0), (543, 0.0), (552, 0.0), (556, 0.0), (557, 0.0), (558, 0.0), (559, 0.0), (564, 0.0), (571, 0.0), (573, 0.0), (576, 0.0), (578, 0.0), (581, 0.0), (587, 0.0), (593, 0.0), (611, 0.0), (612, 0.0), (622, 0.0), (623, 0.0), (624, 0.0), (626, 0.0), (628, 0.0), (633, 0.0), (636, 0.0), (642, 0.0), (645, 0.0), (646, 0.0), (647, 0.0), (652, 0.0), (655, 0.0), (658, 0.0), (660, 0.0), (676, 0.0), (693, 0.0), (694, 0.0), (695, 0.0), (696, 0.0), (705, 0.0), (718, 0.0), (721, 0.0), (743, 0.0), (746, 0.0), (761, 0.0), (766, 0.0), (777, 0.0), (791, 0.0), (799, 0.0), (801, 0.0), (806, 0.0), (808, 0.0), (811, 0.0), (817, 0.0), (818, 0.0), (830, 0.0), (833, 0.0), (834, 0.0), (835, 0.0), (838, 0.0), (844, 0.0), (855, 0.0), (857, 0.0), (858, 0.0), (860, 0.0), (863, 0.0), (876, 0.0), (880, 0.0), (888, 0.0), (893, 0.0), (896, 0.0), (900, 0.0), (901, 0.0), (906, 0.0), (917, 0.0), (927, 0.0), (937, 0.0), (942, 0.0), (949, 0.0), (950, 0.0), (953, 0.0), (959, 0.0), (967, 0.0), (968, 0.0), (976, 0.0), (991, 0.0), (1009, 0.0), (1019, 0.0), (1020, 0.0), (1026, 0.0), (1030, 0.0), (1032, 0.0), (1034, 0.0), (1036, 0.0), (1042, 0.0), (1053, 0.0), (1058, 0.0), (1064, 0.0), (1072, 0.0), (1075, 0.0), (1081, 0.0), (1098, 0.0), (1116, 0.0), (1119, 0.0), (1123, 0.0), (1128, 0.0), (1145, 0.0), (1147, 0.0), (1148, 0.0), (1158, 0.0), (1159, 0.0), (1161, 0.0), (1163, 0.0), (1167, 0.0), (1181, 0.0), (1182, 0.0), (1188, 0.0), (1197, 0.0), (1202, 0.0), (1209, 0.0), (1237, 0.0), (1247, 0.0), (1255, 0.0), (1264, 0.0), (1271, 0.0), (1294, 0.0), (1303, 0.0), (1316, 0.0), (1325, 0.0), (1334, 0.0), (1339, 0.0), (1355, 0.0), (1356, 0.0), (1383, 0.0), (1391, 0.0), (1399, 0.0), (1407, 0.0), (1414, 0.0), (1415, 0.0), (1423, 0.0), (1428, 0.0), (1429, 0.0), (1434, 0.0), (1435, 0.0), (1439, 0.0), (1448, 0.0), (1449, 0.0), (1450, 0.0), (1462, 0.0), (1480, 0.0), (1481, 0.0), (1499, 0.0), (1519, 0.0), (1531, 0.0), (1534, 0.0), (1538, 0.0), (1550, 0.0), (1556, 0.0), (1562, 0.0), (1573, 0.0), (1580, 0.0), (1588, 0.0), (1593, 0.0), (1605, 0.0), (1606, 0.0), (1612, 0.0), (1621, 0.0), (1624, 0.0), (1625, 0.0), (1628, 0.0), (1631, 0.0), (1633, 0.0), (1641, 0.0), (1655, 0.0), (1661, 0.0), (1667, 0.0), (1670, 0.0), (1672, 0.0), (1674, 0.0), (1685, 0.0), (1703, 0.0), (1711, 0.0), (1712, 0.0), (1720, 0.0), (1724, 0.0), (1739, 0.0), (1747, 0.0), (1748, 0.0), (1753, 0.0), (1754, 0.0), (1760, 0.0), (1761, 0.0), (1763, 0.0), (1779, 0.0), (1780, 0.0), (1801, 0.0), (1811, 0.0), (1813, 0.0), (1814, 0.0), (1819, 0.0), (1820, 0.0), (1826, 0.0), (1829, 0.0), (1832, 0.0), (1835, 0.0), (1838, 0.0), (1840, 0.0), (1843, 0.0), (1854, 0.0), (1860, 0.0), (1862, 0.0), (1866, 0.0), (1869, 0.0), (1872, 0.0), (1873, 0.0), (1874, 0.0), (1884, 0.0), (1885, 0.0), (1890, 0.0), (1891, 0.0), (1892, 0.0), (1897, 0.0), (1916, 0.0), (1920, 0.0), (1924, 0.0), (1927, 0.0), (1930, 0.0), (1933, 0.0), (1940, 0.0), (1942, 0.0), (1959, 0.0), (1960, 0.0), (1962, 0.0), (1970, 0.0), (1972, 0.0), (1975, 0.0), (1979, 0.0), (1983, 0.0), (1993, 0.0), (2008, 0.0), (2039, 0.0), (2054, 0.0), (2057, 0.0), (2069, 0.0), (2080, 0.0), (2084, 0.0), (2089, 0.0), (2096, 0.0), (2104, 0.0), (2115, 0.0), (2119, 0.0), (2121, 0.0), (2129, 0.0), (2133, 0.0), (2141, 0.0), (2142, 0.0), (2144, 0.0), (2149, 0.0), (2162, 0.0), (2163, 0.0), (2165, 0.0), (2173, 0.0), (2174, 0.0), (2176, 0.0), (2189, 0.0), (2190, 0.0), (2191, 0.0), (2196, 0.0), (2213, 0.0), (2216, 0.0), (2220, 0.0), (2226, 0.0), (2229, 0.0), (2230, 0.0), (2231, 0.0), (2235, 0.0), (2244, 0.0), (2247, 0.0), (2248, 0.0), (2251, 0.0), (2253, 0.0), (2254, 0.0), (2255, 0.0), (2256, 0.0), (2266, 0.0), (2279, 0.0), (2288, 0.0), (2289, 0.0), (2293, 0.0), (2295, 0.0), (2300, 0.0), (2306, 0.0), (2310, 0.0), (2314, 0.0), (2321, 0.0), (2323, 0.0), (2328, 0.0), (2342, 0.0), (2343, 0.0), (2344, 0.0), (2346, 0.0), (2347, 0.0), (2349, 0.0), (2350, 0.0), (2354, 0.0), (2358, 0.0), (2359, 0.0), (2362, 0.0), (2370, 0.0), (2372, 0.0), (2374, 0.0), (2386, 0.0), (2388, 0.0), (2390, 0.0), (2392, 0.0), (2400, 0.0), (2401, 0.0), (2405, 0.0), (2407, 0.0), (2417, 0.0), (2419, 0.0), (2425, 0.0), (2437, 0.0), (2438, 0.0), (2448, 0.0), (2457, 0.0), (2462, 0.0), (2466, 0.0), (2469, 0.0), (2475, 0.0), (2477, 0.0), (2489, 0.0), (2502, 0.0), (2505, 0.0), (2517, 0.0), (2533, 0.0), (2538, 0.0), (2541, 0.0), (2545, 0.0), (2556, 0.0), (2557, 0.0), (2558, 0.0), (2565, 0.0), (2572, 0.0), (2577, 0.0), (2579, 0.0), (2580, 0.0), (2585, 0.0), (2593, 0.0), (2595, 0.0), (2596, 0.0), (2598, 0.0), (2602, 0.0), (2607, 0.0), (2614, 0.0), (2617, 0.0), (2623, 0.0), (2624, 0.0), (2628, 0.0), (2629, 0.0), (2630, 0.0), (2643, 0.0), (2649, 0.0), (2650, 0.0), (2651, 0.0), (2652, 0.0), (2655, 0.0), (2658, 0.0), (2664, 0.0), (2679, 0.0), (2683, 0.0), (2686, 0.0), (2692, 0.0), (2694, 0.0), (2695, 0.0), (2700, 0.0), (2705, 0.0), (2716, 0.0), (2717, 0.0), (2723, 0.0), (2733, 0.0), (2735, 0.0), (2743, 0.0), (2745, 0.0), (2750, 0.0), (2752, 0.0), (2753, 0.0), (2759, 0.0), (2762, 0.0), (2771, 0.0), (2773, 0.0), (2775, 0.0), (2783, 0.0), (2800, 0.0), (2821, 0.0), (2827, 0.0), (2831, 0.0), (2835, 0.0), (2839, 0.0), (2845, 0.0), (2848, 0.0), (2849, 0.0), (2851, 0.0), (2853, 0.0), (2861, 0.0), (2863, 0.0), (2865, 0.0), (2868, 0.0), (2869, 0.0), (2870, 0.0), (2871, 0.0), (2879, 0.0), (2883, 0.0), (2889, 0.0), (2890, 0.0), (2894, 0.0), (2901, 0.0), (2905, 0.0), (2907, 0.0), (2915, 0.0), (2916, 0.0), (2917, 0.0), (2919, 0.0), (2932, 0.0), (2934, 0.0), (2936, 0.0), (2949, 0.0), (2952, 0.0), (2953, 0.0), (2957, 0.0), (2961, 0.0), (2965, 0.0), (2966, 0.0), (2967, 0.0), (2974, 0.0), (2980, 0.0), (2984, 0.0), (2987, 0.0), (2988, 0.0), (2991, 0.0), (2993, 0.0), (2997, 0.0), (3000, 0.0), (3004, 0.0), (3005, 0.0), (3007, 0.0), (3008, 0.0), (3012, 0.0), (3013, 0.0), (3014, 0.0), (3019, 0.0), (3025, 0.0), (3029, 0.0), (3030, 0.0), (3031, 0.0), (3032, 0.0), (3036, 0.0), (3043, 0.0), (3049, 0.0), (3052, 0.0), (3067, 0.0), (3069, 0.0), (3072, 0.0), (3075, 0.0), (3076, 0.0), (3081, 0.0), (3086, 0.0), (3092, 0.0), (3093, 0.0), (3094, 0.0), (3095, 0.0), (3101, 0.0), (3110, 0.0), (3116, 0.0), (3117, 0.0), (3118, 0.0), (3119, 0.0), (3120, 0.0), (3128, 0.0), (3140, 0.0), (3148, 0.0), (3153, 0.0), (3154, 0.0), (3159, 0.0), (3167, 0.0), (3170, 0.0), (3171, 0.0), (3173, 0.0), (3176, 0.0), (3179, 0.0), (3184, 0.0), (3186, 0.0), (3216, 0.0), (3219, 0.0), (3235, 0.0), (3242, 0.0), (3243, 0.0), (3248, 0.0), (3251, 0.0), (3252, 0.0), (3254, 0.0), (3255, 0.0), (3261, 0.0), (3262, 0.0), (3268, 0.0), (3269, 0.0), (3273, 0.0), (3274, 0.0), (3278, 0.0), (3279, 0.0), (3292, 0.0), (3296, 0.0), (3300, 0.0), (3301, 0.0), (3302, 0.0), (3314, 0.0), (3318, 0.0), (3322, 0.0), (3325, 0.0), (3326, 0.0), (3333, 0.0), (3334, 0.0), (3335, 0.0), (3338, 0.0), (3341, 0.0), (3347, 0.0), (3353, 0.0), (3354, 0.0), (3359, 0.0), (3363, 0.0), (3369, 0.0), (3370, 0.0), (3372, 0.0), (3379, 0.0), (3380, 0.0), (3381, 0.0), (3390, 0.0), (3391, 0.0), (3392, 0.0), (3396, 0.0), (3398, 0.0), (3401, 0.0), (3406, 0.0), (3417, 0.0), (3423, 0.0), (3425, 0.0), (3431, 0.0), (3434, 0.0), (3455, 0.0), (3460, 0.0), (3470, 0.0), (3476, 0.0), (3478, 0.0), (3483, 0.0), (3487, 0.0), (3488, 0.0), (3495, 0.0), (3497, 0.0), (3498, 0.0), (3499, 0.0), (3501, 0.0), (3505, 0.0), (3511, 0.0), (3521, 0.0), (3523, 0.0), (3524, 0.0), (3527, 0.0), (3530, 0.0), (3534, 0.0), (3535, 0.0), (3540, 0.0), (3548, 0.0), (3550, 0.0), (3553, 0.0), (3558, 0.0), (3561, 0.0), (3573, 0.0), (3583, 0.0), (3590, 0.0), (3596, 0.0), (3607, 0.0), (3608, 0.0), (3611, 0.0), (3613, 0.0), (3617, 0.0), (3619, 0.0), (3620, 0.0), (3624, 0.0), (3627, 0.0), (3631, 0.0), (3636, 0.0), (3639, 0.0), (3640, 0.0), (3647, 0.0), (3653, 0.0), (3656, 0.0), (3659, 0.0), (3663, 0.0), (3664, 0.0), (3669, 0.0), (3670, 0.0), (3672, 0.0), (3675, 0.0), (3679, 0.0), (3682, 0.0), (3687, 0.0), (3691, 0.0), (3702, 0.0), (3704, 0.0), (3705, 0.0), (3717, 0.0), (3719, 0.0), (3721, 0.0), (3725, 0.0), (3727, 0.0), (3729, 0.0), (3737, 0.0), (3745, 0.0), (3749, 0.0), (3750, 0.0), (3756, 0.0), (3760, 0.0), (3761, 0.0), (3762, 0.0), (3766, 0.0), (3768, 0.0), (3769, 0.0), (3770, 0.0), (3779, 0.0), (3788, 0.0), (3793, 0.0), (3799, 0.0), (3804, 0.0), (3806, 0.0), (3809, 0.0), (3813, 0.0), (3815, 0.0), (3816, 0.0), (3827, 0.0), (3828, 0.0), (3830, 0.0), (3833, 0.0), (3835, 0.0), (3843, 0.0), (3847, 0.0), (3848, 0.0), (3853, 0.0), (3863, 0.0), (3867, 0.0), (3872, 0.0), (3874, 0.0), (3876, 0.0), (3878, 0.0), (3880, 0.0), (3883, 0.0), (3884, 0.0), (3887, 0.0), (3899, 0.0), (3901, 0.0), (3904, 0.0), (3906, 0.0), (3911, 0.0), (3915, 0.0), (3918, 0.0), (3925, 0.0), (3929, 0.0), (3932, 0.0), (3935, 0.0), (3939, 0.0), (3940, 0.0), (3942, 0.0), (3945, 0.0), (3948, 0.0), (3954, 0.0), (3956, 0.0), (3974, 0.0), (3976, 0.0), (3981, 0.0), (3985, 0.0), (3987, 0.0), (3989, 0.0), (3990, 0.0), (3995, 0.0), (4000, 0.0), (4017, 0.0), (4019, 0.0), (4021, 0.0), (4022, 0.0), (4024, 0.0), (4028, 0.0), (4030, 0.0), (4042, 0.0), (4047, 0.0), (4048, 0.0), (4050, 0.0), (4065, 0.0), (4067, 0.0), (4072, 0.0), (4075, 0.0), (4078, 0.0), (4079, 0.0), (4080, 0.0), (4082, 0.0), (4083, 0.0), (4085, 0.0), (4092, 0.0), (4096, 0.0), (4101, 0.0), (4107, 0.0), (4123, 0.0), (4126, 0.0), (4129, 0.0), (4134, 0.0), (4141, 0.0), (4146, 0.0), (4150, 0.0), (4151, 0.0), (4159, 0.0), (4161, 0.0), (4162, 0.0), (4163, 0.0), (4164, 0.0), (4167, 0.0), (4169, 0.0), (4170, 0.0), (4172, 0.0), (4175, 0.0), (4177, 0.0), (4178, 0.0), (4179, 0.0), (4183, 0.0), (4187, 0.0), (4208, 0.0), (4209, 0.0), (4212, 0.0), (4215, 0.0), (4216, 0.0), (4219, 0.0), (4225, 0.0), (4227, 0.0), (4229, 0.0), (4230, 0.0), (4231, 0.0), (4232, 0.0), (4235, 0.0), (4245, 0.0), (4247, 0.0), (4251, 0.0), (4253, 0.0), (4268, 0.0), (4275, 0.0), (4277, 0.0), (4278, 0.0), (4280, 0.0), (4296, 0.0), (4298, 0.0), (4299, 0.0), (4301, 0.0), (4306, 0.0), (4307, 0.0), (4309, 0.0), (4313, 0.0), (4316, 0.0), (4320, 0.0), (4322, 0.0), (4326, 0.0), (4331, 0.0), (4333, 0.0), (4337, 0.0), (4343, 0.0), (4350, 0.0), (4355, 0.0), (4359, 0.0), (4361, 0.0), (4362, 0.0), (4366, 0.0), (4369, 0.0), (4372, 0.0), (4375, 0.0), (4377, 0.0), (4380, 0.0), (4381, 0.0), (4386, 0.0), (4397, 0.0), (4400, 0.0), (4407, 0.0), (4409, 0.0), (4412, 0.0), (4417, 0.0), (4423, 0.0), (4424, 0.0), (4425, 0.0), (4427, 0.0), (4458, 0.0), (4461, 0.0), (4464, 0.0), (4469, 0.0), (4470, 0.0), (4474, 0.0), (4475, 0.0), (4476, 0.0), (4485, 0.0), (4488, 0.0), (4494, 0.0), (4495, 0.0), (4497, 0.0), (4499, 0.0), (4500, 0.0), (4502, 0.0), (4508, 0.0), (4510, 0.0), (4512, 0.0), (4513, 0.0), (4517, 0.0), (4520, 0.0), (4521, 0.0), (4525, 0.0), (4527, 0.0), (4528, 0.0), (4529, 0.0), (4532, 0.0), (4538, 0.0), (4539, 0.0), (4540, 0.0), (4544, 0.0), (4545, 0.0), (4554, 0.0), (4561, 0.0), (4563, 0.0), (4565, 0.0), (4572, 0.0), (4574, 0.0), (4575, 0.0), (4578, 0.0), (4579, 0.0), (4582, 0.0), (4583, 0.0), (4585, 0.0), (4587, 0.0), (4593, 0.0), (4598, 0.0), (4601, 0.0), (4602, 0.0), (4607, 0.0), (4611, 0.0), (4614, 0.0), (4616, 0.0), (4617, 0.0), (4618, 0.0), (4620, 0.0), (4623, 0.0), (4625, 0.0), (4632, 0.0), (4637, 0.0), (4639, 0.0), (4644, 0.0), (4645, 0.0), (4651, 0.0), (4654, 0.0), (4657, 0.0), (4662, 0.0), (4664, 0.0), (4665, 0.0), (4668, 0.0), (4669, 0.0), (4671, 0.0), (4672, 0.0), (4680, 0.0), (4681, 0.0), (4691, 0.0), (4692, 0.0), (4693, 0.0), (4696, 0.0), (4699, 0.0), (4701, 0.0), (4704, 0.0), (4707, 0.0), (4710, 0.0), (4712, 0.0), (4713, 0.0), (4715, 0.0), (4718, 0.0), (4724, 0.0), (4728, 0.0), (4729, 0.0), (4735, 0.0), (4736, 0.0), (4740, 0.0), (4749, 0.0), (4750, 0.0), (4751, 0.0), (4753, 0.0), (4757, 0.0), (4758, 0.0), (4759, 0.0)]\n"
          ]
        }
      ]
    },
    {
      "cell_type": "code",
      "source": [
        "# Prediction"
      ],
      "metadata": {
        "id": "i0L0MGKaaeVb"
      },
      "execution_count": 68,
      "outputs": []
    },
    {
      "cell_type": "code",
      "source": [
        "# print the name of similar movies based on the index\n",
        "\n",
        "print('Top 30 Movies suggested for you:\\n')\n",
        "\n",
        "i = 1\n",
        "for movie in Sorted_similar_movies:\n",
        "  index = movie[0]\n",
        "  title_from_index = df[df.index == index]['Movie_Title'].values[0]\n",
        "  if (i<31):\n",
        "    print(i,'.',title_from_index)\n",
        "    i+=1"
      ],
      "metadata": {
        "colab": {
          "base_uri": "https://localhost:8080/"
        },
        "id": "YE0hnOLfY5sr",
        "outputId": "1ebc0a3f-45e8-4bd4-ed06-74edc76de9fe"
      },
      "execution_count": 65,
      "outputs": [
        {
          "output_type": "stream",
          "name": "stdout",
          "text": [
            "Top 30 Movies suggested for you:\n",
            "\n",
            "1 . Men in Black II\n",
            "2 . Men in Black\n",
            "3 . Sunshine\n",
            "4 . Men in Black 3\n",
            "5 . Space Cowboys\n",
            "6 . Wild Wild West\n",
            "7 . The Helix... Loaded\n",
            "8 . AVP: Alien vs. Predator\n",
            "9 . The Three Burials of Melquiades Estrada\n",
            "10 . Megamind\n",
            "11 . Soldier\n",
            "12 . The Hangover Part II\n",
            "13 . The Homesman\n",
            "14 . Hansel and Gretel Get Baked\n",
            "15 . Baby's Day Out\n",
            "16 . Captain America: The First Avenger\n",
            "17 . Poltergeist III\n",
            "18 . Alien\n",
            "19 . I Am Legend\n",
            "20 . Event Horizon\n",
            "21 . Forty Shades of Blue\n",
            "22 . Battle: Los Angeles\n",
            "23 . Journey to the Center of the Earth\n",
            "24 . Moonraker\n",
            "25 . Armageddon\n",
            "26 . Mars Attacks!\n",
            "27 . The Fugitive\n",
            "28 . Sphere\n",
            "29 . Wayne's World\n",
            "30 . Planet of the Apes\n"
          ]
        }
      ]
    },
    {
      "cell_type": "code",
      "source": [],
      "metadata": {
        "id": "cshASN3WY_lz"
      },
      "execution_count": null,
      "outputs": []
    }
  ]
}